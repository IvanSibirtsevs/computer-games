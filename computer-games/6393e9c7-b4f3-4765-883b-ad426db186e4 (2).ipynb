{
 "cells": [
  {
   "cell_type": "markdown",
   "metadata": {},
   "source": [
    "# Определение успешных компьютерных игр на следующий год \n",
    "\n",
    "Для интернет-магазина «Стримчик», который продает компьютерные игры, необходимо найти закономерности которые делают игру успешной. Из вводных данных доступна информация за пошлые года. По ней нужно определить какую рекламу нужно запускать в каком и регионов. И какие игры будут популярны в следующем году"
   ]
  },
  {
   "cell_type": "markdown",
   "metadata": {},
   "source": [
    "## Общая информация"
   ]
  },
  {
   "cell_type": "code",
   "execution_count": 1,
   "metadata": {},
   "outputs": [],
   "source": [
    "import pandas as pd\n",
    "from functools import reduce\n",
    "import matplotlib.pyplot as plt\n",
    "import numpy as np\n",
    "import seaborn as sns\n",
    "from scipy import stats as st"
   ]
  },
  {
   "cell_type": "code",
   "execution_count": 2,
   "metadata": {},
   "outputs": [
    {
     "name": "stdout",
     "output_type": "stream",
     "text": [
      "<class 'pandas.core.frame.DataFrame'>\n",
      "RangeIndex: 16715 entries, 0 to 16714\n",
      "Data columns (total 11 columns):\n",
      "Name               16713 non-null object\n",
      "Platform           16715 non-null object\n",
      "Year_of_Release    16446 non-null float64\n",
      "Genre              16713 non-null object\n",
      "NA_sales           16715 non-null float64\n",
      "EU_sales           16715 non-null float64\n",
      "JP_sales           16715 non-null float64\n",
      "Other_sales        16715 non-null float64\n",
      "Critic_Score       8137 non-null float64\n",
      "User_Score         10014 non-null object\n",
      "Rating             9949 non-null object\n",
      "dtypes: float64(6), object(5)\n",
      "memory usage: 1.4+ MB\n"
     ]
    },
    {
     "data": {
      "text/html": [
       "<div>\n",
       "<style scoped>\n",
       "    .dataframe tbody tr th:only-of-type {\n",
       "        vertical-align: middle;\n",
       "    }\n",
       "\n",
       "    .dataframe tbody tr th {\n",
       "        vertical-align: top;\n",
       "    }\n",
       "\n",
       "    .dataframe thead th {\n",
       "        text-align: right;\n",
       "    }\n",
       "</style>\n",
       "<table border=\"1\" class=\"dataframe\">\n",
       "  <thead>\n",
       "    <tr style=\"text-align: right;\">\n",
       "      <th></th>\n",
       "      <th>Name</th>\n",
       "      <th>Platform</th>\n",
       "      <th>Year_of_Release</th>\n",
       "      <th>Genre</th>\n",
       "      <th>NA_sales</th>\n",
       "      <th>EU_sales</th>\n",
       "      <th>JP_sales</th>\n",
       "      <th>Other_sales</th>\n",
       "      <th>Critic_Score</th>\n",
       "      <th>User_Score</th>\n",
       "      <th>Rating</th>\n",
       "    </tr>\n",
       "  </thead>\n",
       "  <tbody>\n",
       "    <tr>\n",
       "      <td>0</td>\n",
       "      <td>Wii Sports</td>\n",
       "      <td>Wii</td>\n",
       "      <td>2006.0</td>\n",
       "      <td>Sports</td>\n",
       "      <td>41.36</td>\n",
       "      <td>28.96</td>\n",
       "      <td>3.77</td>\n",
       "      <td>8.45</td>\n",
       "      <td>76.0</td>\n",
       "      <td>8</td>\n",
       "      <td>E</td>\n",
       "    </tr>\n",
       "    <tr>\n",
       "      <td>1</td>\n",
       "      <td>Super Mario Bros.</td>\n",
       "      <td>NES</td>\n",
       "      <td>1985.0</td>\n",
       "      <td>Platform</td>\n",
       "      <td>29.08</td>\n",
       "      <td>3.58</td>\n",
       "      <td>6.81</td>\n",
       "      <td>0.77</td>\n",
       "      <td>NaN</td>\n",
       "      <td>NaN</td>\n",
       "      <td>NaN</td>\n",
       "    </tr>\n",
       "    <tr>\n",
       "      <td>2</td>\n",
       "      <td>Mario Kart Wii</td>\n",
       "      <td>Wii</td>\n",
       "      <td>2008.0</td>\n",
       "      <td>Racing</td>\n",
       "      <td>15.68</td>\n",
       "      <td>12.76</td>\n",
       "      <td>3.79</td>\n",
       "      <td>3.29</td>\n",
       "      <td>82.0</td>\n",
       "      <td>8.3</td>\n",
       "      <td>E</td>\n",
       "    </tr>\n",
       "    <tr>\n",
       "      <td>3</td>\n",
       "      <td>Wii Sports Resort</td>\n",
       "      <td>Wii</td>\n",
       "      <td>2009.0</td>\n",
       "      <td>Sports</td>\n",
       "      <td>15.61</td>\n",
       "      <td>10.93</td>\n",
       "      <td>3.28</td>\n",
       "      <td>2.95</td>\n",
       "      <td>80.0</td>\n",
       "      <td>8</td>\n",
       "      <td>E</td>\n",
       "    </tr>\n",
       "    <tr>\n",
       "      <td>4</td>\n",
       "      <td>Pokemon Red/Pokemon Blue</td>\n",
       "      <td>GB</td>\n",
       "      <td>1996.0</td>\n",
       "      <td>Role-Playing</td>\n",
       "      <td>11.27</td>\n",
       "      <td>8.89</td>\n",
       "      <td>10.22</td>\n",
       "      <td>1.00</td>\n",
       "      <td>NaN</td>\n",
       "      <td>NaN</td>\n",
       "      <td>NaN</td>\n",
       "    </tr>\n",
       "    <tr>\n",
       "      <td>5</td>\n",
       "      <td>Tetris</td>\n",
       "      <td>GB</td>\n",
       "      <td>1989.0</td>\n",
       "      <td>Puzzle</td>\n",
       "      <td>23.20</td>\n",
       "      <td>2.26</td>\n",
       "      <td>4.22</td>\n",
       "      <td>0.58</td>\n",
       "      <td>NaN</td>\n",
       "      <td>NaN</td>\n",
       "      <td>NaN</td>\n",
       "    </tr>\n",
       "    <tr>\n",
       "      <td>6</td>\n",
       "      <td>New Super Mario Bros.</td>\n",
       "      <td>DS</td>\n",
       "      <td>2006.0</td>\n",
       "      <td>Platform</td>\n",
       "      <td>11.28</td>\n",
       "      <td>9.14</td>\n",
       "      <td>6.50</td>\n",
       "      <td>2.88</td>\n",
       "      <td>89.0</td>\n",
       "      <td>8.5</td>\n",
       "      <td>E</td>\n",
       "    </tr>\n",
       "    <tr>\n",
       "      <td>7</td>\n",
       "      <td>Wii Play</td>\n",
       "      <td>Wii</td>\n",
       "      <td>2006.0</td>\n",
       "      <td>Misc</td>\n",
       "      <td>13.96</td>\n",
       "      <td>9.18</td>\n",
       "      <td>2.93</td>\n",
       "      <td>2.84</td>\n",
       "      <td>58.0</td>\n",
       "      <td>6.6</td>\n",
       "      <td>E</td>\n",
       "    </tr>\n",
       "    <tr>\n",
       "      <td>8</td>\n",
       "      <td>New Super Mario Bros. Wii</td>\n",
       "      <td>Wii</td>\n",
       "      <td>2009.0</td>\n",
       "      <td>Platform</td>\n",
       "      <td>14.44</td>\n",
       "      <td>6.94</td>\n",
       "      <td>4.70</td>\n",
       "      <td>2.24</td>\n",
       "      <td>87.0</td>\n",
       "      <td>8.4</td>\n",
       "      <td>E</td>\n",
       "    </tr>\n",
       "    <tr>\n",
       "      <td>9</td>\n",
       "      <td>Duck Hunt</td>\n",
       "      <td>NES</td>\n",
       "      <td>1984.0</td>\n",
       "      <td>Shooter</td>\n",
       "      <td>26.93</td>\n",
       "      <td>0.63</td>\n",
       "      <td>0.28</td>\n",
       "      <td>0.47</td>\n",
       "      <td>NaN</td>\n",
       "      <td>NaN</td>\n",
       "      <td>NaN</td>\n",
       "    </tr>\n",
       "  </tbody>\n",
       "</table>\n",
       "</div>"
      ],
      "text/plain": [
       "                        Name Platform  Year_of_Release         Genre  \\\n",
       "0                 Wii Sports      Wii           2006.0        Sports   \n",
       "1          Super Mario Bros.      NES           1985.0      Platform   \n",
       "2             Mario Kart Wii      Wii           2008.0        Racing   \n",
       "3          Wii Sports Resort      Wii           2009.0        Sports   \n",
       "4   Pokemon Red/Pokemon Blue       GB           1996.0  Role-Playing   \n",
       "5                     Tetris       GB           1989.0        Puzzle   \n",
       "6      New Super Mario Bros.       DS           2006.0      Platform   \n",
       "7                   Wii Play      Wii           2006.0          Misc   \n",
       "8  New Super Mario Bros. Wii      Wii           2009.0      Platform   \n",
       "9                  Duck Hunt      NES           1984.0       Shooter   \n",
       "\n",
       "   NA_sales  EU_sales  JP_sales  Other_sales  Critic_Score User_Score Rating  \n",
       "0     41.36     28.96      3.77         8.45          76.0          8      E  \n",
       "1     29.08      3.58      6.81         0.77           NaN        NaN    NaN  \n",
       "2     15.68     12.76      3.79         3.29          82.0        8.3      E  \n",
       "3     15.61     10.93      3.28         2.95          80.0          8      E  \n",
       "4     11.27      8.89     10.22         1.00           NaN        NaN    NaN  \n",
       "5     23.20      2.26      4.22         0.58           NaN        NaN    NaN  \n",
       "6     11.28      9.14      6.50         2.88          89.0        8.5      E  \n",
       "7     13.96      9.18      2.93         2.84          58.0        6.6      E  \n",
       "8     14.44      6.94      4.70         2.24          87.0        8.4      E  \n",
       "9     26.93      0.63      0.28         0.47           NaN        NaN    NaN  "
      ]
     },
     "execution_count": 2,
     "metadata": {},
     "output_type": "execute_result"
    }
   ],
   "source": [
    "data = pd.read_csv(\"/datasets/games.csv\")\n",
    "data.info()\n",
    "data.head(10)"
   ]
  },
  {
   "cell_type": "markdown",
   "metadata": {},
   "source": [
    "## Подготовка данных"
   ]
  },
  {
   "cell_type": "code",
   "execution_count": 3,
   "metadata": {},
   "outputs": [],
   "source": [
    "#Замена названий столбцов\n",
    "data = data.rename(columns = {'Name':'name', 'Platform': 'platform', 'Year_of_Release': 'year_of_release', 'Genre': 'genre', 'NA_sales': 'na_sales', 'EU_sales': 'eu_sales', 'JP_sales': 'jp_sales', 'Other_sales': 'other_sales', 'Critic_Score':'critic_score', 'User_Score': 'user_score', 'Rating': 'rating'}, inplace = False)"
   ]
  },
  {
   "cell_type": "code",
   "execution_count": 4,
   "metadata": {},
   "outputs": [],
   "source": [
    "# Замена типа значения на Int\n",
    "data['year_of_release'] = data['year_of_release'].astype('Int64')\n",
    "data['critic_score'] = data['critic_score'].astype('Int64')"
   ]
  },
  {
   "cell_type": "code",
   "execution_count": 5,
   "metadata": {},
   "outputs": [
    {
     "name": "stdout",
     "output_type": "stream",
     "text": [
      "Количество игр: 11559\n",
      "E       3990\n",
      "T       2961\n",
      "M       1563\n",
      "E10+    1420\n",
      "EC         8\n",
      "K-A        3\n",
      "RP         3\n",
      "AO         1\n",
      "Name: rating, dtype: int64\n"
     ]
    },
    {
     "data": {
      "text/plain": [
       "0.0012976901116013497"
      ]
     },
     "execution_count": 5,
     "metadata": {},
     "output_type": "execute_result"
    }
   ],
   "source": [
    "print(f'Количество игр: {data.reset_index().name.nunique()}')\n",
    "print(data['rating'].value_counts())\n",
    "15/11559"
   ]
  },
  {
   "cell_type": "code",
   "execution_count": 6,
   "metadata": {
    "scrolled": true
   },
   "outputs": [],
   "source": [
    "# Удаление слишком редких значений. (Они повлияют на конечный результат)\n",
    "data = data.drop(data[data.rating == 'EC' ].index) \n",
    "data = data.drop(data[data.rating == 'RP'].index)\n",
    "data = data.drop(data[data.rating == 'K-A'].index)\n",
    "data = data.drop(data[data.rating == 'AO'].index)"
   ]
  },
  {
   "cell_type": "code",
   "execution_count": 7,
   "metadata": {},
   "outputs": [],
   "source": [
    "data.dropna(subset = ['genre'], inplace = True) # удаление пропусков\n",
    "data.loc[data['user_score'] == 'tbd', 'user_score'] = None # Замена значения tbd на None\n",
    "data['user_score'] = data['user_score'].astype('float')\n",
    "\n",
    "data['critic_score'] = data['critic_score'].fillna(value = -5) # замена пропусщеных значений -5 (потом будет легко найти и исключить)\n",
    "data['user_score'] = data['user_score'].fillna(value = -5) # замена пропусщеных значений на -5"
   ]
  },
  {
   "cell_type": "markdown",
   "metadata": {},
   "source": [
    "***Я заменил эти значения на -5 что бы потом было легко их найти и исключить***"
   ]
  },
  {
   "cell_type": "markdown",
   "metadata": {},
   "source": [
    "***Причины замены данных:***\n",
    "    \n",
    "- В столбце genre всего 2 пропуска поэтому мы их удаляем \n",
    "- В столбце user score есть значение tbd что значит (будет определена позднее) поэтому заменям на None\n",
    "    после заменяем все значения None на медиану.\n",
    "- В столбце user score заменяем все значение None на медиану \n",
    "\n",
    "- В столбце rating удаляем выбросы.(игр с таким рейтингом слишком мало)\n",
    "- Также в столбцах year of release, critic_score и user score меняем тип данных\n"
   ]
  },
  {
   "cell_type": "code",
   "execution_count": 8,
   "metadata": {},
   "outputs": [
    {
     "name": "stdout",
     "output_type": "stream",
     "text": [
      "0    82.54\n",
      "1    40.24\n",
      "2    35.52\n",
      "3    32.77\n",
      "4    31.38\n",
      "5    30.26\n",
      "6    29.80\n",
      "7    28.91\n",
      "8    28.32\n",
      "9    28.31\n",
      "Name: all_sales, dtype: float64\n"
     ]
    }
   ],
   "source": [
    "data['all_sales'] = data['na_sales'] + data['eu_sales'] + data['jp_sales'] + data['other_sales'] # Все продажи\n",
    "print(data['all_sales'].head(10))"
   ]
  },
  {
   "cell_type": "markdown",
   "metadata": {},
   "source": [
    "## Исследовательский анализ данных"
   ]
  },
  {
   "cell_type": "code",
   "execution_count": 9,
   "metadata": {},
   "outputs": [
    {
     "data": {
      "text/plain": [
       "Text(0.5, 1.0, 'Количество проданных игр по годам')"
      ]
     },
     "execution_count": 9,
     "metadata": {},
     "output_type": "execute_result"
    },
    {
     "data": {
      "image/png": "[encoded data removed]",
      "text/plain": [
       "<Figure size 1440x360 with 1 Axes>"
      ]
     },
     "metadata": {
      "needs_background": "light"
     },
     "output_type": "display_data"
    }
   ],
   "source": [
    "data.pivot_table(index=\"year_of_release\", values=\"all_sales\", aggfunc='count').plot(kind=\"bar\", grid=True, figsize=(20, 5)) # Количество проданных игр по годам\n",
    "plt.xlabel('год')\n",
    "plt.ylabel('Количество игр')\n",
    "plt.title('Количество проданных игр по годам')"
   ]
  },
  {
   "cell_type": "markdown",
   "metadata": {},
   "source": [
    "***Судя по графику данные после 1994 нам не сильно важны***"
   ]
  },
  {
   "cell_type": "code",
   "execution_count": 10,
   "metadata": {},
   "outputs": [],
   "source": [
    "# Сортировка Платформ по году релиза игр \n",
    "sails_year = data.pivot_table(index='year_of_release', columns='platform', values='all_sales', aggfunc='sum')\n",
    "sails_year.fillna(0, inplace=True)\n"
   ]
  },
  {
   "cell_type": "code",
   "execution_count": 11,
   "metadata": {},
   "outputs": [
    {
     "name": "stdout",
     "output_type": "stream",
     "text": [
      "[10, 2, 6, 7, 11, 13, 8, 7, 5, 1, 7, 12, 4, 26, 1, 10, 12, 11, 4, 12, 6, 6, 2, 10, 1, 3, 11, 5, 12, 9, 4]\n"
     ]
    },
    {
     "data": {
      "text/plain": [
       "'\\nМне кажется это не самое простое решение, Если это так можете подсказать как написать вариант получше.\\n\\n'"
      ]
     },
     "execution_count": 11,
     "metadata": {},
     "output_type": "execute_result"
    }
   ],
   "source": [
    "notnull=[] # Пустой список \n",
    "#Считаем количество не нулевых значений для каждой приставки по годам.\n",
    "for platform in sails_year.columns:\n",
    "    notnull.append(sails_year[platform].ne(0).value_counts().loc[sails_year[platform].ne(0).value_counts().index == True].values[0])\n",
    "print(notnull)    \n",
    "\n",
    "'''\n",
    "Мне кажется это не самое простое решение, Если это так можете подсказать как написать вариант получше.\n",
    "\n",
    "'''"
   ]
  },
  {
   "cell_type": "code",
   "execution_count": 12,
   "metadata": {},
   "outputs": [
    {
     "data": {
      "text/html": [
       "<div>\n",
       "<style scoped>\n",
       "    .dataframe tbody tr th:only-of-type {\n",
       "        vertical-align: middle;\n",
       "    }\n",
       "\n",
       "    .dataframe tbody tr th {\n",
       "        vertical-align: top;\n",
       "    }\n",
       "\n",
       "    .dataframe thead th {\n",
       "        text-align: right;\n",
       "    }\n",
       "</style>\n",
       "<table border=\"1\" class=\"dataframe\">\n",
       "  <thead>\n",
       "    <tr style=\"text-align: right;\">\n",
       "      <th></th>\n",
       "      <th>seling</th>\n",
       "    </tr>\n",
       "  </thead>\n",
       "  <tbody>\n",
       "    <tr>\n",
       "      <td>count</td>\n",
       "      <td>31.000000</td>\n",
       "    </tr>\n",
       "    <tr>\n",
       "      <td>mean</td>\n",
       "      <td>7.677419</td>\n",
       "    </tr>\n",
       "    <tr>\n",
       "      <td>std</td>\n",
       "      <td>5.081910</td>\n",
       "    </tr>\n",
       "    <tr>\n",
       "      <td>min</td>\n",
       "      <td>1.000000</td>\n",
       "    </tr>\n",
       "    <tr>\n",
       "      <td>25%</td>\n",
       "      <td>4.000000</td>\n",
       "    </tr>\n",
       "    <tr>\n",
       "      <td>50%</td>\n",
       "      <td>7.000000</td>\n",
       "    </tr>\n",
       "    <tr>\n",
       "      <td>75%</td>\n",
       "      <td>11.000000</td>\n",
       "    </tr>\n",
       "    <tr>\n",
       "      <td>max</td>\n",
       "      <td>26.000000</td>\n",
       "    </tr>\n",
       "  </tbody>\n",
       "</table>\n",
       "</div>"
      ],
      "text/plain": [
       "          seling\n",
       "count  31.000000\n",
       "mean    7.677419\n",
       "std     5.081910\n",
       "min     1.000000\n",
       "25%     4.000000\n",
       "50%     7.000000\n",
       "75%    11.000000\n",
       "max    26.000000"
      ]
     },
     "execution_count": 12,
     "metadata": {},
     "output_type": "execute_result"
    }
   ],
   "source": [
    "notnull = pd.DataFrame(notnull, columns=['seling']) # создаем датафрейм\n",
    "notnull.describe()  # узнаем медиану"
   ]
  },
  {
   "cell_type": "code",
   "execution_count": 13,
   "metadata": {
    "scrolled": true
   },
   "outputs": [
    {
     "data": {
      "text/plain": [
       "Text(0.5, 1.0, 'Количество консолей по годам')"
      ]
     },
     "execution_count": 13,
     "metadata": {},
     "output_type": "execute_result"
    },
    {
     "data": {
      "image/png": "[encoded data removed]",
      "text/plain": [
       "<Figure size 432x288 with 1 Axes>"
      ]
     },
     "metadata": {
      "needs_background": "light"
     },
     "output_type": "display_data"
    }
   ],
   "source": [
    "notnull.hist(bins=50) # Гисторамма \n",
    "plt.xlabel('количество лет')\n",
    "plt.ylabel('Количество консолей')\n",
    "plt.title('Количество консолей по годам')"
   ]
  },
  {
   "cell_type": "markdown",
   "metadata": {},
   "source": [
    "***Среднее время выпуска игр на консоль около 7 лет.***"
   ]
  },
  {
   "cell_type": "code",
   "execution_count": 14,
   "metadata": {},
   "outputs": [
    {
     "data": {
      "text/html": [
       "<div>\n",
       "<style scoped>\n",
       "    .dataframe tbody tr th:only-of-type {\n",
       "        vertical-align: middle;\n",
       "    }\n",
       "\n",
       "    .dataframe tbody tr th {\n",
       "        vertical-align: top;\n",
       "    }\n",
       "\n",
       "    .dataframe thead th {\n",
       "        text-align: right;\n",
       "    }\n",
       "</style>\n",
       "<table border=\"1\" class=\"dataframe\">\n",
       "  <thead>\n",
       "    <tr style=\"text-align: right;\">\n",
       "      <th></th>\n",
       "      <th>all_sales</th>\n",
       "    </tr>\n",
       "    <tr>\n",
       "      <th>platform</th>\n",
       "      <th></th>\n",
       "    </tr>\n",
       "  </thead>\n",
       "  <tbody>\n",
       "    <tr>\n",
       "      <td>PS2</td>\n",
       "      <td>1255.53</td>\n",
       "    </tr>\n",
       "    <tr>\n",
       "      <td>X360</td>\n",
       "      <td>971.42</td>\n",
       "    </tr>\n",
       "    <tr>\n",
       "      <td>PS3</td>\n",
       "      <td>939.65</td>\n",
       "    </tr>\n",
       "    <tr>\n",
       "      <td>Wii</td>\n",
       "      <td>906.85</td>\n",
       "    </tr>\n",
       "    <tr>\n",
       "      <td>DS</td>\n",
       "      <td>805.47</td>\n",
       "    </tr>\n",
       "    <tr>\n",
       "      <td>PS</td>\n",
       "      <td>728.95</td>\n",
       "    </tr>\n",
       "    <tr>\n",
       "      <td>GBA</td>\n",
       "      <td>317.85</td>\n",
       "    </tr>\n",
       "    <tr>\n",
       "      <td>PS4</td>\n",
       "      <td>314.14</td>\n",
       "    </tr>\n",
       "    <tr>\n",
       "      <td>PSP</td>\n",
       "      <td>294.05</td>\n",
       "    </tr>\n",
       "    <tr>\n",
       "      <td>3DS</td>\n",
       "      <td>259.00</td>\n",
       "    </tr>\n",
       "  </tbody>\n",
       "</table>\n",
       "</div>"
      ],
      "text/plain": [
       "          all_sales\n",
       "platform           \n",
       "PS2         1255.53\n",
       "X360         971.42\n",
       "PS3          939.65\n",
       "Wii          906.85\n",
       "DS           805.47\n",
       "PS           728.95\n",
       "GBA          317.85\n",
       "PS4          314.14\n",
       "PSP          294.05\n",
       "3DS          259.00"
      ]
     },
     "execution_count": 14,
     "metadata": {},
     "output_type": "execute_result"
    }
   ],
   "source": [
    "# Топ платформ по количеству проданных игр \n",
    "top = data.pivot_table(index='platform', values='all_sales', aggfunc='sum').sort_values('all_sales', ascending = False).head(10)\n",
    "top"
   ]
  },
  {
   "cell_type": "code",
   "execution_count": 15,
   "metadata": {},
   "outputs": [
    {
     "data": {
      "text/html": [
       "<div>\n",
       "<style scoped>\n",
       "    .dataframe tbody tr th:only-of-type {\n",
       "        vertical-align: middle;\n",
       "    }\n",
       "\n",
       "    .dataframe tbody tr th {\n",
       "        vertical-align: top;\n",
       "    }\n",
       "\n",
       "    .dataframe thead th {\n",
       "        text-align: right;\n",
       "    }\n",
       "</style>\n",
       "<table border=\"1\" class=\"dataframe\">\n",
       "  <thead>\n",
       "    <tr style=\"text-align: right;\">\n",
       "      <th>platform</th>\n",
       "      <th>3DS</th>\n",
       "      <th>DS</th>\n",
       "      <th>GBA</th>\n",
       "      <th>PS</th>\n",
       "      <th>PS2</th>\n",
       "      <th>PS3</th>\n",
       "      <th>PS4</th>\n",
       "      <th>PSP</th>\n",
       "      <th>Wii</th>\n",
       "      <th>X360</th>\n",
       "    </tr>\n",
       "    <tr>\n",
       "      <th>year_of_release</th>\n",
       "      <th></th>\n",
       "      <th></th>\n",
       "      <th></th>\n",
       "      <th></th>\n",
       "      <th></th>\n",
       "      <th></th>\n",
       "      <th></th>\n",
       "      <th></th>\n",
       "      <th></th>\n",
       "      <th></th>\n",
       "    </tr>\n",
       "  </thead>\n",
       "  <tbody>\n",
       "    <tr>\n",
       "      <td>1994</td>\n",
       "      <td>0.00</td>\n",
       "      <td>0.00</td>\n",
       "      <td>0.00</td>\n",
       "      <td>6.03</td>\n",
       "      <td>0.00</td>\n",
       "      <td>0.00</td>\n",
       "      <td>0.00</td>\n",
       "      <td>0.00</td>\n",
       "      <td>0.00</td>\n",
       "      <td>0.00</td>\n",
       "    </tr>\n",
       "    <tr>\n",
       "      <td>1995</td>\n",
       "      <td>0.00</td>\n",
       "      <td>0.00</td>\n",
       "      <td>0.00</td>\n",
       "      <td>35.96</td>\n",
       "      <td>0.00</td>\n",
       "      <td>0.00</td>\n",
       "      <td>0.00</td>\n",
       "      <td>0.00</td>\n",
       "      <td>0.00</td>\n",
       "      <td>0.00</td>\n",
       "    </tr>\n",
       "    <tr>\n",
       "      <td>1996</td>\n",
       "      <td>0.00</td>\n",
       "      <td>0.00</td>\n",
       "      <td>0.00</td>\n",
       "      <td>92.79</td>\n",
       "      <td>0.00</td>\n",
       "      <td>0.00</td>\n",
       "      <td>0.00</td>\n",
       "      <td>0.00</td>\n",
       "      <td>0.00</td>\n",
       "      <td>0.00</td>\n",
       "    </tr>\n",
       "    <tr>\n",
       "      <td>1997</td>\n",
       "      <td>0.00</td>\n",
       "      <td>0.00</td>\n",
       "      <td>0.00</td>\n",
       "      <td>136.17</td>\n",
       "      <td>0.00</td>\n",
       "      <td>0.00</td>\n",
       "      <td>0.00</td>\n",
       "      <td>0.00</td>\n",
       "      <td>0.00</td>\n",
       "      <td>0.00</td>\n",
       "    </tr>\n",
       "    <tr>\n",
       "      <td>1998</td>\n",
       "      <td>0.00</td>\n",
       "      <td>0.00</td>\n",
       "      <td>0.00</td>\n",
       "      <td>169.49</td>\n",
       "      <td>0.00</td>\n",
       "      <td>0.00</td>\n",
       "      <td>0.00</td>\n",
       "      <td>0.00</td>\n",
       "      <td>0.00</td>\n",
       "      <td>0.00</td>\n",
       "    </tr>\n",
       "    <tr>\n",
       "      <td>1999</td>\n",
       "      <td>0.00</td>\n",
       "      <td>0.00</td>\n",
       "      <td>0.00</td>\n",
       "      <td>144.53</td>\n",
       "      <td>0.00</td>\n",
       "      <td>0.00</td>\n",
       "      <td>0.00</td>\n",
       "      <td>0.00</td>\n",
       "      <td>0.00</td>\n",
       "      <td>0.00</td>\n",
       "    </tr>\n",
       "    <tr>\n",
       "      <td>2000</td>\n",
       "      <td>0.00</td>\n",
       "      <td>0.00</td>\n",
       "      <td>0.07</td>\n",
       "      <td>96.37</td>\n",
       "      <td>39.17</td>\n",
       "      <td>0.00</td>\n",
       "      <td>0.00</td>\n",
       "      <td>0.00</td>\n",
       "      <td>0.00</td>\n",
       "      <td>0.00</td>\n",
       "    </tr>\n",
       "    <tr>\n",
       "      <td>2001</td>\n",
       "      <td>0.00</td>\n",
       "      <td>0.00</td>\n",
       "      <td>61.53</td>\n",
       "      <td>35.59</td>\n",
       "      <td>166.43</td>\n",
       "      <td>0.00</td>\n",
       "      <td>0.00</td>\n",
       "      <td>0.00</td>\n",
       "      <td>0.00</td>\n",
       "      <td>0.00</td>\n",
       "    </tr>\n",
       "    <tr>\n",
       "      <td>2002</td>\n",
       "      <td>0.00</td>\n",
       "      <td>0.00</td>\n",
       "      <td>74.16</td>\n",
       "      <td>6.67</td>\n",
       "      <td>205.38</td>\n",
       "      <td>0.00</td>\n",
       "      <td>0.00</td>\n",
       "      <td>0.00</td>\n",
       "      <td>0.00</td>\n",
       "      <td>0.00</td>\n",
       "    </tr>\n",
       "    <tr>\n",
       "      <td>2003</td>\n",
       "      <td>0.00</td>\n",
       "      <td>0.00</td>\n",
       "      <td>56.67</td>\n",
       "      <td>2.07</td>\n",
       "      <td>184.31</td>\n",
       "      <td>0.00</td>\n",
       "      <td>0.00</td>\n",
       "      <td>0.00</td>\n",
       "      <td>0.00</td>\n",
       "      <td>0.00</td>\n",
       "    </tr>\n",
       "    <tr>\n",
       "      <td>2004</td>\n",
       "      <td>0.00</td>\n",
       "      <td>17.27</td>\n",
       "      <td>77.91</td>\n",
       "      <td>0.00</td>\n",
       "      <td>211.81</td>\n",
       "      <td>0.00</td>\n",
       "      <td>0.00</td>\n",
       "      <td>7.06</td>\n",
       "      <td>0.00</td>\n",
       "      <td>0.00</td>\n",
       "    </tr>\n",
       "    <tr>\n",
       "      <td>2005</td>\n",
       "      <td>0.00</td>\n",
       "      <td>130.14</td>\n",
       "      <td>33.86</td>\n",
       "      <td>0.00</td>\n",
       "      <td>160.42</td>\n",
       "      <td>0.00</td>\n",
       "      <td>0.00</td>\n",
       "      <td>43.84</td>\n",
       "      <td>0.00</td>\n",
       "      <td>8.25</td>\n",
       "    </tr>\n",
       "    <tr>\n",
       "      <td>2006</td>\n",
       "      <td>0.00</td>\n",
       "      <td>119.81</td>\n",
       "      <td>5.28</td>\n",
       "      <td>0.00</td>\n",
       "      <td>103.42</td>\n",
       "      <td>20.96</td>\n",
       "      <td>0.00</td>\n",
       "      <td>55.32</td>\n",
       "      <td>137.15</td>\n",
       "      <td>51.62</td>\n",
       "    </tr>\n",
       "    <tr>\n",
       "      <td>2007</td>\n",
       "      <td>0.00</td>\n",
       "      <td>146.94</td>\n",
       "      <td>3.40</td>\n",
       "      <td>0.00</td>\n",
       "      <td>75.99</td>\n",
       "      <td>73.19</td>\n",
       "      <td>0.00</td>\n",
       "      <td>46.93</td>\n",
       "      <td>152.77</td>\n",
       "      <td>95.41</td>\n",
       "    </tr>\n",
       "    <tr>\n",
       "      <td>2008</td>\n",
       "      <td>0.00</td>\n",
       "      <td>145.31</td>\n",
       "      <td>0.00</td>\n",
       "      <td>0.00</td>\n",
       "      <td>53.90</td>\n",
       "      <td>118.52</td>\n",
       "      <td>0.00</td>\n",
       "      <td>34.55</td>\n",
       "      <td>171.32</td>\n",
       "      <td>135.26</td>\n",
       "    </tr>\n",
       "    <tr>\n",
       "      <td>2009</td>\n",
       "      <td>0.00</td>\n",
       "      <td>119.34</td>\n",
       "      <td>0.00</td>\n",
       "      <td>0.00</td>\n",
       "      <td>26.40</td>\n",
       "      <td>130.93</td>\n",
       "      <td>0.00</td>\n",
       "      <td>37.78</td>\n",
       "      <td>206.97</td>\n",
       "      <td>120.29</td>\n",
       "    </tr>\n",
       "    <tr>\n",
       "      <td>2010</td>\n",
       "      <td>0.00</td>\n",
       "      <td>85.02</td>\n",
       "      <td>0.00</td>\n",
       "      <td>0.00</td>\n",
       "      <td>5.64</td>\n",
       "      <td>142.17</td>\n",
       "      <td>0.00</td>\n",
       "      <td>35.04</td>\n",
       "      <td>127.29</td>\n",
       "      <td>170.03</td>\n",
       "    </tr>\n",
       "    <tr>\n",
       "      <td>2011</td>\n",
       "      <td>63.20</td>\n",
       "      <td>25.73</td>\n",
       "      <td>0.00</td>\n",
       "      <td>0.00</td>\n",
       "      <td>0.45</td>\n",
       "      <td>156.78</td>\n",
       "      <td>0.00</td>\n",
       "      <td>17.82</td>\n",
       "      <td>59.65</td>\n",
       "      <td>143.84</td>\n",
       "    </tr>\n",
       "    <tr>\n",
       "      <td>2012</td>\n",
       "      <td>51.36</td>\n",
       "      <td>11.01</td>\n",
       "      <td>0.00</td>\n",
       "      <td>0.00</td>\n",
       "      <td>0.00</td>\n",
       "      <td>107.36</td>\n",
       "      <td>0.00</td>\n",
       "      <td>7.69</td>\n",
       "      <td>21.71</td>\n",
       "      <td>99.74</td>\n",
       "    </tr>\n",
       "    <tr>\n",
       "      <td>2013</td>\n",
       "      <td>56.57</td>\n",
       "      <td>1.54</td>\n",
       "      <td>0.00</td>\n",
       "      <td>0.00</td>\n",
       "      <td>0.00</td>\n",
       "      <td>113.25</td>\n",
       "      <td>25.99</td>\n",
       "      <td>3.14</td>\n",
       "      <td>8.59</td>\n",
       "      <td>88.58</td>\n",
       "    </tr>\n",
       "    <tr>\n",
       "      <td>2014</td>\n",
       "      <td>43.76</td>\n",
       "      <td>0.00</td>\n",
       "      <td>0.00</td>\n",
       "      <td>0.00</td>\n",
       "      <td>0.00</td>\n",
       "      <td>47.76</td>\n",
       "      <td>100.00</td>\n",
       "      <td>0.24</td>\n",
       "      <td>3.75</td>\n",
       "      <td>34.74</td>\n",
       "    </tr>\n",
       "    <tr>\n",
       "      <td>2015</td>\n",
       "      <td>27.78</td>\n",
       "      <td>0.00</td>\n",
       "      <td>0.00</td>\n",
       "      <td>0.00</td>\n",
       "      <td>0.00</td>\n",
       "      <td>16.82</td>\n",
       "      <td>118.90</td>\n",
       "      <td>0.12</td>\n",
       "      <td>1.14</td>\n",
       "      <td>11.96</td>\n",
       "    </tr>\n",
       "    <tr>\n",
       "      <td>2016</td>\n",
       "      <td>15.14</td>\n",
       "      <td>0.00</td>\n",
       "      <td>0.00</td>\n",
       "      <td>0.00</td>\n",
       "      <td>0.00</td>\n",
       "      <td>3.60</td>\n",
       "      <td>69.25</td>\n",
       "      <td>0.00</td>\n",
       "      <td>0.18</td>\n",
       "      <td>1.52</td>\n",
       "    </tr>\n",
       "  </tbody>\n",
       "</table>\n",
       "</div>"
      ],
      "text/plain": [
       "platform           3DS      DS    GBA      PS     PS2     PS3     PS4    PSP  \\\n",
       "year_of_release                                                                \n",
       "1994              0.00    0.00   0.00    6.03    0.00    0.00    0.00   0.00   \n",
       "1995              0.00    0.00   0.00   35.96    0.00    0.00    0.00   0.00   \n",
       "1996              0.00    0.00   0.00   92.79    0.00    0.00    0.00   0.00   \n",
       "1997              0.00    0.00   0.00  136.17    0.00    0.00    0.00   0.00   \n",
       "1998              0.00    0.00   0.00  169.49    0.00    0.00    0.00   0.00   \n",
       "1999              0.00    0.00   0.00  144.53    0.00    0.00    0.00   0.00   \n",
       "2000              0.00    0.00   0.07   96.37   39.17    0.00    0.00   0.00   \n",
       "2001              0.00    0.00  61.53   35.59  166.43    0.00    0.00   0.00   \n",
       "2002              0.00    0.00  74.16    6.67  205.38    0.00    0.00   0.00   \n",
       "2003              0.00    0.00  56.67    2.07  184.31    0.00    0.00   0.00   \n",
       "2004              0.00   17.27  77.91    0.00  211.81    0.00    0.00   7.06   \n",
       "2005              0.00  130.14  33.86    0.00  160.42    0.00    0.00  43.84   \n",
       "2006              0.00  119.81   5.28    0.00  103.42   20.96    0.00  55.32   \n",
       "2007              0.00  146.94   3.40    0.00   75.99   73.19    0.00  46.93   \n",
       "2008              0.00  145.31   0.00    0.00   53.90  118.52    0.00  34.55   \n",
       "2009              0.00  119.34   0.00    0.00   26.40  130.93    0.00  37.78   \n",
       "2010              0.00   85.02   0.00    0.00    5.64  142.17    0.00  35.04   \n",
       "2011             63.20   25.73   0.00    0.00    0.45  156.78    0.00  17.82   \n",
       "2012             51.36   11.01   0.00    0.00    0.00  107.36    0.00   7.69   \n",
       "2013             56.57    1.54   0.00    0.00    0.00  113.25   25.99   3.14   \n",
       "2014             43.76    0.00   0.00    0.00    0.00   47.76  100.00   0.24   \n",
       "2015             27.78    0.00   0.00    0.00    0.00   16.82  118.90   0.12   \n",
       "2016             15.14    0.00   0.00    0.00    0.00    3.60   69.25   0.00   \n",
       "\n",
       "platform            Wii    X360  \n",
       "year_of_release                  \n",
       "1994               0.00    0.00  \n",
       "1995               0.00    0.00  \n",
       "1996               0.00    0.00  \n",
       "1997               0.00    0.00  \n",
       "1998               0.00    0.00  \n",
       "1999               0.00    0.00  \n",
       "2000               0.00    0.00  \n",
       "2001               0.00    0.00  \n",
       "2002               0.00    0.00  \n",
       "2003               0.00    0.00  \n",
       "2004               0.00    0.00  \n",
       "2005               0.00    8.25  \n",
       "2006             137.15   51.62  \n",
       "2007             152.77   95.41  \n",
       "2008             171.32  135.26  \n",
       "2009             206.97  120.29  \n",
       "2010             127.29  170.03  \n",
       "2011              59.65  143.84  \n",
       "2012              21.71   99.74  \n",
       "2013               8.59   88.58  \n",
       "2014               3.75   34.74  \n",
       "2015               1.14   11.96  \n",
       "2016               0.18    1.52  "
      ]
     },
     "execution_count": 15,
     "metadata": {},
     "output_type": "execute_result"
    }
   ],
   "source": [
    "# Сводная таблица поатформ и проданных игр по годам \n",
    "for platform in sails_year.columns:\n",
    "    if platform not in top.index:\n",
    "        sails_year.drop(platform, axis=1, inplace=True)\n",
    "sails_year = sails_year[sails_year.index >= 1994]\n",
    "sails_year"
   ]
  },
  {
   "cell_type": "code",
   "execution_count": 16,
   "metadata": {},
   "outputs": [
    {
     "data": {
      "text/plain": [
       "Text(0, 0.5, 'Pies Consumed')"
      ]
     },
     "execution_count": 16,
     "metadata": {},
     "output_type": "execute_result"
    },
    {
     "data": {
      "image/png": "[encoded data removed]",
      "text/plain": [
       "<Figure size 1080x504 with 1 Axes>"
      ]
     },
     "metadata": {
      "needs_background": "light"
     },
     "output_type": "display_data"
    }
   ],
   "source": [
    "plotdata = pd.DataFrame({\n",
    "    \"3DS\":sails_year['3DS'],\n",
    "    \"DS\":sails_year['DS'],\n",
    "    \"GBA\":sails_year['GBA'],\n",
    "    \"PS\":sails_year['PS'],\n",
    "    \"PS2\":sails_year['PS2'],\n",
    "    \"PS3\":sails_year['PS3'],\n",
    "    \"PS4\":sails_year['PS4'],\n",
    "    \"PS3\":sails_year['DS'],\n",
    "    \"PSP\":sails_year['PSP'],\n",
    "    \"Wii\":sails_year['Wii'],\n",
    "    \"X360\":sails_year['X360']\n",
    "    }, \n",
    "    index=sails_year.index\n",
    ")\n",
    "plotdata.plot(kind='bar', stacked=True, figsize=(15, 7))\n",
    "plt.title(\"Mince Pie Consumption Study\")\n",
    "plt.xlabel(\"Family Member\")\n",
    "plt.ylabel(\"Pies Consumed\")"
   ]
  },
  {
   "cell_type": "markdown",
   "metadata": {},
   "source": [
    "***Консоль на которую будут выпускать игры в 2017 году это PS4. Чтобы в этом убедиться можно взять данные за последние 4 года(так как жизнь консоли обычно 7 лет)***"
   ]
  },
  {
   "cell_type": "code",
   "execution_count": 17,
   "metadata": {},
   "outputs": [
    {
     "data": {
      "text/plain": [
       "Text(0, 0.5, 'Pies Consumed')"
      ]
     },
     "execution_count": 17,
     "metadata": {},
     "output_type": "execute_result"
    },
    {
     "data": {
      "image/png": "[encoded data removed]",
      "text/plain": [
       "<Figure size 1080x504 with 1 Axes>"
      ]
     },
     "metadata": {
      "needs_background": "light"
     },
     "output_type": "display_data"
    }
   ],
   "source": [
    "sails_13_17 = sails_year[sails_year.index >= 2013]\n",
    "\n",
    "plotdata = pd.DataFrame({\n",
    "    \"3DS\":sails_13_17['3DS'],\n",
    "    \"PS3\":sails_13_17['PS3'],\n",
    "    \"PS4\":sails_13_17['PS4'],\n",
    "    \"PSP\":sails_13_17['PSP'],\n",
    "    \"Wii\":sails_13_17['Wii'],\n",
    "    \"X360\":sails_13_17['X360']\n",
    "    }, \n",
    "    index=sails_13_17.index\n",
    ")\n",
    "plotdata.plot(kind='bar', stacked=True, figsize=(15, 7))\n",
    "plt.title(\"Mince Pie Consumption Study\")\n",
    "plt.xlabel(\"Family Member\")\n",
    "plt.ylabel(\"Pies Consumed\")"
   ]
  },
  {
   "cell_type": "markdown",
   "metadata": {},
   "source": [
    "***Зная что среднее время выпуска игр на консоль около 7 лет, то по прогнозам на 2017 самая актуальная консоль будет PS4.***\n",
    "XBOX360, PS3,3DS итд уже исчерпали свой ресурс. Думаю какие, то игры выйдут на 3DS и в 2017, но намного меньше чем на ПС4"
   ]
  },
  {
   "cell_type": "code",
   "execution_count": 18,
   "metadata": {},
   "outputs": [
    {
     "name": "stderr",
     "output_type": "stream",
     "text": [
      "/opt/conda/lib/python3.7/site-packages/numpy/core/_asarray.py:83: VisibleDeprecationWarning: Creating an ndarray from ragged nested sequences (which is a list-or-tuple of lists-or-tuples-or ndarrays with different lengths or shapes) is deprecated. If you meant to do this, you must specify 'dtype=object' when creating the ndarray\n",
      "  return array(a, dtype, copy=False, order=order)\n"
     ]
    },
    {
     "data": {
      "text/plain": [
       "Text(0, 0.5, 'Цены')"
      ]
     },
     "execution_count": 18,
     "metadata": {},
     "output_type": "execute_result"
    },
    {
     "data": {
      "image/png": "[encoded data removed]",
      "text/plain": [
       "<Figure size 864x432 with 1 Axes>"
      ]
     },
     "metadata": {
      "needs_background": "light"
     },
     "output_type": "display_data"
    }
   ],
   "source": [
    "data_new = data[data['year_of_release'] >= 2013]\n",
    "# Ящик с усами для каждой платформы \n",
    "data_new.boxplot(column = 'all_sales', by=\"platform\", figsize=(12, 6))\n",
    "plt.ylim(0, 2)\n",
    "plt.xlabel('Платформы')  \n",
    "plt.ylabel('Цены')"
   ]
  },
  {
   "cell_type": "code",
   "execution_count": 19,
   "metadata": {},
   "outputs": [
    {
     "data": {
      "text/html": [
       "<div>\n",
       "<style scoped>\n",
       "    .dataframe tbody tr th:only-of-type {\n",
       "        vertical-align: middle;\n",
       "    }\n",
       "\n",
       "    .dataframe tbody tr th {\n",
       "        vertical-align: top;\n",
       "    }\n",
       "\n",
       "    .dataframe thead th {\n",
       "        text-align: right;\n",
       "    }\n",
       "</style>\n",
       "<table border=\"1\" class=\"dataframe\">\n",
       "  <thead>\n",
       "    <tr style=\"text-align: right;\">\n",
       "      <th></th>\n",
       "      <th>all_sales</th>\n",
       "    </tr>\n",
       "    <tr>\n",
       "      <th>platform</th>\n",
       "      <th></th>\n",
       "    </tr>\n",
       "  </thead>\n",
       "  <tbody>\n",
       "    <tr>\n",
       "      <td>3DS</td>\n",
       "      <td>143.25</td>\n",
       "    </tr>\n",
       "    <tr>\n",
       "      <td>DS</td>\n",
       "      <td>1.54</td>\n",
       "    </tr>\n",
       "    <tr>\n",
       "      <td>PC</td>\n",
       "      <td>39.43</td>\n",
       "    </tr>\n",
       "    <tr>\n",
       "      <td>PS3</td>\n",
       "      <td>181.43</td>\n",
       "    </tr>\n",
       "    <tr>\n",
       "      <td>PS4</td>\n",
       "      <td>314.14</td>\n",
       "    </tr>\n",
       "    <tr>\n",
       "      <td>PSP</td>\n",
       "      <td>3.50</td>\n",
       "    </tr>\n",
       "    <tr>\n",
       "      <td>PSV</td>\n",
       "      <td>32.99</td>\n",
       "    </tr>\n",
       "    <tr>\n",
       "      <td>Wii</td>\n",
       "      <td>13.66</td>\n",
       "    </tr>\n",
       "    <tr>\n",
       "      <td>WiiU</td>\n",
       "      <td>64.63</td>\n",
       "    </tr>\n",
       "    <tr>\n",
       "      <td>X360</td>\n",
       "      <td>136.80</td>\n",
       "    </tr>\n",
       "    <tr>\n",
       "      <td>XOne</td>\n",
       "      <td>159.32</td>\n",
       "    </tr>\n",
       "  </tbody>\n",
       "</table>\n",
       "</div>"
      ],
      "text/plain": [
       "          all_sales\n",
       "platform           \n",
       "3DS          143.25\n",
       "DS             1.54\n",
       "PC            39.43\n",
       "PS3          181.43\n",
       "PS4          314.14\n",
       "PSP            3.50\n",
       "PSV           32.99\n",
       "Wii           13.66\n",
       "WiiU          64.63\n",
       "X360         136.80\n",
       "XOne         159.32"
      ]
     },
     "execution_count": 19,
     "metadata": {},
     "output_type": "execute_result"
    }
   ],
   "source": [
    "data_new.pivot_table(index=\"platform\", values= 'all_sales', aggfunc='sum')"
   ]
  },
  {
   "cell_type": "markdown",
   "metadata": {},
   "source": [
    "****Можно сделать вывод что самая прибыльная платформа это PS4, а самая не окупаемая это PSP. Также хорошим спросом пользуются X360, ,PS3, XOne и 3DS.***"
   ]
  },
  {
   "cell_type": "code",
   "execution_count": 20,
   "metadata": {},
   "outputs": [
    {
     "data": {
      "text/html": [
       "<div>\n",
       "<style scoped>\n",
       "    .dataframe tbody tr th:only-of-type {\n",
       "        vertical-align: middle;\n",
       "    }\n",
       "\n",
       "    .dataframe tbody tr th {\n",
       "        vertical-align: top;\n",
       "    }\n",
       "\n",
       "    .dataframe thead th {\n",
       "        text-align: right;\n",
       "    }\n",
       "</style>\n",
       "<table border=\"1\" class=\"dataframe\">\n",
       "  <thead>\n",
       "    <tr style=\"text-align: right;\">\n",
       "      <th></th>\n",
       "      <th>name</th>\n",
       "      <th>platform</th>\n",
       "      <th>year_of_release</th>\n",
       "      <th>genre</th>\n",
       "      <th>na_sales</th>\n",
       "      <th>eu_sales</th>\n",
       "      <th>jp_sales</th>\n",
       "      <th>other_sales</th>\n",
       "      <th>critic_score</th>\n",
       "      <th>user_score</th>\n",
       "      <th>rating</th>\n",
       "      <th>all_sales</th>\n",
       "    </tr>\n",
       "  </thead>\n",
       "  <tbody>\n",
       "    <tr>\n",
       "      <td>42</td>\n",
       "      <td>Grand Theft Auto V</td>\n",
       "      <td>PS4</td>\n",
       "      <td>2014</td>\n",
       "      <td>Action</td>\n",
       "      <td>3.96</td>\n",
       "      <td>6.31</td>\n",
       "      <td>0.38</td>\n",
       "      <td>1.97</td>\n",
       "      <td>97</td>\n",
       "      <td>8.3</td>\n",
       "      <td>M</td>\n",
       "      <td>12.62</td>\n",
       "    </tr>\n",
       "    <tr>\n",
       "      <td>77</td>\n",
       "      <td>FIFA 16</td>\n",
       "      <td>PS4</td>\n",
       "      <td>2015</td>\n",
       "      <td>Sports</td>\n",
       "      <td>1.12</td>\n",
       "      <td>6.12</td>\n",
       "      <td>0.06</td>\n",
       "      <td>1.28</td>\n",
       "      <td>82</td>\n",
       "      <td>4.3</td>\n",
       "      <td>E</td>\n",
       "      <td>8.58</td>\n",
       "    </tr>\n",
       "    <tr>\n",
       "      <td>92</td>\n",
       "      <td>Call of Duty: Advanced Warfare</td>\n",
       "      <td>PS4</td>\n",
       "      <td>2014</td>\n",
       "      <td>Shooter</td>\n",
       "      <td>2.81</td>\n",
       "      <td>3.48</td>\n",
       "      <td>0.14</td>\n",
       "      <td>1.23</td>\n",
       "      <td>83</td>\n",
       "      <td>5.7</td>\n",
       "      <td>M</td>\n",
       "      <td>7.66</td>\n",
       "    </tr>\n",
       "    <tr>\n",
       "      <td>94</td>\n",
       "      <td>FIFA 17</td>\n",
       "      <td>PS4</td>\n",
       "      <td>2016</td>\n",
       "      <td>Sports</td>\n",
       "      <td>0.66</td>\n",
       "      <td>5.75</td>\n",
       "      <td>0.08</td>\n",
       "      <td>1.11</td>\n",
       "      <td>85</td>\n",
       "      <td>5.0</td>\n",
       "      <td>E</td>\n",
       "      <td>7.60</td>\n",
       "    </tr>\n",
       "    <tr>\n",
       "      <td>105</td>\n",
       "      <td>Fallout 4</td>\n",
       "      <td>PS4</td>\n",
       "      <td>2015</td>\n",
       "      <td>Role-Playing</td>\n",
       "      <td>2.53</td>\n",
       "      <td>3.27</td>\n",
       "      <td>0.24</td>\n",
       "      <td>1.13</td>\n",
       "      <td>87</td>\n",
       "      <td>6.5</td>\n",
       "      <td>M</td>\n",
       "      <td>7.17</td>\n",
       "    </tr>\n",
       "    <tr>\n",
       "      <td>...</td>\n",
       "      <td>...</td>\n",
       "      <td>...</td>\n",
       "      <td>...</td>\n",
       "      <td>...</td>\n",
       "      <td>...</td>\n",
       "      <td>...</td>\n",
       "      <td>...</td>\n",
       "      <td>...</td>\n",
       "      <td>...</td>\n",
       "      <td>...</td>\n",
       "      <td>...</td>\n",
       "      <td>...</td>\n",
       "    </tr>\n",
       "    <tr>\n",
       "      <td>16486</td>\n",
       "      <td>Super Dungeon Bros</td>\n",
       "      <td>PS4</td>\n",
       "      <td>2016</td>\n",
       "      <td>Action</td>\n",
       "      <td>0.01</td>\n",
       "      <td>0.00</td>\n",
       "      <td>0.00</td>\n",
       "      <td>0.00</td>\n",
       "      <td>42</td>\n",
       "      <td>2.3</td>\n",
       "      <td>E10+</td>\n",
       "      <td>0.01</td>\n",
       "    </tr>\n",
       "    <tr>\n",
       "      <td>16499</td>\n",
       "      <td>Sherlock Holmes: The Devil's Daughter</td>\n",
       "      <td>PS4</td>\n",
       "      <td>2016</td>\n",
       "      <td>Adventure</td>\n",
       "      <td>0.01</td>\n",
       "      <td>0.00</td>\n",
       "      <td>0.00</td>\n",
       "      <td>0.00</td>\n",
       "      <td>70</td>\n",
       "      <td>6.8</td>\n",
       "      <td>T</td>\n",
       "      <td>0.01</td>\n",
       "    </tr>\n",
       "    <tr>\n",
       "      <td>16500</td>\n",
       "      <td>Root Letter</td>\n",
       "      <td>PS4</td>\n",
       "      <td>2016</td>\n",
       "      <td>Adventure</td>\n",
       "      <td>0.00</td>\n",
       "      <td>0.00</td>\n",
       "      <td>0.01</td>\n",
       "      <td>0.00</td>\n",
       "      <td>69</td>\n",
       "      <td>7.5</td>\n",
       "      <td>NaN</td>\n",
       "      <td>0.01</td>\n",
       "    </tr>\n",
       "    <tr>\n",
       "      <td>16526</td>\n",
       "      <td>Dungeons 2</td>\n",
       "      <td>PS4</td>\n",
       "      <td>2016</td>\n",
       "      <td>Role-Playing</td>\n",
       "      <td>0.01</td>\n",
       "      <td>0.00</td>\n",
       "      <td>0.00</td>\n",
       "      <td>0.00</td>\n",
       "      <td>61</td>\n",
       "      <td>7.9</td>\n",
       "      <td>T</td>\n",
       "      <td>0.01</td>\n",
       "    </tr>\n",
       "    <tr>\n",
       "      <td>16530</td>\n",
       "      <td>Carmageddon: Max Damage</td>\n",
       "      <td>PS4</td>\n",
       "      <td>2016</td>\n",
       "      <td>Action</td>\n",
       "      <td>0.01</td>\n",
       "      <td>0.00</td>\n",
       "      <td>0.00</td>\n",
       "      <td>0.00</td>\n",
       "      <td>51</td>\n",
       "      <td>5.5</td>\n",
       "      <td>M</td>\n",
       "      <td>0.01</td>\n",
       "    </tr>\n",
       "  </tbody>\n",
       "</table>\n",
       "<p>249 rows × 12 columns</p>\n",
       "</div>"
      ],
      "text/plain": [
       "                                        name platform  year_of_release  \\\n",
       "42                        Grand Theft Auto V      PS4             2014   \n",
       "77                                   FIFA 16      PS4             2015   \n",
       "92            Call of Duty: Advanced Warfare      PS4             2014   \n",
       "94                                   FIFA 17      PS4             2016   \n",
       "105                                Fallout 4      PS4             2015   \n",
       "...                                      ...      ...              ...   \n",
       "16486                     Super Dungeon Bros      PS4             2016   \n",
       "16499  Sherlock Holmes: The Devil's Daughter      PS4             2016   \n",
       "16500                            Root Letter      PS4             2016   \n",
       "16526                             Dungeons 2      PS4             2016   \n",
       "16530                Carmageddon: Max Damage      PS4             2016   \n",
       "\n",
       "              genre  na_sales  eu_sales  jp_sales  other_sales  critic_score  \\\n",
       "42           Action      3.96      6.31      0.38         1.97            97   \n",
       "77           Sports      1.12      6.12      0.06         1.28            82   \n",
       "92          Shooter      2.81      3.48      0.14         1.23            83   \n",
       "94           Sports      0.66      5.75      0.08         1.11            85   \n",
       "105    Role-Playing      2.53      3.27      0.24         1.13            87   \n",
       "...             ...       ...       ...       ...          ...           ...   \n",
       "16486        Action      0.01      0.00      0.00         0.00            42   \n",
       "16499     Adventure      0.01      0.00      0.00         0.00            70   \n",
       "16500     Adventure      0.00      0.00      0.01         0.00            69   \n",
       "16526  Role-Playing      0.01      0.00      0.00         0.00            61   \n",
       "16530        Action      0.01      0.00      0.00         0.00            51   \n",
       "\n",
       "       user_score rating  all_sales  \n",
       "42            8.3      M      12.62  \n",
       "77            4.3      E       8.58  \n",
       "92            5.7      M       7.66  \n",
       "94            5.0      E       7.60  \n",
       "105           6.5      M       7.17  \n",
       "...           ...    ...        ...  \n",
       "16486         2.3   E10+       0.01  \n",
       "16499         6.8      T       0.01  \n",
       "16500         7.5    NaN       0.01  \n",
       "16526         7.9      T       0.01  \n",
       "16530         5.5      M       0.01  \n",
       "\n",
       "[249 rows x 12 columns]"
      ]
     },
     "execution_count": 20,
     "metadata": {},
     "output_type": "execute_result"
    }
   ],
   "source": [
    "ps4 = data_new.query('(platform in \"PS4\") and (user_score != -5) and (critic_score != -5)') # Только ПС4\n",
    "ps4\n"
   ]
  },
  {
   "cell_type": "code",
   "execution_count": 21,
   "metadata": {},
   "outputs": [
    {
     "data": {
      "text/plain": [
       "(0, 20)"
      ]
     },
     "execution_count": 21,
     "metadata": {},
     "output_type": "execute_result"
    },
    {
     "data": {
      "image/png": "[encoded data removed]",
      "text/plain": [
       "<Figure size 432x288 with 1 Axes>"
      ]
     },
     "metadata": {
      "needs_background": "light"
     },
     "output_type": "display_data"
    }
   ],
   "source": [
    "sns.scatterplot(data=ps4, x=\"user_score\", y=\"all_sales\")\n",
    "plt.title('Кофицент кореляции для рейтина пользователй и цены')\n",
    "plt.ylim(0, 20)"
   ]
  },
  {
   "cell_type": "code",
   "execution_count": 22,
   "metadata": {
    "scrolled": true
   },
   "outputs": [
    {
     "data": {
      "text/plain": [
       "(0, 20)"
      ]
     },
     "execution_count": 22,
     "metadata": {},
     "output_type": "execute_result"
    },
    {
     "data": {
      "image/png": "[encoded data removed]",
      "text/plain": [
       "<Figure size 432x288 with 1 Axes>"
      ]
     },
     "metadata": {
      "needs_background": "light"
     },
     "output_type": "display_data"
    }
   ],
   "source": [
    "sns.scatterplot(data=ps4, x='critic_score' , y='all_sales')\n",
    "plt.title('Кофицент кореляции для рейтина критиков и цены')\n",
    "plt.ylim(0, 20)"
   ]
  },
  {
   "cell_type": "markdown",
   "metadata": {},
   "source": [
    "На этих графиках на много лучше видно что рейтинг критиков влияет на цену."
   ]
  },
  {
   "cell_type": "code",
   "execution_count": 23,
   "metadata": {},
   "outputs": [
    {
     "data": {
      "text/html": [
       "<div>\n",
       "<style scoped>\n",
       "    .dataframe tbody tr th:only-of-type {\n",
       "        vertical-align: middle;\n",
       "    }\n",
       "\n",
       "    .dataframe tbody tr th {\n",
       "        vertical-align: top;\n",
       "    }\n",
       "\n",
       "    .dataframe thead th {\n",
       "        text-align: right;\n",
       "    }\n",
       "</style>\n",
       "<table border=\"1\" class=\"dataframe\">\n",
       "  <thead>\n",
       "    <tr style=\"text-align: right;\">\n",
       "      <th></th>\n",
       "      <th>year_of_release</th>\n",
       "      <th>na_sales</th>\n",
       "      <th>eu_sales</th>\n",
       "      <th>jp_sales</th>\n",
       "      <th>other_sales</th>\n",
       "      <th>critic_score</th>\n",
       "      <th>user_score</th>\n",
       "      <th>all_sales</th>\n",
       "    </tr>\n",
       "  </thead>\n",
       "  <tbody>\n",
       "    <tr>\n",
       "      <td>year_of_release</td>\n",
       "      <td>1.000000</td>\n",
       "      <td>-0.261760</td>\n",
       "      <td>-0.191355</td>\n",
       "      <td>-0.122830</td>\n",
       "      <td>-0.232177</td>\n",
       "      <td>-0.019983</td>\n",
       "      <td>0.150315</td>\n",
       "      <td>-0.234400</td>\n",
       "    </tr>\n",
       "    <tr>\n",
       "      <td>na_sales</td>\n",
       "      <td>-0.261760</td>\n",
       "      <td>1.000000</td>\n",
       "      <td>0.714988</td>\n",
       "      <td>0.530480</td>\n",
       "      <td>0.915292</td>\n",
       "      <td>0.414241</td>\n",
       "      <td>-0.022577</td>\n",
       "      <td>0.893807</td>\n",
       "    </tr>\n",
       "    <tr>\n",
       "      <td>eu_sales</td>\n",
       "      <td>-0.191355</td>\n",
       "      <td>0.714988</td>\n",
       "      <td>1.000000</td>\n",
       "      <td>0.519826</td>\n",
       "      <td>0.935136</td>\n",
       "      <td>0.346044</td>\n",
       "      <td>-0.050671</td>\n",
       "      <td>0.951656</td>\n",
       "    </tr>\n",
       "    <tr>\n",
       "      <td>jp_sales</td>\n",
       "      <td>-0.122830</td>\n",
       "      <td>0.530480</td>\n",
       "      <td>0.519826</td>\n",
       "      <td>1.000000</td>\n",
       "      <td>0.566734</td>\n",
       "      <td>0.322057</td>\n",
       "      <td>0.174512</td>\n",
       "      <td>0.592214</td>\n",
       "    </tr>\n",
       "    <tr>\n",
       "      <td>other_sales</td>\n",
       "      <td>-0.232177</td>\n",
       "      <td>0.915292</td>\n",
       "      <td>0.935136</td>\n",
       "      <td>0.566734</td>\n",
       "      <td>1.000000</td>\n",
       "      <td>0.408465</td>\n",
       "      <td>-0.037332</td>\n",
       "      <td>0.997798</td>\n",
       "    </tr>\n",
       "    <tr>\n",
       "      <td>critic_score</td>\n",
       "      <td>-0.019983</td>\n",
       "      <td>0.414241</td>\n",
       "      <td>0.346044</td>\n",
       "      <td>0.322057</td>\n",
       "      <td>0.408465</td>\n",
       "      <td>1.000000</td>\n",
       "      <td>0.557654</td>\n",
       "      <td>0.405895</td>\n",
       "    </tr>\n",
       "    <tr>\n",
       "      <td>user_score</td>\n",
       "      <td>0.150315</td>\n",
       "      <td>-0.022577</td>\n",
       "      <td>-0.050671</td>\n",
       "      <td>0.174512</td>\n",
       "      <td>-0.037332</td>\n",
       "      <td>0.557654</td>\n",
       "      <td>1.000000</td>\n",
       "      <td>-0.033625</td>\n",
       "    </tr>\n",
       "    <tr>\n",
       "      <td>all_sales</td>\n",
       "      <td>-0.234400</td>\n",
       "      <td>0.893807</td>\n",
       "      <td>0.951656</td>\n",
       "      <td>0.592214</td>\n",
       "      <td>0.997798</td>\n",
       "      <td>0.405895</td>\n",
       "      <td>-0.033625</td>\n",
       "      <td>1.000000</td>\n",
       "    </tr>\n",
       "  </tbody>\n",
       "</table>\n",
       "</div>"
      ],
      "text/plain": [
       "                 year_of_release  na_sales  eu_sales  jp_sales  other_sales  \\\n",
       "year_of_release         1.000000 -0.261760 -0.191355 -0.122830    -0.232177   \n",
       "na_sales               -0.261760  1.000000  0.714988  0.530480     0.915292   \n",
       "eu_sales               -0.191355  0.714988  1.000000  0.519826     0.935136   \n",
       "jp_sales               -0.122830  0.530480  0.519826  1.000000     0.566734   \n",
       "other_sales            -0.232177  0.915292  0.935136  0.566734     1.000000   \n",
       "critic_score           -0.019983  0.414241  0.346044  0.322057     0.408465   \n",
       "user_score              0.150315 -0.022577 -0.050671  0.174512    -0.037332   \n",
       "all_sales              -0.234400  0.893807  0.951656  0.592214     0.997798   \n",
       "\n",
       "                 critic_score  user_score  all_sales  \n",
       "year_of_release     -0.019983    0.150315  -0.234400  \n",
       "na_sales             0.414241   -0.022577   0.893807  \n",
       "eu_sales             0.346044   -0.050671   0.951656  \n",
       "jp_sales             0.322057    0.174512   0.592214  \n",
       "other_sales          0.408465   -0.037332   0.997798  \n",
       "critic_score         1.000000    0.557654   0.405895  \n",
       "user_score           0.557654    1.000000  -0.033625  \n",
       "all_sales            0.405895   -0.033625   1.000000  "
      ]
     },
     "execution_count": 23,
     "metadata": {},
     "output_type": "execute_result"
    }
   ],
   "source": [
    "ps4.corr() # Кофицент кореляции для ПС4 "
   ]
  },
  {
   "cell_type": "code",
   "execution_count": 24,
   "metadata": {},
   "outputs": [
    {
     "data": {
      "image/png": "[encoded data removed]",
      "text/plain": [
       "<Figure size 432x288 with 2 Axes>"
      ]
     },
     "metadata": {
      "needs_background": "light"
     },
     "output_type": "display_data"
    }
   ],
   "source": [
    "ax = sns.heatmap(ps4.corr())"
   ]
  },
  {
   "cell_type": "markdown",
   "metadata": {},
   "source": [
    "***Рейтинг пользователей не влияют на количество проданных игр, а отзывы критиков немного, но влияют***\n",
    "- коэффициенты корреляции -0.06 и 0.34"
   ]
  },
  {
   "cell_type": "code",
   "execution_count": 25,
   "metadata": {},
   "outputs": [
    {
     "name": "stdout",
     "output_type": "stream",
     "text": [
      "                 year_of_release  na_sales  eu_sales  jp_sales  other_sales  \\\n",
      "year_of_release         1.000000 -0.075933 -0.115177 -0.063487    -0.083695   \n",
      "na_sales               -0.075933  1.000000  0.931893  0.641878     0.993708   \n",
      "eu_sales               -0.115177  0.931893  1.000000  0.633982     0.958274   \n",
      "jp_sales               -0.063487  0.641878  0.633982  1.000000     0.645306   \n",
      "other_sales            -0.083695  0.993708  0.958274  0.645306     1.000000   \n",
      "critic_score            0.005430  0.096662  0.074737 -0.003030     0.093406   \n",
      "user_score             -0.002700  0.085173  0.070046 -0.035211     0.082845   \n",
      "all_sales              -0.090086  0.938867  0.927821  0.854173     0.945649   \n",
      "\n",
      "                 critic_score  user_score  all_sales  \n",
      "year_of_release      0.005430   -0.002700  -0.090086  \n",
      "na_sales             0.096662    0.085173   0.938867  \n",
      "eu_sales             0.074737    0.070046   0.927821  \n",
      "jp_sales            -0.003030   -0.035211   0.854173  \n",
      "other_sales          0.093406    0.082845   0.945649  \n",
      "critic_score         1.000000    0.877724   0.059666  \n",
      "user_score           0.877724    1.000000   0.040414  \n",
      "all_sales            0.059666    0.040414   1.000000  \n",
      "                 year_of_release  na_sales  eu_sales  jp_sales  other_sales  \\\n",
      "year_of_release         1.000000 -0.217596 -0.167604 -0.195894    -0.181897   \n",
      "na_sales               -0.217596  1.000000  0.874896  0.439867     0.932098   \n",
      "eu_sales               -0.167604  0.874896  1.000000  0.443809     0.975743   \n",
      "jp_sales               -0.195894  0.439867  0.443809  1.000000     0.459609   \n",
      "other_sales            -0.181897  0.932098  0.975743  0.459609     1.000000   \n",
      "critic_score           -0.551650  0.294865  0.238990  0.206673     0.255944   \n",
      "user_score             -0.356098  0.226073  0.190197  0.137778     0.196406   \n",
      "all_sales              -0.201274  0.954921  0.974740  0.516258     0.989812   \n",
      "\n",
      "                 critic_score  user_score  all_sales  \n",
      "year_of_release     -0.551650   -0.356098  -0.201274  \n",
      "na_sales             0.294865    0.226073   0.954921  \n",
      "eu_sales             0.238990    0.190197   0.974740  \n",
      "jp_sales             0.206673    0.137778   0.516258  \n",
      "other_sales          0.255944    0.196406   0.989812  \n",
      "critic_score         1.000000    0.694511   0.275390  \n",
      "user_score           0.694511    1.000000   0.212772  \n",
      "all_sales            0.275390    0.212772   1.000000  \n",
      "                 year_of_release  na_sales  eu_sales  jp_sales  other_sales  \\\n",
      "year_of_release         1.000000 -0.043382 -0.032610 -0.003731    -0.030600   \n",
      "na_sales               -0.043382  1.000000  0.960231  0.798706     0.997070   \n",
      "eu_sales               -0.032610  0.960231  1.000000  0.850598     0.974537   \n",
      "jp_sales               -0.003731  0.798706  0.850598  1.000000     0.812887   \n",
      "other_sales            -0.030600  0.997070  0.974537  0.812887     1.000000   \n",
      "critic_score            0.020828  0.281844  0.335633  0.195165     0.298047   \n",
      "user_score             -0.057043  0.197919  0.260009  0.128256     0.214898   \n",
      "all_sales              -0.032090  0.981361  0.984679  0.890821     0.987516   \n",
      "\n",
      "                 critic_score  user_score  all_sales  \n",
      "year_of_release      0.020828   -0.057043  -0.032090  \n",
      "na_sales             0.281844    0.197919   0.981361  \n",
      "eu_sales             0.335633    0.260009   0.984679  \n",
      "jp_sales             0.195165    0.128256   0.890821  \n",
      "other_sales          0.298047    0.214898   0.987516  \n",
      "critic_score         1.000000    0.813319   0.289507  \n",
      "user_score           0.813319    1.000000   0.208623  \n",
      "all_sales            0.289507    0.208623   1.000000  \n",
      "                 year_of_release  na_sales  eu_sales  jp_sales  other_sales  \\\n",
      "year_of_release         1.000000 -0.218293 -0.203537 -0.285360    -0.218199   \n",
      "na_sales               -0.218293  1.000000  0.866574  0.634340     0.985236   \n",
      "eu_sales               -0.203537  0.866574  1.000000  0.612002     0.934769   \n",
      "jp_sales               -0.285360  0.634340  0.612002  1.000000     0.641529   \n",
      "other_sales            -0.218199  0.985236  0.934769  0.641529     1.000000   \n",
      "critic_score           -0.571107  0.235015  0.232960  0.304641     0.237616   \n",
      "user_score             -0.206854  0.074702  0.076981  0.089506     0.076930   \n",
      "all_sales              -0.220495  0.984299  0.941008  0.648860     0.998640   \n",
      "\n",
      "                 critic_score  user_score  all_sales  \n",
      "year_of_release     -0.571107   -0.206854  -0.220495  \n",
      "na_sales             0.235015    0.074702   0.984299  \n",
      "eu_sales             0.232960    0.076981   0.941008  \n",
      "jp_sales             0.304641    0.089506   0.648860  \n",
      "other_sales          0.237616    0.076930   0.998640  \n",
      "critic_score         1.000000    0.525556   0.242088  \n",
      "user_score           0.525556    1.000000   0.077988  \n",
      "all_sales            0.242088    0.077988   1.000000  \n",
      "                 year_of_release  na_sales  eu_sales  jp_sales  other_sales  \\\n",
      "year_of_release         1.000000 -0.242667 -0.194925 -0.127050    -0.243414   \n",
      "na_sales               -0.242667  1.000000  0.765367  0.425725     0.988088   \n",
      "eu_sales               -0.194925  0.765367  1.000000  0.421071     0.852986   \n",
      "jp_sales               -0.127050  0.425725  0.421071  1.000000     0.441717   \n",
      "other_sales            -0.243414  0.988088  0.852986  0.441717     1.000000   \n",
      "critic_score           -0.009414  0.255023  0.254483  0.147091     0.265019   \n",
      "user_score             -0.013668  0.128932  0.119579  0.083662     0.130031   \n",
      "all_sales              -0.239183  0.970433  0.898045  0.452701     0.995238   \n",
      "\n",
      "                 critic_score  user_score  all_sales  \n",
      "year_of_release     -0.009414   -0.013668  -0.239183  \n",
      "na_sales             0.255023    0.128932   0.970433  \n",
      "eu_sales             0.254483    0.119579   0.898045  \n",
      "jp_sales             0.147091    0.083662   0.452701  \n",
      "other_sales          0.265019    0.130031   0.995238  \n",
      "critic_score         1.000000    0.791378   0.269766  \n",
      "user_score           0.791378    1.000000   0.132871  \n",
      "all_sales            0.269766    0.132871   1.000000  \n"
     ]
    }
   ],
   "source": [
    "actual_platforms = [\"3DS\", \"PS3\", \"WiiU\", \"X360\", \"XOne\"]\n",
    "for platform in actual_platforms:\n",
    "    print(data_new[data_new['platform']== platform].corr())"
   ]
  },
  {
   "cell_type": "markdown",
   "metadata": {},
   "source": [
    "- critic_score \\   user_score\n",
    "- 0.103681  /  0.065113\n",
    "- 0.294214  / -0.085058\n",
    "- 0.331536 /   0.338184\n",
    "- 0.285467  / -0.044548\n",
    "- 0.360451 /  -0.105937\n",
    "\n",
    "***Есть только одна консоль где user_score имеет больший вес чем critic_score это Wii. Мне кажется это можно списать на замену данных. В основном на цену влияют отзывы критиков, и то не очень сильно***"
   ]
  },
  {
   "cell_type": "code",
   "execution_count": 26,
   "metadata": {},
   "outputs": [
    {
     "data": {
      "text/plain": [
       "Text(0.5, 1.0, 'Отношение продаж к жанру игры')"
      ]
     },
     "execution_count": 26,
     "metadata": {},
     "output_type": "execute_result"
    },
    {
     "data": {
      "image/png": "[encoded data removed]",
      "text/plain": [
       "<Figure size 1440x360 with 1 Axes>"
      ]
     },
     "metadata": {
      "needs_background": "light"
     },
     "output_type": "display_data"
    }
   ],
   "source": [
    "ganre_sales = data_new.pivot_table(index=\"genre\", values= 'all_sales', aggfunc='sum' ).sort_values('all_sales', ascending = False)\n",
    "ganre_sales.plot(kind=\"bar\", grid=True, figsize=(20, 5))\n",
    "plt.title('Отношение продаж к жанру игры')"
   ]
  },
  {
   "cell_type": "markdown",
   "metadata": {},
   "source": [
    "***Среди продаж по жанрам сразу видны фавориты и аутсайдеры. Экшен игры самые прибыльные, так же от них не сильно отстают шутеры. Самые низкомаржинальный жанр это пазлы.***"
   ]
  },
  {
   "cell_type": "code",
   "execution_count": 27,
   "metadata": {},
   "outputs": [
    {
     "data": {
      "text/html": [
       "<div>\n",
       "<style scoped>\n",
       "    .dataframe tbody tr th:only-of-type {\n",
       "        vertical-align: middle;\n",
       "    }\n",
       "\n",
       "    .dataframe tbody tr th {\n",
       "        vertical-align: top;\n",
       "    }\n",
       "\n",
       "    .dataframe thead th {\n",
       "        text-align: right;\n",
       "    }\n",
       "</style>\n",
       "<table border=\"1\" class=\"dataframe\">\n",
       "  <thead>\n",
       "    <tr style=\"text-align: right;\">\n",
       "      <th></th>\n",
       "      <th></th>\n",
       "      <th>all_sales</th>\n",
       "    </tr>\n",
       "    <tr>\n",
       "      <th>name</th>\n",
       "      <th>genre</th>\n",
       "      <th></th>\n",
       "    </tr>\n",
       "  </thead>\n",
       "  <tbody>\n",
       "    <tr>\n",
       "      <td>Grand Theft Auto V</td>\n",
       "      <td>Action</td>\n",
       "      <td>56.58</td>\n",
       "    </tr>\n",
       "    <tr>\n",
       "      <td>Call of Duty: Ghosts</td>\n",
       "      <td>Shooter</td>\n",
       "      <td>27.39</td>\n",
       "    </tr>\n",
       "    <tr>\n",
       "      <td>Call of Duty: Black Ops 3</td>\n",
       "      <td>Shooter</td>\n",
       "      <td>25.67</td>\n",
       "    </tr>\n",
       "    <tr>\n",
       "      <td>Minecraft</td>\n",
       "      <td>Misc</td>\n",
       "      <td>24.16</td>\n",
       "    </tr>\n",
       "    <tr>\n",
       "      <td>Call of Duty: Advanced Warfare</td>\n",
       "      <td>Shooter</td>\n",
       "      <td>21.97</td>\n",
       "    </tr>\n",
       "    <tr>\n",
       "      <td>FIFA 15</td>\n",
       "      <td>Sports</td>\n",
       "      <td>17.37</td>\n",
       "    </tr>\n",
       "    <tr>\n",
       "      <td>FIFA 14</td>\n",
       "      <td>Sports</td>\n",
       "      <td>16.46</td>\n",
       "    </tr>\n",
       "    <tr>\n",
       "      <td>FIFA 16</td>\n",
       "      <td>Sports</td>\n",
       "      <td>16.30</td>\n",
       "    </tr>\n",
       "    <tr>\n",
       "      <td>Pokemon X/Pokemon Y</td>\n",
       "      <td>Role-Playing</td>\n",
       "      <td>14.60</td>\n",
       "    </tr>\n",
       "    <tr>\n",
       "      <td>Battlefield 4</td>\n",
       "      <td>Shooter</td>\n",
       "      <td>13.94</td>\n",
       "    </tr>\n",
       "    <tr>\n",
       "      <td>Assassin's Creed IV: Black Flag</td>\n",
       "      <td>Action</td>\n",
       "      <td>13.06</td>\n",
       "    </tr>\n",
       "    <tr>\n",
       "      <td>Fallout 4</td>\n",
       "      <td>Role-Playing</td>\n",
       "      <td>12.67</td>\n",
       "    </tr>\n",
       "    <tr>\n",
       "      <td>Destiny</td>\n",
       "      <td>Shooter</td>\n",
       "      <td>12.54</td>\n",
       "    </tr>\n",
       "    <tr>\n",
       "      <td>Super Smash Bros. for Wii U and 3DS</td>\n",
       "      <td>Fighting</td>\n",
       "      <td>12.42</td>\n",
       "    </tr>\n",
       "    <tr>\n",
       "      <td>Star Wars Battlefront (2015)</td>\n",
       "      <td>Shooter</td>\n",
       "      <td>12.19</td>\n",
       "    </tr>\n",
       "    <tr>\n",
       "      <td>Pokemon Omega Ruby/Pokemon Alpha Sapphire</td>\n",
       "      <td>Role-Playing</td>\n",
       "      <td>11.68</td>\n",
       "    </tr>\n",
       "    <tr>\n",
       "      <td>FIFA 17</td>\n",
       "      <td>Sports</td>\n",
       "      <td>11.48</td>\n",
       "    </tr>\n",
       "    <tr>\n",
       "      <td>The Last of Us</td>\n",
       "      <td>Action</td>\n",
       "      <td>10.58</td>\n",
       "    </tr>\n",
       "    <tr>\n",
       "      <td>LEGO Marvel Super Heroes</td>\n",
       "      <td>Action</td>\n",
       "      <td>9.41</td>\n",
       "    </tr>\n",
       "    <tr>\n",
       "      <td>Watch Dogs</td>\n",
       "      <td>Action</td>\n",
       "      <td>9.18</td>\n",
       "    </tr>\n",
       "  </tbody>\n",
       "</table>\n",
       "</div>"
      ],
      "text/plain": [
       "                                                        all_sales\n",
       "name                                      genre                  \n",
       "Grand Theft Auto V                        Action            56.58\n",
       "Call of Duty: Ghosts                      Shooter           27.39\n",
       "Call of Duty: Black Ops 3                 Shooter           25.67\n",
       "Minecraft                                 Misc              24.16\n",
       "Call of Duty: Advanced Warfare            Shooter           21.97\n",
       "FIFA 15                                   Sports            17.37\n",
       "FIFA 14                                   Sports            16.46\n",
       "FIFA 16                                   Sports            16.30\n",
       "Pokemon X/Pokemon Y                       Role-Playing      14.60\n",
       "Battlefield 4                             Shooter           13.94\n",
       "Assassin's Creed IV: Black Flag           Action            13.06\n",
       "Fallout 4                                 Role-Playing      12.67\n",
       "Destiny                                   Shooter           12.54\n",
       "Super Smash Bros. for Wii U and 3DS       Fighting          12.42\n",
       "Star Wars Battlefront (2015)              Shooter           12.19\n",
       "Pokemon Omega Ruby/Pokemon Alpha Sapphire Role-Playing      11.68\n",
       "FIFA 17                                   Sports            11.48\n",
       "The Last of Us                            Action            10.58\n",
       "LEGO Marvel Super Heroes                  Action             9.41\n",
       "Watch Dogs                                Action             9.18"
      ]
     },
     "execution_count": 27,
     "metadata": {},
     "output_type": "execute_result"
    }
   ],
   "source": [
    "data_new.pivot_table(index=['name', 'genre'], values='all_sales', aggfunc='sum').sort_values('all_sales', ascending = False).head(20)"
   ]
  },
  {
   "cell_type": "markdown",
   "metadata": {},
   "source": [
    "**Если сортировать игры по самым продаваемым, то в топ 20 будет 1 игра с жанром экшн, и куча шутеров. И майнкрафт к жанру музыки относится -_-**"
   ]
  },
  {
   "cell_type": "markdown",
   "metadata": {},
   "source": [
    "## Портрет пользователя каждого региона"
   ]
  },
  {
   "cell_type": "code",
   "execution_count": 28,
   "metadata": {},
   "outputs": [
    {
     "name": "stdout",
     "output_type": "stream",
     "text": [
      "platform\n",
      "PS4     0.282280\n",
      "XOne    0.241732\n",
      "X360    0.211983\n",
      "PS3     0.164841\n",
      "3DS     0.099164\n",
      "Name: na_sales, dtype: float64\n",
      "platform\n",
      "PS4     0.422463\n",
      "PS3     0.203042\n",
      "XOne    0.154475\n",
      "X360    0.127317\n",
      "3DS     0.092703\n",
      "Name: eu_sales, dtype: float64\n",
      "platform\n",
      "3DS     0.496449\n",
      "PS3     0.170950\n",
      "PSV     0.136101\n",
      "PS4     0.116846\n",
      "WiiU    0.079654\n",
      "Name: jp_sales, dtype: float64\n"
     ]
    }
   ],
   "source": [
    "# Самые популярные платформы по регионам \n",
    "na_sales = data_new.pivot_table(index='platform', values='na_sales', aggfunc='sum').sort_values('na_sales', ascending = False).head(5)\n",
    "na_sales_rate = na_sales['na_sales']/ na_sales['na_sales'].sum()\n",
    "print(na_sales_rate)\n",
    "\n",
    "eu_sales = data_new.pivot_table(index='platform', values='eu_sales', aggfunc='sum').sort_values('eu_sales', ascending = False).head(5)\n",
    "eu_sales_rate = eu_sales['eu_sales']/ eu_sales['eu_sales'].sum()\n",
    "print(eu_sales_rate)\n",
    "\n",
    "jp_sales = data_new.pivot_table(index='platform', values='jp_sales', aggfunc='sum').sort_values('jp_sales', ascending = False).head(5)\n",
    "jp_sales_rate = jp_sales['jp_sales']/ jp_sales['jp_sales'].sum()\n",
    "print(jp_sales_rate)"
   ]
  },
  {
   "cell_type": "code",
   "execution_count": 29,
   "metadata": {},
   "outputs": [
    {
     "data": {
      "image/png": "[encoded data removed]",
      "text/plain": [
       "<Figure size 432x288 with 1 Axes>"
      ]
     },
     "metadata": {
      "needs_background": "light"
     },
     "output_type": "display_data"
    }
   ],
   "source": [
    "# Все платформы \n",
    "all_platforms = []\n",
    "for i in na_sales.index:\n",
    "    if i not in all_platforms:\n",
    "        all_platforms.append(i)\n",
    "for j in eu_sales.index:\n",
    "    if j not in all_platforms:\n",
    "        all_platforms.append(j)\n",
    "for f in jp_sales.index:\n",
    "    if f not in all_platforms:\n",
    "        all_platforms.append(f)\n",
    "\n",
    "\n",
    "fig, ax = plt.subplots()\n",
    "rects1 = ax.bar(na_sales.index, na_sales['na_sales'], label='Северной Америка', alpha=0.5)\n",
    "rects2 = ax.bar(eu_sales.index, eu_sales['eu_sales'], label='Европа', alpha=0.5)\n",
    "rects2 = ax.bar(jp_sales.index, jp_sales['jp_sales'], label='Япония', alpha=0.5)\n",
    "\n",
    "# Add some text for labels, title and custom x-axis tick labels, etc.\n",
    "ax.set_ylabel('Продажи')\n",
    "ax.set_title('Продажи игр в разных странах по платформам')\n",
    "ax.set_xticklabels(all_platforms)\n",
    "ax.legend()\n",
    "\n",
    "        \n",
    "\n",
    "fig.tight_layout()\n",
    "\n",
    "plt.show()"
   ]
  },
  {
   "cell_type": "code",
   "execution_count": 30,
   "metadata": {},
   "outputs": [
    {
     "data": {
      "text/plain": [
       "Text(0.5, 1.0, 'Количество проданных игр по годам')"
      ]
     },
     "execution_count": 30,
     "metadata": {},
     "output_type": "execute_result"
    },
    {
     "data": {
      "image/png": "[encoded data removed]",
      "text/plain": [
       "<Figure size 1440x360 with 1 Axes>"
      ]
     },
     "metadata": {
      "needs_background": "light"
     },
     "output_type": "display_data"
    }
   ],
   "source": [
    "na_sales.plot(kind=\"bar\", grid=True, figsize=(20, 5))\n",
    "plt.xlabel('консоль')\n",
    "plt.ylabel('Количество игр')\n",
    "plt.title('Количество проданных игр по годам')"
   ]
  },
  {
   "cell_type": "code",
   "execution_count": 31,
   "metadata": {},
   "outputs": [
    {
     "data": {
      "text/plain": [
       "Text(0.5, 1.0, 'Количество проданных игр по годам')"
      ]
     },
     "execution_count": 31,
     "metadata": {},
     "output_type": "execute_result"
    },
    {
     "data": {
      "image/png": "[encoded data removed]",
      "text/plain": [
       "<Figure size 1440x360 with 1 Axes>"
      ]
     },
     "metadata": {
      "needs_background": "light"
     },
     "output_type": "display_data"
    }
   ],
   "source": [
    "eu_sales.plot(kind=\"bar\", grid=True, figsize=(20, 5))\n",
    "plt.xlabel('консоль')\n",
    "plt.ylabel('Количество игр')\n",
    "plt.title('Количество проданных игр по годам')"
   ]
  },
  {
   "cell_type": "code",
   "execution_count": 32,
   "metadata": {},
   "outputs": [
    {
     "data": {
      "text/plain": [
       "Text(0.5, 1.0, 'Количество проданных игр по годам')"
      ]
     },
     "execution_count": 32,
     "metadata": {},
     "output_type": "execute_result"
    },
    {
     "data": {
      "image/png": "[encoded data removed]",
      "text/plain": [
       "<Figure size 1440x360 with 1 Axes>"
      ]
     },
     "metadata": {
      "needs_background": "light"
     },
     "output_type": "display_data"
    }
   ],
   "source": [
    "jp_sales.plot(kind=\"bar\", grid=True, figsize=(20, 5))\n",
    "plt.xlabel('консоль')\n",
    "plt.ylabel('Количество игр')\n",
    "plt.title('Количество проданных игр по годам')"
   ]
  },
  {
   "cell_type": "markdown",
   "metadata": {},
   "source": [
    "***В случае с Америкой и Европой платформы почти одинаковые, а вот Япония как обычно отличилась. При чем топ 5 в европе и америке содержит одни и те же консоли просто в разном порядке, а в Японии добавляются PSV и WiiU.***\n"
   ]
  },
  {
   "cell_type": "code",
   "execution_count": 33,
   "metadata": {},
   "outputs": [
    {
     "name": "stdout",
     "output_type": "stream",
     "text": [
      "genre\n",
      "Action          0.336178\n",
      "Shooter         0.292679\n",
      "Sports          0.174077\n",
      "Role-Playing    0.123750\n",
      "Misc            0.073316\n",
      "Name: na_sales, dtype: float64\n",
      "genre\n",
      "Action          0.364970\n",
      "Shooter         0.271449\n",
      "Sports          0.186981\n",
      "Role-Playing    0.114221\n",
      "Racing          0.062378\n",
      "Name: eu_sales, dtype: float64\n",
      "genre\n",
      "Role-Playing    0.443865\n",
      "Action          0.352118\n",
      "Misc            0.080007\n",
      "Fighting        0.066528\n",
      "Shooter         0.057483\n",
      "Name: jp_sales, dtype: float64\n"
     ]
    }
   ],
   "source": [
    "# Самые популярные жанры по регионам \n",
    "na_genre = data_new.pivot_table(index='genre', values='na_sales', aggfunc='sum').sort_values('na_sales', ascending = False).head(5)\n",
    "na_genre_rate = na_genre['na_sales']/ na_genre['na_sales'].sum()\n",
    "print(na_genre_rate)\n",
    "\n",
    "eu_genre = data_new.pivot_table(index='genre', values='eu_sales', aggfunc='sum').sort_values('eu_sales', ascending = False).head(5)\n",
    "eu_genre_rate = eu_genre['eu_sales']/ eu_genre['eu_sales'].sum()\n",
    "print(eu_genre_rate)\n",
    "\n",
    "jp_genre = data_new.pivot_table(index='genre', values='jp_sales', aggfunc='sum').sort_values('jp_sales', ascending = False).head(5)\n",
    "jp_genre_rate = jp_genre['jp_sales']/ jp_genre['jp_sales'].sum()\n",
    "print(jp_genre_rate)"
   ]
  },
  {
   "cell_type": "code",
   "execution_count": 34,
   "metadata": {},
   "outputs": [
    {
     "data": {
      "image/png": "[encoded data removed]",
      "text/plain": [
       "<Figure size 432x288 with 1 Axes>"
      ]
     },
     "metadata": {
      "needs_background": "light"
     },
     "output_type": "display_data"
    }
   ],
   "source": [
    "all_platforms = []\n",
    "for i in na_genre.index:\n",
    "    if i not in all_platforms:\n",
    "        all_platforms.append(i)\n",
    "for j in eu_genre.index:\n",
    "    if j not in all_platforms:\n",
    "        all_platforms.append(j)\n",
    "for f in jp_genre.index:\n",
    "    if f not in all_platforms:\n",
    "        all_platforms.append(f)\n",
    "\n",
    "\n",
    "fig, ax = plt.subplots()\n",
    "rects1 = ax.bar(na_genre.index, na_sales['na_sales'], label='Северной Америка', alpha=0.5)\n",
    "rects2 = ax.bar(eu_genre.index, eu_sales['eu_sales'],bottom = na_sales['na_sales'], label='Европа', alpha=0.5)\n",
    "rects2 = ax.bar(jp_genre.index, jp_sales['jp_sales'], label='Япония', alpha=0.5)\n",
    "\n",
    "# Add some text for labels, title and custom x-axis tick labels, etc.\n",
    "ax.set_ylabel('Продажи')\n",
    "ax.set_title('Продажи игр в разных странах по платформам')\n",
    "ax.set_xticklabels(all_platforms)\n",
    "ax.legend()\n",
    "\n",
    "        \n",
    "\n",
    "fig.tight_layout()\n",
    "\n",
    "plt.show()"
   ]
  },
  {
   "cell_type": "markdown",
   "metadata": {},
   "source": [
    "***По жанрам тоже похожая ситуация. Хотя Экшены и Шутеры любят все. В Японии очень популярен жанр Role-Playing и Fighting. Возможно поэтому и отличаются платформы. Также Европейцы больше любят музыку, а американцы Гонки.***"
   ]
  },
  {
   "cell_type": "code",
   "execution_count": 35,
   "metadata": {},
   "outputs": [
    {
     "data": {
      "text/plain": [
       "M       369\n",
       "T       333\n",
       "E       302\n",
       "E10+    252\n",
       "Name: rating, dtype: int64"
      ]
     },
     "execution_count": 35,
     "metadata": {},
     "output_type": "execute_result"
    }
   ],
   "source": [
    "data_new['rating'].value_counts()"
   ]
  },
  {
   "cell_type": "markdown",
   "metadata": {},
   "source": [
    "- M - **17 years and older**\n",
    "- T - **13 years and older**\n",
    "- E - **Kids to Adults**\n",
    "- E10+ - **aged 10 years and older**"
   ]
  },
  {
   "cell_type": "code",
   "execution_count": 36,
   "metadata": {},
   "outputs": [
    {
     "name": "stdout",
     "output_type": "stream",
     "text": [
      "rating\n",
      "M       0.474346\n",
      "E       0.226966\n",
      "E10+    0.155732\n",
      "T       0.142956\n",
      "Name: na_sales, dtype: float64\n",
      "rating\n",
      "M       0.463807\n",
      "E       0.266054\n",
      "E10+    0.136250\n",
      "T       0.133889\n",
      "Name: eu_sales, dtype: float64\n",
      "rating\n",
      "T       0.369460\n",
      "E       0.271667\n",
      "M       0.253185\n",
      "E10+    0.105688\n",
      "Name: jp_sales, dtype: float64\n"
     ]
    }
   ],
   "source": [
    "# Самые популярные жанры по регионам \n",
    "na_rating = data_new.pivot_table(index='rating', values='na_sales', aggfunc='sum').sort_values('na_sales', ascending = False)\n",
    "na_rating = na_rating['na_sales'] / na_rating['na_sales'].sum()\n",
    "print(na_rating)\n",
    "eu_rating = data_new.pivot_table(index='rating', values='eu_sales', aggfunc='sum').sort_values('eu_sales', ascending = False)\n",
    "eu_rating = eu_rating['eu_sales'] / eu_rating['eu_sales'].sum()\n",
    "print(eu_rating)\n",
    "jp_rating = data_new.pivot_table(index='rating', values='jp_sales', aggfunc='sum').sort_values('jp_sales', ascending = False)\n",
    "jp_rating = jp_rating['jp_sales'] / jp_rating['jp_sales'].sum()\n",
    "print(jp_rating)"
   ]
  },
  {
   "cell_type": "markdown",
   "metadata": {},
   "source": [
    "***По этому рейтингу можно сделать вывод, что среди Европейских и Американских геймеров самые распространенные это люди 17+, а в Японии это в основном 13+. Хотя по этим данным нельзя выстроить полную картину. 2 место занимает во всех регионах рейтинг Е.Так же рейтинг однозначно влияет на покупку.***"
   ]
  },
  {
   "cell_type": "markdown",
   "metadata": {},
   "source": [
    "## Проверка гипотез"
   ]
  },
  {
   "cell_type": "code",
   "execution_count": 37,
   "metadata": {},
   "outputs": [
    {
     "name": "stdout",
     "output_type": "stream",
     "text": [
      "2.119042298225158\n",
      "2.932444842801986\n"
     ]
    }
   ],
   "source": [
    "xone = data_new.query('(platform == \"PS4\") and (user_score != -5) and (critic_score != -5)')['user_score']\n",
    "pc = data_new.query('(platform == \"PC\") and (user_score != -5) and (critic_score != -5)')['user_score']\n",
    "\n",
    "print(np.var(xone, ddof=1))\n",
    "print(np.var(pc, ddof=1))\n"
   ]
  },
  {
   "cell_type": "markdown",
   "metadata": {},
   "source": [
    "\n",
    "    Этот параметр 'equal_var' используется когда дисперсии двух выборок различны. Так-же я прочитал статью о том что лучше всега оставлять этот парамтер со значением False. \n"
   ]
  },
  {
   "cell_type": "code",
   "execution_count": 38,
   "metadata": {},
   "outputs": [
    {
     "name": "stdout",
     "output_type": "stream",
     "text": [
      "p-значение: 0.00826569237189147\n",
      "Отвергаем нулевую гипотезу\n"
     ]
    }
   ],
   "source": [
    "alpha = .05\n",
    "\n",
    "results = st.ttest_ind(\n",
    "    xone, \n",
    "    pc, \n",
    "    equal_var=False)\n",
    "\n",
    "print('p-значение:', results.pvalue)\n",
    "\n",
    "if (results.pvalue < alpha):\n",
    "    print(\"Отвергаем нулевую гипотезу\")\n",
    "else:\n",
    "    print(\"Не получилось отвергнуть нулевую гипотезу\")"
   ]
  },
  {
   "cell_type": "markdown",
   "metadata": {},
   "source": [
    "- ***H0*** - Рейтинги пользователй одинаковые \n",
    "- ***Н1*** - Рейтинги пользователй различаются"
   ]
  },
  {
   "cell_type": "code",
   "execution_count": 39,
   "metadata": {},
   "outputs": [
    {
     "data": {
      "text/html": [
       "<div>\n",
       "<style scoped>\n",
       "    .dataframe tbody tr th:only-of-type {\n",
       "        vertical-align: middle;\n",
       "    }\n",
       "\n",
       "    .dataframe tbody tr th {\n",
       "        vertical-align: top;\n",
       "    }\n",
       "\n",
       "    .dataframe thead th {\n",
       "        text-align: right;\n",
       "    }\n",
       "</style>\n",
       "<table border=\"1\" class=\"dataframe\">\n",
       "  <thead>\n",
       "    <tr style=\"text-align: right;\">\n",
       "      <th></th>\n",
       "      <th>user_score</th>\n",
       "    </tr>\n",
       "    <tr>\n",
       "      <th>platform</th>\n",
       "      <th></th>\n",
       "    </tr>\n",
       "  </thead>\n",
       "  <tbody>\n",
       "    <tr>\n",
       "      <td>PC</td>\n",
       "      <td>6.302027</td>\n",
       "    </tr>\n",
       "    <tr>\n",
       "      <td>XOne</td>\n",
       "      <td>6.538182</td>\n",
       "    </tr>\n",
       "  </tbody>\n",
       "</table>\n",
       "</div>"
      ],
      "text/plain": [
       "          user_score\n",
       "platform            \n",
       "PC          6.302027\n",
       "XOne        6.538182"
      ]
     },
     "execution_count": 39,
     "metadata": {},
     "output_type": "execute_result"
    }
   ],
   "source": [
    "box_pc = data_new.query('platform in (\"XOne\", \"PC\") and (user_score != -5) and (critic_score != -5)')\n",
    "box_pc.pivot_table(index='platform', values='user_score', aggfunc='mean')"
   ]
  },
  {
   "cell_type": "markdown",
   "metadata": {},
   "source": [
    "- **Гипотезу о том что рейтинг пользователя на обоих платформах одинаковый мы отвергаем.** \n",
    "- ***Если посмотреть, то разница довльно большая*** \n"
   ]
  },
  {
   "cell_type": "code",
   "execution_count": 40,
   "metadata": {},
   "outputs": [
    {
     "name": "stdout",
     "output_type": "stream",
     "text": [
      "1.6462144328163746\n",
      "2.1316396997497913\n"
     ]
    }
   ],
   "source": [
    "action = data_new.query('(genre == \"Action\") and (user_score != -5) and (critic_score != -5)')['user_score']\n",
    "sports = data_new.query('(genre == \"Sports\") and (user_score != -5) and (critic_score != -5)')['user_score']\n",
    "\n",
    "print(np.var(action, ddof=1))\n",
    "print(np.var(sports, ddof=1))"
   ]
  },
  {
   "cell_type": "code",
   "execution_count": 41,
   "metadata": {},
   "outputs": [
    {
     "name": "stdout",
     "output_type": "stream",
     "text": [
      "p-значение: 1.0496920005008588e-13\n",
      "Отвергаем нулевую гипотезу\n"
     ]
    }
   ],
   "source": [
    "alpha = .05\n",
    "\n",
    "results = st.ttest_ind(\n",
    "    action, \n",
    "    sports, \n",
    "    equal_var=False)\n",
    "\n",
    "print('p-значение:', results.pvalue)\n",
    "\n",
    "if (results.pvalue < alpha):\n",
    "    print(\"Отвергаем нулевую гипотезу\")\n",
    "else:\n",
    "    print(\"Не получилось отвергнуть нулевую гипотезу\")"
   ]
  },
  {
   "cell_type": "markdown",
   "metadata": {},
   "source": [
    "- ***H0*** - Рейтинги пользователй одинаковые \n",
    "- ***Н1*** - Рейтинги пользователй различаются"
   ]
  },
  {
   "cell_type": "code",
   "execution_count": 42,
   "metadata": {},
   "outputs": [
    {
     "data": {
      "text/html": [
       "<div>\n",
       "<style scoped>\n",
       "    .dataframe tbody tr th:only-of-type {\n",
       "        vertical-align: middle;\n",
       "    }\n",
       "\n",
       "    .dataframe tbody tr th {\n",
       "        vertical-align: top;\n",
       "    }\n",
       "\n",
       "    .dataframe thead th {\n",
       "        text-align: right;\n",
       "    }\n",
       "</style>\n",
       "<table border=\"1\" class=\"dataframe\">\n",
       "  <thead>\n",
       "    <tr style=\"text-align: right;\">\n",
       "      <th></th>\n",
       "      <th>user_score</th>\n",
       "    </tr>\n",
       "    <tr>\n",
       "      <th>genre</th>\n",
       "      <th></th>\n",
       "    </tr>\n",
       "  </thead>\n",
       "  <tbody>\n",
       "    <tr>\n",
       "      <td>Action</td>\n",
       "      <td>7.093317</td>\n",
       "    </tr>\n",
       "    <tr>\n",
       "      <td>Sports</td>\n",
       "      <td>7.105653</td>\n",
       "    </tr>\n",
       "  </tbody>\n",
       "</table>\n",
       "</div>"
      ],
      "text/plain": [
       "        user_score\n",
       "genre             \n",
       "Action    7.093317\n",
       "Sports    7.105653"
      ]
     },
     "execution_count": 42,
     "metadata": {},
     "output_type": "execute_result"
    }
   ],
   "source": [
    "action_sport = data.query('genre in (\"Action\", \"Sports\") and (user_score != -5) and (critic_score != -5)')\n",
    "action_sport.pivot_table(index='genre', values='user_score', aggfunc='mean')"
   ]
  },
  {
   "cell_type": "markdown",
   "metadata": {},
   "source": [
    "- **Гипотезу о том что рейтинг пользователя на обоих платформах одинаковый мы отвергаем.** \n",
    "- ***Если посмотреть, то разница довльно большая. Пользователи предпочитают экшен спортивным играм*** \n"
   ]
  },
  {
   "cell_type": "markdown",
   "metadata": {},
   "source": [
    "## Вывод\n"
   ]
  },
  {
   "cell_type": "markdown",
   "metadata": {},
   "source": [
    "**Можно сделать вывод о том чтобы продажи шли хорошо нужно продавать игры по этим критериям:**\n",
    "\n",
    "- Чтобы пользоваться популярностью на европейском или американском рынке игра должна быть разработана для XboxOne и PS4, а вот для японии лучше всего будет игра на 3DS.\n",
    "- Самый лучший жанр это Экшен. Он подходит всем. Так же для европы и америки популярны шутеры, а для японии role-play.\n",
    "- Рейтинг ESRB должен быть либо от 17 лет для Америки и Европы или от 13 лет для Японии. Рейтинг Kids to Adults тоже будет хорошим решением так как идет на втором месте во всех странах.\n",
    "\n",
    "***Думать об оценке пользователей нет смысла. А вот отзывы критиков важны.***\n",
    "\n",
    "*Портрет пользователя Европы:*\n",
    " - Лучшая платформа ПС4 и ПС3 \n",
    " - Лучший жанр это Экшен и Шутер \n",
    " - Рейтинг ESRB должен быть: M или Е\n",
    " \n",
    " *Портрет пользователя Америки:*\n",
    " - Лучшая платформа ПС4 и ХboxONE \n",
    " - Лучший жанр это Экшен и Шутер \n",
    " - Рейтинг ESRB должен быть: M или Е\n",
    " \n",
    " *Портрет пользователя Японии:*\n",
    " - Лучшая платформа 3DS и ПС3 \n",
    " - Лучший жанр это Role-Playing и Action \n",
    " - Рейтинг ESRB должен быть: Т или Е"
   ]
  }
 ],
 "metadata": {
  "kernelspec": {
   "display_name": "Python 3",
   "language": "python",
   "name": "python3"
  },
  "language_info": {
   "codemirror_mode": {
    "name": "ipython",
    "version": 3
   },
   "file_extension": ".py",
   "mimetype": "text/x-python",
   "name": "python",
   "nbconvert_exporter": "python",
   "pygments_lexer": "ipython3",
   "version": "3.7.8"
  },
  "toc": {
   "base_numbering": 1,
   "nav_menu": {},
   "number_sections": true,
   "sideBar": true,
   "skip_h1_title": false,
   "title_cell": "Table of Contents",
   "title_sidebar": "Contents",
   "toc_cell": false,
   "toc_position": {},
   "toc_section_display": true,
   "toc_window_display": false
  }
 },
 "nbformat": 4,
 "nbformat_minor": 2
}
