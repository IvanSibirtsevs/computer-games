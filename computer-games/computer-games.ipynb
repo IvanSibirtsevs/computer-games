{
 "cells": [
  {
   "cell_type": "markdown",
   "metadata": {},
   "source": [
    "# Definition of successful computer games for the next year\n",
    "\n",
    "For the Strimchik online store that sells computer games, it is necessary to find patterns that make the game successful. Information for past years is available from the input data. According to it, you need to determine which ads you need to run in which regions. And what games will be popular next year"
   ]
  },
  {
   "cell_type": "markdown",
   "metadata": {},
   "source": [
    "## General information"
   ]
  },
  {
   "cell_type": "code",
   "execution_count": 1,
   "metadata": {},
   "outputs": [],
   "source": [
    "import pandas as pd\n",
    "from functools import reduce\n",
    "import matplotlib.pyplot as plt\n",
    "import numpy as np\n",
    "import seaborn as sns\n",
    "from scipy import stats as st"
   ]
  },
  {
   "cell_type": "code",
   "execution_count": 2,
   "metadata": {},
   "outputs": [
    {
     "name": "stdout",
     "output_type": "stream",
     "text": [
      "<class 'pandas.core.frame.DataFrame'>\n",
      "RangeIndex: 16715 entries, 0 to 16714\n",
      "Data columns (total 11 columns):\n",
      " #   Column           Non-Null Count  Dtype  \n",
      "---  ------           --------------  -----  \n",
      " 0   Name             16713 non-null  object \n",
      " 1   Platform         16715 non-null  object \n",
      " 2   Year_of_Release  16446 non-null  float64\n",
      " 3   Genre            16713 non-null  object \n",
      " 4   NA_sales         16715 non-null  float64\n",
      " 5   EU_sales         16715 non-null  float64\n",
      " 6   JP_sales         16715 non-null  float64\n",
      " 7   Other_sales      16715 non-null  float64\n",
      " 8   Critic_Score     8137 non-null   float64\n",
      " 9   User_Score       10014 non-null  object \n",
      " 10  Rating           9949 non-null   object \n",
      "dtypes: float64(6), object(5)\n",
      "memory usage: 1.4+ MB\n"
     ]
    },
    {
     "data": {
      "text/html": [
       "<div>\n",
       "<style scoped>\n",
       "    .dataframe tbody tr th:only-of-type {\n",
       "        vertical-align: middle;\n",
       "    }\n",
       "\n",
       "    .dataframe tbody tr th {\n",
       "        vertical-align: top;\n",
       "    }\n",
       "\n",
       "    .dataframe thead th {\n",
       "        text-align: right;\n",
       "    }\n",
       "</style>\n",
       "<table border=\"1\" class=\"dataframe\">\n",
       "  <thead>\n",
       "    <tr style=\"text-align: right;\">\n",
       "      <th></th>\n",
       "      <th>Name</th>\n",
       "      <th>Platform</th>\n",
       "      <th>Year_of_Release</th>\n",
       "      <th>Genre</th>\n",
       "      <th>NA_sales</th>\n",
       "      <th>EU_sales</th>\n",
       "      <th>JP_sales</th>\n",
       "      <th>Other_sales</th>\n",
       "      <th>Critic_Score</th>\n",
       "      <th>User_Score</th>\n",
       "      <th>Rating</th>\n",
       "    </tr>\n",
       "  </thead>\n",
       "  <tbody>\n",
       "    <tr>\n",
       "      <th>0</th>\n",
       "      <td>Wii Sports</td>\n",
       "      <td>Wii</td>\n",
       "      <td>2006.0</td>\n",
       "      <td>Sports</td>\n",
       "      <td>41.36</td>\n",
       "      <td>28.96</td>\n",
       "      <td>3.77</td>\n",
       "      <td>8.45</td>\n",
       "      <td>76.0</td>\n",
       "      <td>8</td>\n",
       "      <td>E</td>\n",
       "    </tr>\n",
       "    <tr>\n",
       "      <th>1</th>\n",
       "      <td>Super Mario Bros.</td>\n",
       "      <td>NES</td>\n",
       "      <td>1985.0</td>\n",
       "      <td>Platform</td>\n",
       "      <td>29.08</td>\n",
       "      <td>3.58</td>\n",
       "      <td>6.81</td>\n",
       "      <td>0.77</td>\n",
       "      <td>NaN</td>\n",
       "      <td>NaN</td>\n",
       "      <td>NaN</td>\n",
       "    </tr>\n",
       "    <tr>\n",
       "      <th>2</th>\n",
       "      <td>Mario Kart Wii</td>\n",
       "      <td>Wii</td>\n",
       "      <td>2008.0</td>\n",
       "      <td>Racing</td>\n",
       "      <td>15.68</td>\n",
       "      <td>12.76</td>\n",
       "      <td>3.79</td>\n",
       "      <td>3.29</td>\n",
       "      <td>82.0</td>\n",
       "      <td>8.3</td>\n",
       "      <td>E</td>\n",
       "    </tr>\n",
       "    <tr>\n",
       "      <th>3</th>\n",
       "      <td>Wii Sports Resort</td>\n",
       "      <td>Wii</td>\n",
       "      <td>2009.0</td>\n",
       "      <td>Sports</td>\n",
       "      <td>15.61</td>\n",
       "      <td>10.93</td>\n",
       "      <td>3.28</td>\n",
       "      <td>2.95</td>\n",
       "      <td>80.0</td>\n",
       "      <td>8</td>\n",
       "      <td>E</td>\n",
       "    </tr>\n",
       "    <tr>\n",
       "      <th>4</th>\n",
       "      <td>Pokemon Red/Pokemon Blue</td>\n",
       "      <td>GB</td>\n",
       "      <td>1996.0</td>\n",
       "      <td>Role-Playing</td>\n",
       "      <td>11.27</td>\n",
       "      <td>8.89</td>\n",
       "      <td>10.22</td>\n",
       "      <td>1.00</td>\n",
       "      <td>NaN</td>\n",
       "      <td>NaN</td>\n",
       "      <td>NaN</td>\n",
       "    </tr>\n",
       "    <tr>\n",
       "      <th>5</th>\n",
       "      <td>Tetris</td>\n",
       "      <td>GB</td>\n",
       "      <td>1989.0</td>\n",
       "      <td>Puzzle</td>\n",
       "      <td>23.20</td>\n",
       "      <td>2.26</td>\n",
       "      <td>4.22</td>\n",
       "      <td>0.58</td>\n",
       "      <td>NaN</td>\n",
       "      <td>NaN</td>\n",
       "      <td>NaN</td>\n",
       "    </tr>\n",
       "    <tr>\n",
       "      <th>6</th>\n",
       "      <td>New Super Mario Bros.</td>\n",
       "      <td>DS</td>\n",
       "      <td>2006.0</td>\n",
       "      <td>Platform</td>\n",
       "      <td>11.28</td>\n",
       "      <td>9.14</td>\n",
       "      <td>6.50</td>\n",
       "      <td>2.88</td>\n",
       "      <td>89.0</td>\n",
       "      <td>8.5</td>\n",
       "      <td>E</td>\n",
       "    </tr>\n",
       "    <tr>\n",
       "      <th>7</th>\n",
       "      <td>Wii Play</td>\n",
       "      <td>Wii</td>\n",
       "      <td>2006.0</td>\n",
       "      <td>Misc</td>\n",
       "      <td>13.96</td>\n",
       "      <td>9.18</td>\n",
       "      <td>2.93</td>\n",
       "      <td>2.84</td>\n",
       "      <td>58.0</td>\n",
       "      <td>6.6</td>\n",
       "      <td>E</td>\n",
       "    </tr>\n",
       "    <tr>\n",
       "      <th>8</th>\n",
       "      <td>New Super Mario Bros. Wii</td>\n",
       "      <td>Wii</td>\n",
       "      <td>2009.0</td>\n",
       "      <td>Platform</td>\n",
       "      <td>14.44</td>\n",
       "      <td>6.94</td>\n",
       "      <td>4.70</td>\n",
       "      <td>2.24</td>\n",
       "      <td>87.0</td>\n",
       "      <td>8.4</td>\n",
       "      <td>E</td>\n",
       "    </tr>\n",
       "    <tr>\n",
       "      <th>9</th>\n",
       "      <td>Duck Hunt</td>\n",
       "      <td>NES</td>\n",
       "      <td>1984.0</td>\n",
       "      <td>Shooter</td>\n",
       "      <td>26.93</td>\n",
       "      <td>0.63</td>\n",
       "      <td>0.28</td>\n",
       "      <td>0.47</td>\n",
       "      <td>NaN</td>\n",
       "      <td>NaN</td>\n",
       "      <td>NaN</td>\n",
       "    </tr>\n",
       "  </tbody>\n",
       "</table>\n",
       "</div>"
      ],
      "text/plain": [
       "                        Name Platform  Year_of_Release         Genre  \\\n",
       "0                 Wii Sports      Wii           2006.0        Sports   \n",
       "1          Super Mario Bros.      NES           1985.0      Platform   \n",
       "2             Mario Kart Wii      Wii           2008.0        Racing   \n",
       "3          Wii Sports Resort      Wii           2009.0        Sports   \n",
       "4   Pokemon Red/Pokemon Blue       GB           1996.0  Role-Playing   \n",
       "5                     Tetris       GB           1989.0        Puzzle   \n",
       "6      New Super Mario Bros.       DS           2006.0      Platform   \n",
       "7                   Wii Play      Wii           2006.0          Misc   \n",
       "8  New Super Mario Bros. Wii      Wii           2009.0      Platform   \n",
       "9                  Duck Hunt      NES           1984.0       Shooter   \n",
       "\n",
       "   NA_sales  EU_sales  JP_sales  Other_sales  Critic_Score User_Score Rating  \n",
       "0     41.36     28.96      3.77         8.45          76.0          8      E  \n",
       "1     29.08      3.58      6.81         0.77           NaN        NaN    NaN  \n",
       "2     15.68     12.76      3.79         3.29          82.0        8.3      E  \n",
       "3     15.61     10.93      3.28         2.95          80.0          8      E  \n",
       "4     11.27      8.89     10.22         1.00           NaN        NaN    NaN  \n",
       "5     23.20      2.26      4.22         0.58           NaN        NaN    NaN  \n",
       "6     11.28      9.14      6.50         2.88          89.0        8.5      E  \n",
       "7     13.96      9.18      2.93         2.84          58.0        6.6      E  \n",
       "8     14.44      6.94      4.70         2.24          87.0        8.4      E  \n",
       "9     26.93      0.63      0.28         0.47           NaN        NaN    NaN  "
      ]
     },
     "execution_count": 2,
     "metadata": {},
     "output_type": "execute_result"
    }
   ],
   "source": [
    "data = pd.read_csv(\"/datasets/games.csv\")\n",
    "data.info()\n",
    "data.head(10)"
   ]
  },
  {
   "cell_type": "markdown",
   "metadata": {},
   "source": [
    "## Data preparation"
   ]
  },
  {
   "cell_type": "code",
   "execution_count": 3,
   "metadata": {},
   "outputs": [],
   "source": [
    "#Replacing column names\n",
    "data = data.rename(columns = {'Name':'name', 'Platform': 'platform', 'Year_of_Release': 'year_of_release', 'Genre': 'genre', 'NA_sales': 'na_sales', 'EU_sales': 'eu_sales', 'JP_sales': 'jp_sales', 'Other_sales': 'other_sales', 'Critic_Score':'critic_score', 'User_Score': 'user_score', 'Rating': 'rating'}, inplace = False)"
   ]
  },
  {
   "cell_type": "code",
   "execution_count": 4,
   "metadata": {},
   "outputs": [],
   "source": [
    "# Replacing the value type with Int\n",
    "data['year_of_release'] = data['year_of_release'].astype('Int64')\n",
    "data['critic_score'] = data['critic_score'].astype('Int64')"
   ]
  },
  {
   "cell_type": "code",
   "execution_count": 5,
   "metadata": {},
   "outputs": [
    {
     "name": "stdout",
     "output_type": "stream",
     "text": [
      "Number of games: 11559\n",
      "E       3990\n",
      "T       2961\n",
      "M       1563\n",
      "E10+    1420\n",
      "EC         8\n",
      "K-A        3\n",
      "RP         3\n",
      "AO         1\n",
      "Name: rating, dtype: int64\n"
     ]
    },
    {
     "data": {
      "text/plain": [
       "0.0012976901116013497"
      ]
     },
     "execution_count": 5,
     "metadata": {},
     "output_type": "execute_result"
    }
   ],
   "source": [
    "print(f'Number of games: {data.reset_index().name.nunique()}')\n",
    "print(data['rating'].value_counts())\n",
    "15/11559"
   ]
  },
  {
   "cell_type": "code",
   "execution_count": 6,
   "metadata": {
    "scrolled": true
   },
   "outputs": [],
   "source": [
    "# Remove too rare values. (They will affect the final result)\n",
    "data = data.drop(data[data.rating == 'EC' ].index) \n",
    "data = data.drop(data[data.rating == 'RP'].index)\n",
    "data = data.drop(data[data.rating == 'K-A'].index)\n",
    "data = data.drop(data[data.rating == 'AO'].index)"
   ]
  },
  {
   "cell_type": "code",
   "execution_count": 7,
   "metadata": {},
   "outputs": [],
   "source": [
    "data.dropna(subset = ['genre'], inplace = True) # remove gaps\n",
    "data.loc[data['user_score'] == 'tbd', 'user_score'] = None # Change tbd value to None\n",
    "data['user_score'] = data['user_score'].astype('float')\n",
    "\n",
    "data['critic_score'] = data['critic_score'].fillna(value = -5) # replace missing values with -5 (it will be easy to find and exclude later)\n",
    "data['user_score'] = data['user_score'].fillna(value = -5) # replace missing values with -5"
   ]
  },
  {
   "cell_type": "markdown",
   "metadata": {},
   "source": [
    "***I replaced these values with -5 so that it would be easy to find and exclude them later***"
   ]
  },
  {
   "cell_type": "markdown",
   "metadata": {},
   "source": [
    "***Reason for data replacement:***\n",
    "    \n",
    "- There are only 2 gaps in the genre column, so we remove them\n",
    "- The user score column has the value tbd which means (to be determined later) so replace it with None\n",
    "     after we replace all values of None with the median.\n",
    "- In the user score column, replace the entire value of None with the median\n",
    "\n",
    "- In the rating column, remove outliers. (There are too few games with such a rating)\n",
    "- Also in the columns year of release, critic_score and user score we change the data type\n"
   ]
  },
  {
   "cell_type": "code",
   "execution_count": 8,
   "metadata": {},
   "outputs": [
    {
     "data": {
      "text/plain": [
       "0    82.54\n",
       "1    40.24\n",
       "2    35.52\n",
       "3    32.77\n",
       "4    31.38\n",
       "5    30.26\n",
       "6    29.80\n",
       "7    28.91\n",
       "8    28.32\n",
       "9    28.31\n",
       "Name: all_sales, dtype: float64"
      ]
     },
     "execution_count": 8,
     "metadata": {},
     "output_type": "execute_result"
    }
   ],
   "source": [
    "data['all_sales'] = data['na_sales'] + data['eu_sales'] + data['jp_sales'] + data['other_sales'] # All sales\n",
    "data['all_sales'].head(10)"
   ]
  },
  {
   "cell_type": "markdown",
   "metadata": {},
   "source": [
    "## Exploratory data analysis"
   ]
  },
  {
   "cell_type": "code",
   "execution_count": 9,
   "metadata": {},
   "outputs": [
    {
     "data": {
      "text/plain": [
       "Text(0.5, 1.0, 'Number of games sold by year')"
      ]
     },
     "execution_count": 9,
     "metadata": {},
     "output_type": "execute_result"
    },
    {
     "data": {
      "image/png": "[encoded data removed]",
      "text/plain": [
       "<Figure size 1440x360 with 1 Axes>"
      ]
     },
     "metadata": {
      "needs_background": "light"
     },
     "output_type": "display_data"
    }
   ],
   "source": [
    "data.pivot_table(index=\"year_of_release\", values=\"all_sales\", aggfunc='count').plot(kind=\"bar\", grid=True, figsize=(20, 5)) # Number of games sold by year\n",
    "plt.xlabel('year')\n",
    "plt.ylabel('Number of games')\n",
    "plt.title('Number of games sold by year')"
   ]
  },
  {
   "cell_type": "markdown",
   "metadata": {},
   "source": [
    "***Judging by the graph, data after 1994 is not very important to us***"
   ]
  },
  {
   "cell_type": "code",
   "execution_count": 10,
   "metadata": {},
   "outputs": [],
   "source": [
    "# Sorting Platforms by year of game release\n",
    "sails_year = data.pivot_table(index='year_of_release', columns='platform', values='all_sales', aggfunc='sum')\n",
    "sails_year.fillna(0, inplace=True)\n"
   ]
  },
  {
   "cell_type": "code",
   "execution_count": 11,
   "metadata": {},
   "outputs": [
    {
     "name": "stdout",
     "output_type": "stream",
     "text": [
      "[10, 2, 6, 7, 11, 13, 8, 7, 5, 1, 7, 12, 4, 26, 1, 10, 12, 11, 4, 12, 6, 6, 2, 10, 1, 3, 11, 5, 12, 9, 4]\n"
     ]
    }
   ],
   "source": [
    "notnull=[] # Empty list\n",
    "#Count the number of non-zero values for each prefix by years.\n",
    "for platform in sails_year.columns:\n",
    "    notnull.append(sails_year[platform].ne(0).value_counts().loc[sails_year[platform].ne(0).value_counts().index == True].values[0])\n",
    "print(notnull)    "
   ]
  },
  {
   "cell_type": "code",
   "execution_count": 12,
   "metadata": {},
   "outputs": [
    {
     "data": {
      "text/html": [
       "<div>\n",
       "<style scoped>\n",
       "    .dataframe tbody tr th:only-of-type {\n",
       "        vertical-align: middle;\n",
       "    }\n",
       "\n",
       "    .dataframe tbody tr th {\n",
       "        vertical-align: top;\n",
       "    }\n",
       "\n",
       "    .dataframe thead th {\n",
       "        text-align: right;\n",
       "    }\n",
       "</style>\n",
       "<table border=\"1\" class=\"dataframe\">\n",
       "  <thead>\n",
       "    <tr style=\"text-align: right;\">\n",
       "      <th></th>\n",
       "      <th>seling</th>\n",
       "    </tr>\n",
       "  </thead>\n",
       "  <tbody>\n",
       "    <tr>\n",
       "      <th>count</th>\n",
       "      <td>31.000000</td>\n",
       "    </tr>\n",
       "    <tr>\n",
       "      <th>mean</th>\n",
       "      <td>7.677419</td>\n",
       "    </tr>\n",
       "    <tr>\n",
       "      <th>std</th>\n",
       "      <td>5.081910</td>\n",
       "    </tr>\n",
       "    <tr>\n",
       "      <th>min</th>\n",
       "      <td>1.000000</td>\n",
       "    </tr>\n",
       "    <tr>\n",
       "      <th>25%</th>\n",
       "      <td>4.000000</td>\n",
       "    </tr>\n",
       "    <tr>\n",
       "      <th>50%</th>\n",
       "      <td>7.000000</td>\n",
       "    </tr>\n",
       "    <tr>\n",
       "      <th>75%</th>\n",
       "      <td>11.000000</td>\n",
       "    </tr>\n",
       "    <tr>\n",
       "      <th>max</th>\n",
       "      <td>26.000000</td>\n",
       "    </tr>\n",
       "  </tbody>\n",
       "</table>\n",
       "</div>"
      ],
      "text/plain": [
       "          seling\n",
       "count  31.000000\n",
       "mean    7.677419\n",
       "std     5.081910\n",
       "min     1.000000\n",
       "25%     4.000000\n",
       "50%     7.000000\n",
       "75%    11.000000\n",
       "max    26.000000"
      ]
     },
     "execution_count": 12,
     "metadata": {},
     "output_type": "execute_result"
    }
   ],
   "source": [
    "notnull = pd.DataFrame(notnull, columns=['seling']) # create a dataframe\n",
    "notnull.describe() # find out the median"
   ]
  },
  {
   "cell_type": "code",
   "execution_count": 13,
   "metadata": {
    "scrolled": true
   },
   "outputs": [
    {
     "data": {
      "text/plain": [
       "Text(0.5, 1.0, 'Number of consoles by year')"
      ]
     },
     "execution_count": 13,
     "metadata": {},
     "output_type": "execute_result"
    },
    {
     "data": {
      "image/png": "[encoded data removed]",
      "text/plain": [
       "<Figure size 432x288 with 1 Axes>"
      ]
     },
     "metadata": {
      "needs_background": "light"
     },
     "output_type": "display_data"
    }
   ],
   "source": [
    "notnull.hist(bins=50) # Histogram\n",
    "plt.xlabel('number of years')\n",
    "plt.ylabel('Number of consoles')\n",
    "plt.title('Number of consoles by year')"
   ]
  },
  {
   "cell_type": "markdown",
   "metadata": {},
   "source": [
    "***Average release time for console games is about 7 years.***"
   ]
  },
  {
   "cell_type": "code",
   "execution_count": 14,
   "metadata": {},
   "outputs": [
    {
     "data": {
      "text/html": [
       "<div>\n",
       "<style scoped>\n",
       "    .dataframe tbody tr th:only-of-type {\n",
       "        vertical-align: middle;\n",
       "    }\n",
       "\n",
       "    .dataframe tbody tr th {\n",
       "        vertical-align: top;\n",
       "    }\n",
       "\n",
       "    .dataframe thead th {\n",
       "        text-align: right;\n",
       "    }\n",
       "</style>\n",
       "<table border=\"1\" class=\"dataframe\">\n",
       "  <thead>\n",
       "    <tr style=\"text-align: right;\">\n",
       "      <th></th>\n",
       "      <th>all_sales</th>\n",
       "    </tr>\n",
       "    <tr>\n",
       "      <th>platform</th>\n",
       "      <th></th>\n",
       "    </tr>\n",
       "  </thead>\n",
       "  <tbody>\n",
       "    <tr>\n",
       "      <th>PS2</th>\n",
       "      <td>1255.53</td>\n",
       "    </tr>\n",
       "    <tr>\n",
       "      <th>X360</th>\n",
       "      <td>971.42</td>\n",
       "    </tr>\n",
       "    <tr>\n",
       "      <th>PS3</th>\n",
       "      <td>939.65</td>\n",
       "    </tr>\n",
       "    <tr>\n",
       "      <th>Wii</th>\n",
       "      <td>906.85</td>\n",
       "    </tr>\n",
       "    <tr>\n",
       "      <th>DS</th>\n",
       "      <td>805.47</td>\n",
       "    </tr>\n",
       "    <tr>\n",
       "      <th>PS</th>\n",
       "      <td>728.95</td>\n",
       "    </tr>\n",
       "    <tr>\n",
       "      <th>GBA</th>\n",
       "      <td>317.85</td>\n",
       "    </tr>\n",
       "    <tr>\n",
       "      <th>PS4</th>\n",
       "      <td>314.14</td>\n",
       "    </tr>\n",
       "    <tr>\n",
       "      <th>PSP</th>\n",
       "      <td>294.05</td>\n",
       "    </tr>\n",
       "    <tr>\n",
       "      <th>3DS</th>\n",
       "      <td>259.00</td>\n",
       "    </tr>\n",
       "  </tbody>\n",
       "</table>\n",
       "</div>"
      ],
      "text/plain": [
       "          all_sales\n",
       "platform           \n",
       "PS2         1255.53\n",
       "X360         971.42\n",
       "PS3          939.65\n",
       "Wii          906.85\n",
       "DS           805.47\n",
       "PS           728.95\n",
       "GBA          317.85\n",
       "PS4          314.14\n",
       "PSP          294.05\n",
       "3DS          259.00"
      ]
     },
     "execution_count": 14,
     "metadata": {},
     "output_type": "execute_result"
    }
   ],
   "source": [
    "# Top platforms by number of games sold\n",
    "top = data.pivot_table(index='platform', values='all_sales', aggfunc='sum').sort_values('all_sales', ascending = False).head(10)\n",
    "top"
   ]
  },
  {
   "cell_type": "code",
   "execution_count": 15,
   "metadata": {},
   "outputs": [
    {
     "data": {
      "text/html": [
       "<div>\n",
       "<style scoped>\n",
       "    .dataframe tbody tr th:only-of-type {\n",
       "        vertical-align: middle;\n",
       "    }\n",
       "\n",
       "    .dataframe tbody tr th {\n",
       "        vertical-align: top;\n",
       "    }\n",
       "\n",
       "    .dataframe thead th {\n",
       "        text-align: right;\n",
       "    }\n",
       "</style>\n",
       "<table border=\"1\" class=\"dataframe\">\n",
       "  <thead>\n",
       "    <tr style=\"text-align: right;\">\n",
       "      <th>platform</th>\n",
       "      <th>3DS</th>\n",
       "      <th>DS</th>\n",
       "      <th>GBA</th>\n",
       "      <th>PS</th>\n",
       "      <th>PS2</th>\n",
       "      <th>PS3</th>\n",
       "      <th>PS4</th>\n",
       "      <th>PSP</th>\n",
       "      <th>Wii</th>\n",
       "      <th>X360</th>\n",
       "    </tr>\n",
       "    <tr>\n",
       "      <th>year_of_release</th>\n",
       "      <th></th>\n",
       "      <th></th>\n",
       "      <th></th>\n",
       "      <th></th>\n",
       "      <th></th>\n",
       "      <th></th>\n",
       "      <th></th>\n",
       "      <th></th>\n",
       "      <th></th>\n",
       "      <th></th>\n",
       "    </tr>\n",
       "  </thead>\n",
       "  <tbody>\n",
       "    <tr>\n",
       "      <th>1994</th>\n",
       "      <td>0.00</td>\n",
       "      <td>0.00</td>\n",
       "      <td>0.00</td>\n",
       "      <td>6.03</td>\n",
       "      <td>0.00</td>\n",
       "      <td>0.00</td>\n",
       "      <td>0.00</td>\n",
       "      <td>0.00</td>\n",
       "      <td>0.00</td>\n",
       "      <td>0.00</td>\n",
       "    </tr>\n",
       "    <tr>\n",
       "      <th>1995</th>\n",
       "      <td>0.00</td>\n",
       "      <td>0.00</td>\n",
       "      <td>0.00</td>\n",
       "      <td>35.96</td>\n",
       "      <td>0.00</td>\n",
       "      <td>0.00</td>\n",
       "      <td>0.00</td>\n",
       "      <td>0.00</td>\n",
       "      <td>0.00</td>\n",
       "      <td>0.00</td>\n",
       "    </tr>\n",
       "    <tr>\n",
       "      <th>1996</th>\n",
       "      <td>0.00</td>\n",
       "      <td>0.00</td>\n",
       "      <td>0.00</td>\n",
       "      <td>92.79</td>\n",
       "      <td>0.00</td>\n",
       "      <td>0.00</td>\n",
       "      <td>0.00</td>\n",
       "      <td>0.00</td>\n",
       "      <td>0.00</td>\n",
       "      <td>0.00</td>\n",
       "    </tr>\n",
       "    <tr>\n",
       "      <th>1997</th>\n",
       "      <td>0.00</td>\n",
       "      <td>0.00</td>\n",
       "      <td>0.00</td>\n",
       "      <td>136.17</td>\n",
       "      <td>0.00</td>\n",
       "      <td>0.00</td>\n",
       "      <td>0.00</td>\n",
       "      <td>0.00</td>\n",
       "      <td>0.00</td>\n",
       "      <td>0.00</td>\n",
       "    </tr>\n",
       "    <tr>\n",
       "      <th>1998</th>\n",
       "      <td>0.00</td>\n",
       "      <td>0.00</td>\n",
       "      <td>0.00</td>\n",
       "      <td>169.49</td>\n",
       "      <td>0.00</td>\n",
       "      <td>0.00</td>\n",
       "      <td>0.00</td>\n",
       "      <td>0.00</td>\n",
       "      <td>0.00</td>\n",
       "      <td>0.00</td>\n",
       "    </tr>\n",
       "    <tr>\n",
       "      <th>1999</th>\n",
       "      <td>0.00</td>\n",
       "      <td>0.00</td>\n",
       "      <td>0.00</td>\n",
       "      <td>144.53</td>\n",
       "      <td>0.00</td>\n",
       "      <td>0.00</td>\n",
       "      <td>0.00</td>\n",
       "      <td>0.00</td>\n",
       "      <td>0.00</td>\n",
       "      <td>0.00</td>\n",
       "    </tr>\n",
       "    <tr>\n",
       "      <th>2000</th>\n",
       "      <td>0.00</td>\n",
       "      <td>0.00</td>\n",
       "      <td>0.07</td>\n",
       "      <td>96.37</td>\n",
       "      <td>39.17</td>\n",
       "      <td>0.00</td>\n",
       "      <td>0.00</td>\n",
       "      <td>0.00</td>\n",
       "      <td>0.00</td>\n",
       "      <td>0.00</td>\n",
       "    </tr>\n",
       "    <tr>\n",
       "      <th>2001</th>\n",
       "      <td>0.00</td>\n",
       "      <td>0.00</td>\n",
       "      <td>61.53</td>\n",
       "      <td>35.59</td>\n",
       "      <td>166.43</td>\n",
       "      <td>0.00</td>\n",
       "      <td>0.00</td>\n",
       "      <td>0.00</td>\n",
       "      <td>0.00</td>\n",
       "      <td>0.00</td>\n",
       "    </tr>\n",
       "    <tr>\n",
       "      <th>2002</th>\n",
       "      <td>0.00</td>\n",
       "      <td>0.00</td>\n",
       "      <td>74.16</td>\n",
       "      <td>6.67</td>\n",
       "      <td>205.38</td>\n",
       "      <td>0.00</td>\n",
       "      <td>0.00</td>\n",
       "      <td>0.00</td>\n",
       "      <td>0.00</td>\n",
       "      <td>0.00</td>\n",
       "    </tr>\n",
       "    <tr>\n",
       "      <th>2003</th>\n",
       "      <td>0.00</td>\n",
       "      <td>0.00</td>\n",
       "      <td>56.67</td>\n",
       "      <td>2.07</td>\n",
       "      <td>184.31</td>\n",
       "      <td>0.00</td>\n",
       "      <td>0.00</td>\n",
       "      <td>0.00</td>\n",
       "      <td>0.00</td>\n",
       "      <td>0.00</td>\n",
       "    </tr>\n",
       "    <tr>\n",
       "      <th>2004</th>\n",
       "      <td>0.00</td>\n",
       "      <td>17.27</td>\n",
       "      <td>77.91</td>\n",
       "      <td>0.00</td>\n",
       "      <td>211.81</td>\n",
       "      <td>0.00</td>\n",
       "      <td>0.00</td>\n",
       "      <td>7.06</td>\n",
       "      <td>0.00</td>\n",
       "      <td>0.00</td>\n",
       "    </tr>\n",
       "    <tr>\n",
       "      <th>2005</th>\n",
       "      <td>0.00</td>\n",
       "      <td>130.14</td>\n",
       "      <td>33.86</td>\n",
       "      <td>0.00</td>\n",
       "      <td>160.42</td>\n",
       "      <td>0.00</td>\n",
       "      <td>0.00</td>\n",
       "      <td>43.84</td>\n",
       "      <td>0.00</td>\n",
       "      <td>8.25</td>\n",
       "    </tr>\n",
       "    <tr>\n",
       "      <th>2006</th>\n",
       "      <td>0.00</td>\n",
       "      <td>119.81</td>\n",
       "      <td>5.28</td>\n",
       "      <td>0.00</td>\n",
       "      <td>103.42</td>\n",
       "      <td>20.96</td>\n",
       "      <td>0.00</td>\n",
       "      <td>55.32</td>\n",
       "      <td>137.15</td>\n",
       "      <td>51.62</td>\n",
       "    </tr>\n",
       "    <tr>\n",
       "      <th>2007</th>\n",
       "      <td>0.00</td>\n",
       "      <td>146.94</td>\n",
       "      <td>3.40</td>\n",
       "      <td>0.00</td>\n",
       "      <td>75.99</td>\n",
       "      <td>73.19</td>\n",
       "      <td>0.00</td>\n",
       "      <td>46.93</td>\n",
       "      <td>152.77</td>\n",
       "      <td>95.41</td>\n",
       "    </tr>\n",
       "    <tr>\n",
       "      <th>2008</th>\n",
       "      <td>0.00</td>\n",
       "      <td>145.31</td>\n",
       "      <td>0.00</td>\n",
       "      <td>0.00</td>\n",
       "      <td>53.90</td>\n",
       "      <td>118.52</td>\n",
       "      <td>0.00</td>\n",
       "      <td>34.55</td>\n",
       "      <td>171.32</td>\n",
       "      <td>135.26</td>\n",
       "    </tr>\n",
       "    <tr>\n",
       "      <th>2009</th>\n",
       "      <td>0.00</td>\n",
       "      <td>119.34</td>\n",
       "      <td>0.00</td>\n",
       "      <td>0.00</td>\n",
       "      <td>26.40</td>\n",
       "      <td>130.93</td>\n",
       "      <td>0.00</td>\n",
       "      <td>37.78</td>\n",
       "      <td>206.97</td>\n",
       "      <td>120.29</td>\n",
       "    </tr>\n",
       "    <tr>\n",
       "      <th>2010</th>\n",
       "      <td>0.00</td>\n",
       "      <td>85.02</td>\n",
       "      <td>0.00</td>\n",
       "      <td>0.00</td>\n",
       "      <td>5.64</td>\n",
       "      <td>142.17</td>\n",
       "      <td>0.00</td>\n",
       "      <td>35.04</td>\n",
       "      <td>127.29</td>\n",
       "      <td>170.03</td>\n",
       "    </tr>\n",
       "    <tr>\n",
       "      <th>2011</th>\n",
       "      <td>63.20</td>\n",
       "      <td>25.73</td>\n",
       "      <td>0.00</td>\n",
       "      <td>0.00</td>\n",
       "      <td>0.45</td>\n",
       "      <td>156.78</td>\n",
       "      <td>0.00</td>\n",
       "      <td>17.82</td>\n",
       "      <td>59.65</td>\n",
       "      <td>143.84</td>\n",
       "    </tr>\n",
       "    <tr>\n",
       "      <th>2012</th>\n",
       "      <td>51.36</td>\n",
       "      <td>11.01</td>\n",
       "      <td>0.00</td>\n",
       "      <td>0.00</td>\n",
       "      <td>0.00</td>\n",
       "      <td>107.36</td>\n",
       "      <td>0.00</td>\n",
       "      <td>7.69</td>\n",
       "      <td>21.71</td>\n",
       "      <td>99.74</td>\n",
       "    </tr>\n",
       "    <tr>\n",
       "      <th>2013</th>\n",
       "      <td>56.57</td>\n",
       "      <td>1.54</td>\n",
       "      <td>0.00</td>\n",
       "      <td>0.00</td>\n",
       "      <td>0.00</td>\n",
       "      <td>113.25</td>\n",
       "      <td>25.99</td>\n",
       "      <td>3.14</td>\n",
       "      <td>8.59</td>\n",
       "      <td>88.58</td>\n",
       "    </tr>\n",
       "    <tr>\n",
       "      <th>2014</th>\n",
       "      <td>43.76</td>\n",
       "      <td>0.00</td>\n",
       "      <td>0.00</td>\n",
       "      <td>0.00</td>\n",
       "      <td>0.00</td>\n",
       "      <td>47.76</td>\n",
       "      <td>100.00</td>\n",
       "      <td>0.24</td>\n",
       "      <td>3.75</td>\n",
       "      <td>34.74</td>\n",
       "    </tr>\n",
       "    <tr>\n",
       "      <th>2015</th>\n",
       "      <td>27.78</td>\n",
       "      <td>0.00</td>\n",
       "      <td>0.00</td>\n",
       "      <td>0.00</td>\n",
       "      <td>0.00</td>\n",
       "      <td>16.82</td>\n",
       "      <td>118.90</td>\n",
       "      <td>0.12</td>\n",
       "      <td>1.14</td>\n",
       "      <td>11.96</td>\n",
       "    </tr>\n",
       "    <tr>\n",
       "      <th>2016</th>\n",
       "      <td>15.14</td>\n",
       "      <td>0.00</td>\n",
       "      <td>0.00</td>\n",
       "      <td>0.00</td>\n",
       "      <td>0.00</td>\n",
       "      <td>3.60</td>\n",
       "      <td>69.25</td>\n",
       "      <td>0.00</td>\n",
       "      <td>0.18</td>\n",
       "      <td>1.52</td>\n",
       "    </tr>\n",
       "  </tbody>\n",
       "</table>\n",
       "</div>"
      ],
      "text/plain": [
       "platform           3DS      DS    GBA      PS     PS2     PS3     PS4    PSP  \\\n",
       "year_of_release                                                                \n",
       "1994              0.00    0.00   0.00    6.03    0.00    0.00    0.00   0.00   \n",
       "1995              0.00    0.00   0.00   35.96    0.00    0.00    0.00   0.00   \n",
       "1996              0.00    0.00   0.00   92.79    0.00    0.00    0.00   0.00   \n",
       "1997              0.00    0.00   0.00  136.17    0.00    0.00    0.00   0.00   \n",
       "1998              0.00    0.00   0.00  169.49    0.00    0.00    0.00   0.00   \n",
       "1999              0.00    0.00   0.00  144.53    0.00    0.00    0.00   0.00   \n",
       "2000              0.00    0.00   0.07   96.37   39.17    0.00    0.00   0.00   \n",
       "2001              0.00    0.00  61.53   35.59  166.43    0.00    0.00   0.00   \n",
       "2002              0.00    0.00  74.16    6.67  205.38    0.00    0.00   0.00   \n",
       "2003              0.00    0.00  56.67    2.07  184.31    0.00    0.00   0.00   \n",
       "2004              0.00   17.27  77.91    0.00  211.81    0.00    0.00   7.06   \n",
       "2005              0.00  130.14  33.86    0.00  160.42    0.00    0.00  43.84   \n",
       "2006              0.00  119.81   5.28    0.00  103.42   20.96    0.00  55.32   \n",
       "2007              0.00  146.94   3.40    0.00   75.99   73.19    0.00  46.93   \n",
       "2008              0.00  145.31   0.00    0.00   53.90  118.52    0.00  34.55   \n",
       "2009              0.00  119.34   0.00    0.00   26.40  130.93    0.00  37.78   \n",
       "2010              0.00   85.02   0.00    0.00    5.64  142.17    0.00  35.04   \n",
       "2011             63.20   25.73   0.00    0.00    0.45  156.78    0.00  17.82   \n",
       "2012             51.36   11.01   0.00    0.00    0.00  107.36    0.00   7.69   \n",
       "2013             56.57    1.54   0.00    0.00    0.00  113.25   25.99   3.14   \n",
       "2014             43.76    0.00   0.00    0.00    0.00   47.76  100.00   0.24   \n",
       "2015             27.78    0.00   0.00    0.00    0.00   16.82  118.90   0.12   \n",
       "2016             15.14    0.00   0.00    0.00    0.00    3.60   69.25   0.00   \n",
       "\n",
       "platform            Wii    X360  \n",
       "year_of_release                  \n",
       "1994               0.00    0.00  \n",
       "1995               0.00    0.00  \n",
       "1996               0.00    0.00  \n",
       "1997               0.00    0.00  \n",
       "1998               0.00    0.00  \n",
       "1999               0.00    0.00  \n",
       "2000               0.00    0.00  \n",
       "2001               0.00    0.00  \n",
       "2002               0.00    0.00  \n",
       "2003               0.00    0.00  \n",
       "2004               0.00    0.00  \n",
       "2005               0.00    8.25  \n",
       "2006             137.15   51.62  \n",
       "2007             152.77   95.41  \n",
       "2008             171.32  135.26  \n",
       "2009             206.97  120.29  \n",
       "2010             127.29  170.03  \n",
       "2011              59.65  143.84  \n",
       "2012              21.71   99.74  \n",
       "2013               8.59   88.58  \n",
       "2014               3.75   34.74  \n",
       "2015               1.14   11.96  \n",
       "2016               0.18    1.52  "
      ]
     },
     "execution_count": 15,
     "metadata": {},
     "output_type": "execute_result"
    }
   ],
   "source": [
    "# Summary table of formats and games sold by years\n",
    "for platform in sails_year.columns:\n",
    "     if platform not in top.index:\n",
    "         sails_year.drop(platform, axis=1, inplace=True)\n",
    "sails_year = sails_year[sails_year.index >= 1994]\n",
    "sails_year"
   ]
  },
  {
   "cell_type": "code",
   "execution_count": 16,
   "metadata": {},
   "outputs": [
    {
     "data": {
      "text/plain": [
       "Text(0, 0.5, 'Pies Consumed')"
      ]
     },
     "execution_count": 16,
     "metadata": {},
     "output_type": "execute_result"
    },
    {
     "data": {
      "image/png": "[encoded data removed]",
      "text/plain": [
       "<Figure size 1080x504 with 1 Axes>"
      ]
     },
     "metadata": {
      "needs_background": "light"
     },
     "output_type": "display_data"
    }
   ],
   "source": [
    "plotdata = pd.DataFrame({\n",
    "    \"3DS\":sails_year['3DS'],\n",
    "    \"DS\":sails_year['DS'],\n",
    "    \"GBA\":sails_year['GBA'],\n",
    "    \"PS\":sails_year['PS'],\n",
    "    \"PS2\":sails_year['PS2'],\n",
    "    \"PS3\":sails_year['PS3'],\n",
    "    \"PS4\":sails_year['PS4'],\n",
    "    \"PS3\":sails_year['DS'],\n",
    "    \"PSP\":sails_year['PSP'],\n",
    "    \"Wii\":sails_year['Wii'],\n",
    "    \"X360\":sails_year['X360']\n",
    "    }, \n",
    "    index=sails_year.index\n",
    ")\n",
    "plotdata.plot(kind='bar', stacked=True, figsize=(15, 7))\n",
    "plt.title(\"Mince Pie Consumption Study\")\n",
    "plt.xlabel(\"Family Member\")\n",
    "plt.ylabel(\"Pies Consumed\")"
   ]
  },
  {
   "cell_type": "markdown",
   "metadata": {},
   "source": [
    "***The console on which games will be released in 2017 is PS4. To verify this, you can take data for the last 4 years (since the life of the console is usually 7 years)***"
   ]
  },
  {
   "cell_type": "code",
   "execution_count": 17,
   "metadata": {},
   "outputs": [
    {
     "data": {
      "text/plain": [
       "Text(0, 0.5, 'Pies Consumed')"
      ]
     },
     "execution_count": 17,
     "metadata": {},
     "output_type": "execute_result"
    },
    {
     "data": {
      "image/png": "[encoded data removed]",
      "text/plain": [
       "<Figure size 1080x504 with 1 Axes>"
      ]
     },
     "metadata": {
      "needs_background": "light"
     },
     "output_type": "display_data"
    }
   ],
   "source": [
    "sails_13_17 = sails_year[sails_year.index >= 2013]\n",
    "\n",
    "plotdata = pd.DataFrame({\n",
    "    \"3DS\":sails_13_17['3DS'],\n",
    "    \"PS3\":sails_13_17['PS3'],\n",
    "    \"PS4\":sails_13_17['PS4'],\n",
    "    \"PSP\":sails_13_17['PSP'],\n",
    "    \"Wii\":sails_13_17['Wii'],\n",
    "    \"X360\":sails_13_17['X360']\n",
    "    }, \n",
    "    index=sails_13_17.index\n",
    ")\n",
    "plotdata.plot(kind='bar', stacked=True, figsize=(15, 7))\n",
    "plt.title(\"Mince Pie Consumption Study\")\n",
    "plt.xlabel(\"Family Member\")\n",
    "plt.ylabel(\"Pies Consumed\")"
   ]
  },
  {
   "cell_type": "markdown",
   "metadata": {},
   "source": [
    "***Knowing that the average time for the release of games on the console is about 7 years, according to forecasts for 2017, the most relevant console will be PS4.***\n",
    "- XBOX360, PS3,3DS, etc. have already exhausted their resources. I think some games will be released on the 3DS in 2017, but much less than on PS4"
   ]
  },
  {
   "cell_type": "code",
   "execution_count": 18,
   "metadata": {},
   "outputs": [
    {
     "data": {
      "text/plain": [
       "Text(0, 0.5, 'Prices')"
      ]
     },
     "execution_count": 18,
     "metadata": {},
     "output_type": "execute_result"
    },
    {
     "data": {
      "image/png": "[encoded data removed]",
      "text/plain": [
       "<Figure size 864x432 with 1 Axes>"
      ]
     },
     "metadata": {
      "needs_background": "light"
     },
     "output_type": "display_data"
    }
   ],
   "source": [
    "data_new = data[data['year_of_release'] >= 2013]\n",
    "# Mustache box for each platform\n",
    "data_new.boxplot(column = 'all_sales', by=\"platform\", figsize=(12, 6))\n",
    "plt.ylim(0, 2)\n",
    "plt.xlabel('Platforms')\n",
    "plt.ylabel('Prices')"
   ]
  },
  {
   "cell_type": "code",
   "execution_count": 19,
   "metadata": {},
   "outputs": [
    {
     "data": {
      "text/html": [
       "<div>\n",
       "<style scoped>\n",
       "    .dataframe tbody tr th:only-of-type {\n",
       "        vertical-align: middle;\n",
       "    }\n",
       "\n",
       "    .dataframe tbody tr th {\n",
       "        vertical-align: top;\n",
       "    }\n",
       "\n",
       "    .dataframe thead th {\n",
       "        text-align: right;\n",
       "    }\n",
       "</style>\n",
       "<table border=\"1\" class=\"dataframe\">\n",
       "  <thead>\n",
       "    <tr style=\"text-align: right;\">\n",
       "      <th></th>\n",
       "      <th>all_sales</th>\n",
       "    </tr>\n",
       "    <tr>\n",
       "      <th>platform</th>\n",
       "      <th></th>\n",
       "    </tr>\n",
       "  </thead>\n",
       "  <tbody>\n",
       "    <tr>\n",
       "      <th>3DS</th>\n",
       "      <td>143.25</td>\n",
       "    </tr>\n",
       "    <tr>\n",
       "      <th>DS</th>\n",
       "      <td>1.54</td>\n",
       "    </tr>\n",
       "    <tr>\n",
       "      <th>PC</th>\n",
       "      <td>39.43</td>\n",
       "    </tr>\n",
       "    <tr>\n",
       "      <th>PS3</th>\n",
       "      <td>181.43</td>\n",
       "    </tr>\n",
       "    <tr>\n",
       "      <th>PS4</th>\n",
       "      <td>314.14</td>\n",
       "    </tr>\n",
       "    <tr>\n",
       "      <th>PSP</th>\n",
       "      <td>3.50</td>\n",
       "    </tr>\n",
       "    <tr>\n",
       "      <th>PSV</th>\n",
       "      <td>32.99</td>\n",
       "    </tr>\n",
       "    <tr>\n",
       "      <th>Wii</th>\n",
       "      <td>13.66</td>\n",
       "    </tr>\n",
       "    <tr>\n",
       "      <th>WiiU</th>\n",
       "      <td>64.63</td>\n",
       "    </tr>\n",
       "    <tr>\n",
       "      <th>X360</th>\n",
       "      <td>136.80</td>\n",
       "    </tr>\n",
       "    <tr>\n",
       "      <th>XOne</th>\n",
       "      <td>159.32</td>\n",
       "    </tr>\n",
       "  </tbody>\n",
       "</table>\n",
       "</div>"
      ],
      "text/plain": [
       "          all_sales\n",
       "platform           \n",
       "3DS          143.25\n",
       "DS             1.54\n",
       "PC            39.43\n",
       "PS3          181.43\n",
       "PS4          314.14\n",
       "PSP            3.50\n",
       "PSV           32.99\n",
       "Wii           13.66\n",
       "WiiU          64.63\n",
       "X360         136.80\n",
       "XOne         159.32"
      ]
     },
     "execution_count": 19,
     "metadata": {},
     "output_type": "execute_result"
    }
   ],
   "source": [
    "data_new.pivot_table(index=\"platform\", values= 'all_sales', aggfunc='sum')"
   ]
  },
  {
   "cell_type": "markdown",
   "metadata": {},
   "source": [
    "***It can be concluded that the most profitable platform is PS4, and the most unprofitable is PSP. Also in good demand are X360, PS3, XOne and 3DS.***"
   ]
  },
  {
   "cell_type": "code",
   "execution_count": 20,
   "metadata": {},
   "outputs": [
    {
     "data": {
      "text/html": [
       "<div>\n",
       "<style scoped>\n",
       "    .dataframe tbody tr th:only-of-type {\n",
       "        vertical-align: middle;\n",
       "    }\n",
       "\n",
       "    .dataframe tbody tr th {\n",
       "        vertical-align: top;\n",
       "    }\n",
       "\n",
       "    .dataframe thead th {\n",
       "        text-align: right;\n",
       "    }\n",
       "</style>\n",
       "<table border=\"1\" class=\"dataframe\">\n",
       "  <thead>\n",
       "    <tr style=\"text-align: right;\">\n",
       "      <th></th>\n",
       "      <th>name</th>\n",
       "      <th>platform</th>\n",
       "      <th>year_of_release</th>\n",
       "      <th>genre</th>\n",
       "      <th>na_sales</th>\n",
       "      <th>eu_sales</th>\n",
       "      <th>jp_sales</th>\n",
       "      <th>other_sales</th>\n",
       "      <th>critic_score</th>\n",
       "      <th>user_score</th>\n",
       "      <th>rating</th>\n",
       "      <th>all_sales</th>\n",
       "    </tr>\n",
       "  </thead>\n",
       "  <tbody>\n",
       "    <tr>\n",
       "      <th>42</th>\n",
       "      <td>Grand Theft Auto V</td>\n",
       "      <td>PS4</td>\n",
       "      <td>2014</td>\n",
       "      <td>Action</td>\n",
       "      <td>3.96</td>\n",
       "      <td>6.31</td>\n",
       "      <td>0.38</td>\n",
       "      <td>1.97</td>\n",
       "      <td>97</td>\n",
       "      <td>8.3</td>\n",
       "      <td>M</td>\n",
       "      <td>12.62</td>\n",
       "    </tr>\n",
       "    <tr>\n",
       "      <th>77</th>\n",
       "      <td>FIFA 16</td>\n",
       "      <td>PS4</td>\n",
       "      <td>2015</td>\n",
       "      <td>Sports</td>\n",
       "      <td>1.12</td>\n",
       "      <td>6.12</td>\n",
       "      <td>0.06</td>\n",
       "      <td>1.28</td>\n",
       "      <td>82</td>\n",
       "      <td>4.3</td>\n",
       "      <td>E</td>\n",
       "      <td>8.58</td>\n",
       "    </tr>\n",
       "    <tr>\n",
       "      <th>92</th>\n",
       "      <td>Call of Duty: Advanced Warfare</td>\n",
       "      <td>PS4</td>\n",
       "      <td>2014</td>\n",
       "      <td>Shooter</td>\n",
       "      <td>2.81</td>\n",
       "      <td>3.48</td>\n",
       "      <td>0.14</td>\n",
       "      <td>1.23</td>\n",
       "      <td>83</td>\n",
       "      <td>5.7</td>\n",
       "      <td>M</td>\n",
       "      <td>7.66</td>\n",
       "    </tr>\n",
       "    <tr>\n",
       "      <th>94</th>\n",
       "      <td>FIFA 17</td>\n",
       "      <td>PS4</td>\n",
       "      <td>2016</td>\n",
       "      <td>Sports</td>\n",
       "      <td>0.66</td>\n",
       "      <td>5.75</td>\n",
       "      <td>0.08</td>\n",
       "      <td>1.11</td>\n",
       "      <td>85</td>\n",
       "      <td>5.0</td>\n",
       "      <td>E</td>\n",
       "      <td>7.60</td>\n",
       "    </tr>\n",
       "    <tr>\n",
       "      <th>105</th>\n",
       "      <td>Fallout 4</td>\n",
       "      <td>PS4</td>\n",
       "      <td>2015</td>\n",
       "      <td>Role-Playing</td>\n",
       "      <td>2.53</td>\n",
       "      <td>3.27</td>\n",
       "      <td>0.24</td>\n",
       "      <td>1.13</td>\n",
       "      <td>87</td>\n",
       "      <td>6.5</td>\n",
       "      <td>M</td>\n",
       "      <td>7.17</td>\n",
       "    </tr>\n",
       "    <tr>\n",
       "      <th>...</th>\n",
       "      <td>...</td>\n",
       "      <td>...</td>\n",
       "      <td>...</td>\n",
       "      <td>...</td>\n",
       "      <td>...</td>\n",
       "      <td>...</td>\n",
       "      <td>...</td>\n",
       "      <td>...</td>\n",
       "      <td>...</td>\n",
       "      <td>...</td>\n",
       "      <td>...</td>\n",
       "      <td>...</td>\n",
       "    </tr>\n",
       "    <tr>\n",
       "      <th>16486</th>\n",
       "      <td>Super Dungeon Bros</td>\n",
       "      <td>PS4</td>\n",
       "      <td>2016</td>\n",
       "      <td>Action</td>\n",
       "      <td>0.01</td>\n",
       "      <td>0.00</td>\n",
       "      <td>0.00</td>\n",
       "      <td>0.00</td>\n",
       "      <td>42</td>\n",
       "      <td>2.3</td>\n",
       "      <td>E10+</td>\n",
       "      <td>0.01</td>\n",
       "    </tr>\n",
       "    <tr>\n",
       "      <th>16499</th>\n",
       "      <td>Sherlock Holmes: The Devil's Daughter</td>\n",
       "      <td>PS4</td>\n",
       "      <td>2016</td>\n",
       "      <td>Adventure</td>\n",
       "      <td>0.01</td>\n",
       "      <td>0.00</td>\n",
       "      <td>0.00</td>\n",
       "      <td>0.00</td>\n",
       "      <td>70</td>\n",
       "      <td>6.8</td>\n",
       "      <td>T</td>\n",
       "      <td>0.01</td>\n",
       "    </tr>\n",
       "    <tr>\n",
       "      <th>16500</th>\n",
       "      <td>Root Letter</td>\n",
       "      <td>PS4</td>\n",
       "      <td>2016</td>\n",
       "      <td>Adventure</td>\n",
       "      <td>0.00</td>\n",
       "      <td>0.00</td>\n",
       "      <td>0.01</td>\n",
       "      <td>0.00</td>\n",
       "      <td>69</td>\n",
       "      <td>7.5</td>\n",
       "      <td>NaN</td>\n",
       "      <td>0.01</td>\n",
       "    </tr>\n",
       "    <tr>\n",
       "      <th>16526</th>\n",
       "      <td>Dungeons 2</td>\n",
       "      <td>PS4</td>\n",
       "      <td>2016</td>\n",
       "      <td>Role-Playing</td>\n",
       "      <td>0.01</td>\n",
       "      <td>0.00</td>\n",
       "      <td>0.00</td>\n",
       "      <td>0.00</td>\n",
       "      <td>61</td>\n",
       "      <td>7.9</td>\n",
       "      <td>T</td>\n",
       "      <td>0.01</td>\n",
       "    </tr>\n",
       "    <tr>\n",
       "      <th>16530</th>\n",
       "      <td>Carmageddon: Max Damage</td>\n",
       "      <td>PS4</td>\n",
       "      <td>2016</td>\n",
       "      <td>Action</td>\n",
       "      <td>0.01</td>\n",
       "      <td>0.00</td>\n",
       "      <td>0.00</td>\n",
       "      <td>0.00</td>\n",
       "      <td>51</td>\n",
       "      <td>5.5</td>\n",
       "      <td>M</td>\n",
       "      <td>0.01</td>\n",
       "    </tr>\n",
       "  </tbody>\n",
       "</table>\n",
       "<p>249 rows × 12 columns</p>\n",
       "</div>"
      ],
      "text/plain": [
       "                                        name platform  year_of_release  \\\n",
       "42                        Grand Theft Auto V      PS4             2014   \n",
       "77                                   FIFA 16      PS4             2015   \n",
       "92            Call of Duty: Advanced Warfare      PS4             2014   \n",
       "94                                   FIFA 17      PS4             2016   \n",
       "105                                Fallout 4      PS4             2015   \n",
       "...                                      ...      ...              ...   \n",
       "16486                     Super Dungeon Bros      PS4             2016   \n",
       "16499  Sherlock Holmes: The Devil's Daughter      PS4             2016   \n",
       "16500                            Root Letter      PS4             2016   \n",
       "16526                             Dungeons 2      PS4             2016   \n",
       "16530                Carmageddon: Max Damage      PS4             2016   \n",
       "\n",
       "              genre  na_sales  eu_sales  jp_sales  other_sales  critic_score  \\\n",
       "42           Action      3.96      6.31      0.38         1.97            97   \n",
       "77           Sports      1.12      6.12      0.06         1.28            82   \n",
       "92          Shooter      2.81      3.48      0.14         1.23            83   \n",
       "94           Sports      0.66      5.75      0.08         1.11            85   \n",
       "105    Role-Playing      2.53      3.27      0.24         1.13            87   \n",
       "...             ...       ...       ...       ...          ...           ...   \n",
       "16486        Action      0.01      0.00      0.00         0.00            42   \n",
       "16499     Adventure      0.01      0.00      0.00         0.00            70   \n",
       "16500     Adventure      0.00      0.00      0.01         0.00            69   \n",
       "16526  Role-Playing      0.01      0.00      0.00         0.00            61   \n",
       "16530        Action      0.01      0.00      0.00         0.00            51   \n",
       "\n",
       "       user_score rating  all_sales  \n",
       "42            8.3      M      12.62  \n",
       "77            4.3      E       8.58  \n",
       "92            5.7      M       7.66  \n",
       "94            5.0      E       7.60  \n",
       "105           6.5      M       7.17  \n",
       "...           ...    ...        ...  \n",
       "16486         2.3   E10+       0.01  \n",
       "16499         6.8      T       0.01  \n",
       "16500         7.5    NaN       0.01  \n",
       "16526         7.9      T       0.01  \n",
       "16530         5.5      M       0.01  \n",
       "\n",
       "[249 rows x 12 columns]"
      ]
     },
     "execution_count": 20,
     "metadata": {},
     "output_type": "execute_result"
    }
   ],
   "source": [
    "ps4 = data_new.query('(platform in \"PS4\") and (user_score != -5) and (critic_score != -5)') # PS4 only\n",
    "ps4\n"
   ]
  },
  {
   "cell_type": "code",
   "execution_count": 21,
   "metadata": {},
   "outputs": [
    {
     "data": {
      "text/plain": [
       "(0.0, 20.0)"
      ]
     },
     "execution_count": 21,
     "metadata": {},
     "output_type": "execute_result"
    },
    {
     "data": {
      "image/png": "[encoded data removed]",
      "text/plain": [
       "<Figure size 432x288 with 1 Axes>"
      ]
     },
     "metadata": {
      "needs_background": "light"
     },
     "output_type": "display_data"
    }
   ],
   "source": [
    "sns.scatterplot(data=ps4, x=\"user_score\", y=\"all_sales\")\n",
    "plt.title('Correlation coefficient for user rating and price')\n",
    "plt.ylim(0, 20)"
   ]
  },
  {
   "cell_type": "code",
   "execution_count": 22,
   "metadata": {
    "scrolled": true
   },
   "outputs": [
    {
     "data": {
      "text/plain": [
       "(0.0, 20.0)"
      ]
     },
     "execution_count": 22,
     "metadata": {},
     "output_type": "execute_result"
    },
    {
     "data": {
      "image/png": "[encoded data removed]",
      "text/plain": [
       "<Figure size 432x288 with 1 Axes>"
      ]
     },
     "metadata": {
      "needs_background": "light"
     },
     "output_type": "display_data"
    }
   ],
   "source": [
    "sns.scatterplot(data=ps4, x='critic_score' , y='all_sales')\n",
    "plt.title('Correlation Coefficient for Critics Rating and Price')\n",
    "plt.ylim(0, 20)"
   ]
  },
  {
   "cell_type": "markdown",
   "metadata": {},
   "source": [
    "These graphs show much better that critic rating affects the price."
   ]
  },
  {
   "cell_type": "code",
   "execution_count": 23,
   "metadata": {},
   "outputs": [
    {
     "data": {
      "text/html": [
       "<div>\n",
       "<style scoped>\n",
       "    .dataframe tbody tr th:only-of-type {\n",
       "        vertical-align: middle;\n",
       "    }\n",
       "\n",
       "    .dataframe tbody tr th {\n",
       "        vertical-align: top;\n",
       "    }\n",
       "\n",
       "    .dataframe thead th {\n",
       "        text-align: right;\n",
       "    }\n",
       "</style>\n",
       "<table border=\"1\" class=\"dataframe\">\n",
       "  <thead>\n",
       "    <tr style=\"text-align: right;\">\n",
       "      <th></th>\n",
       "      <th>year_of_release</th>\n",
       "      <th>na_sales</th>\n",
       "      <th>eu_sales</th>\n",
       "      <th>jp_sales</th>\n",
       "      <th>other_sales</th>\n",
       "      <th>critic_score</th>\n",
       "      <th>user_score</th>\n",
       "      <th>all_sales</th>\n",
       "    </tr>\n",
       "  </thead>\n",
       "  <tbody>\n",
       "    <tr>\n",
       "      <th>year_of_release</th>\n",
       "      <td>1.000000</td>\n",
       "      <td>-0.261760</td>\n",
       "      <td>-0.191355</td>\n",
       "      <td>-0.122830</td>\n",
       "      <td>-0.232177</td>\n",
       "      <td>-0.019983</td>\n",
       "      <td>0.150315</td>\n",
       "      <td>-0.234400</td>\n",
       "    </tr>\n",
       "    <tr>\n",
       "      <th>na_sales</th>\n",
       "      <td>-0.261760</td>\n",
       "      <td>1.000000</td>\n",
       "      <td>0.714988</td>\n",
       "      <td>0.530480</td>\n",
       "      <td>0.915292</td>\n",
       "      <td>0.414241</td>\n",
       "      <td>-0.022577</td>\n",
       "      <td>0.893807</td>\n",
       "    </tr>\n",
       "    <tr>\n",
       "      <th>eu_sales</th>\n",
       "      <td>-0.191355</td>\n",
       "      <td>0.714988</td>\n",
       "      <td>1.000000</td>\n",
       "      <td>0.519826</td>\n",
       "      <td>0.935136</td>\n",
       "      <td>0.346044</td>\n",
       "      <td>-0.050671</td>\n",
       "      <td>0.951656</td>\n",
       "    </tr>\n",
       "    <tr>\n",
       "      <th>jp_sales</th>\n",
       "      <td>-0.122830</td>\n",
       "      <td>0.530480</td>\n",
       "      <td>0.519826</td>\n",
       "      <td>1.000000</td>\n",
       "      <td>0.566734</td>\n",
       "      <td>0.322057</td>\n",
       "      <td>0.174512</td>\n",
       "      <td>0.592214</td>\n",
       "    </tr>\n",
       "    <tr>\n",
       "      <th>other_sales</th>\n",
       "      <td>-0.232177</td>\n",
       "      <td>0.915292</td>\n",
       "      <td>0.935136</td>\n",
       "      <td>0.566734</td>\n",
       "      <td>1.000000</td>\n",
       "      <td>0.408465</td>\n",
       "      <td>-0.037332</td>\n",
       "      <td>0.997798</td>\n",
       "    </tr>\n",
       "    <tr>\n",
       "      <th>critic_score</th>\n",
       "      <td>-0.019983</td>\n",
       "      <td>0.414241</td>\n",
       "      <td>0.346044</td>\n",
       "      <td>0.322057</td>\n",
       "      <td>0.408465</td>\n",
       "      <td>1.000000</td>\n",
       "      <td>0.557654</td>\n",
       "      <td>0.405895</td>\n",
       "    </tr>\n",
       "    <tr>\n",
       "      <th>user_score</th>\n",
       "      <td>0.150315</td>\n",
       "      <td>-0.022577</td>\n",
       "      <td>-0.050671</td>\n",
       "      <td>0.174512</td>\n",
       "      <td>-0.037332</td>\n",
       "      <td>0.557654</td>\n",
       "      <td>1.000000</td>\n",
       "      <td>-0.033625</td>\n",
       "    </tr>\n",
       "    <tr>\n",
       "      <th>all_sales</th>\n",
       "      <td>-0.234400</td>\n",
       "      <td>0.893807</td>\n",
       "      <td>0.951656</td>\n",
       "      <td>0.592214</td>\n",
       "      <td>0.997798</td>\n",
       "      <td>0.405895</td>\n",
       "      <td>-0.033625</td>\n",
       "      <td>1.000000</td>\n",
       "    </tr>\n",
       "  </tbody>\n",
       "</table>\n",
       "</div>"
      ],
      "text/plain": [
       "                 year_of_release  na_sales  eu_sales  jp_sales  other_sales  \\\n",
       "year_of_release         1.000000 -0.261760 -0.191355 -0.122830    -0.232177   \n",
       "na_sales               -0.261760  1.000000  0.714988  0.530480     0.915292   \n",
       "eu_sales               -0.191355  0.714988  1.000000  0.519826     0.935136   \n",
       "jp_sales               -0.122830  0.530480  0.519826  1.000000     0.566734   \n",
       "other_sales            -0.232177  0.915292  0.935136  0.566734     1.000000   \n",
       "critic_score           -0.019983  0.414241  0.346044  0.322057     0.408465   \n",
       "user_score              0.150315 -0.022577 -0.050671  0.174512    -0.037332   \n",
       "all_sales              -0.234400  0.893807  0.951656  0.592214     0.997798   \n",
       "\n",
       "                 critic_score  user_score  all_sales  \n",
       "year_of_release     -0.019983    0.150315  -0.234400  \n",
       "na_sales             0.414241   -0.022577   0.893807  \n",
       "eu_sales             0.346044   -0.050671   0.951656  \n",
       "jp_sales             0.322057    0.174512   0.592214  \n",
       "other_sales          0.408465   -0.037332   0.997798  \n",
       "critic_score         1.000000    0.557654   0.405895  \n",
       "user_score           0.557654    1.000000  -0.033625  \n",
       "all_sales            0.405895   -0.033625   1.000000  "
      ]
     },
     "execution_count": 23,
     "metadata": {},
     "output_type": "execute_result"
    }
   ],
   "source": [
    "ps4.corr() # Correlation coefficient for PS4"
   ]
  },
  {
   "cell_type": "code",
   "execution_count": 24,
   "metadata": {},
   "outputs": [
    {
     "data": {
      "image/png": "[encoded data removed]",
      "text/plain": [
       "<Figure size 432x288 with 2 Axes>"
      ]
     },
     "metadata": {
      "needs_background": "light"
     },
     "output_type": "display_data"
    }
   ],
   "source": [
    "ax = sns.heatmap(ps4.corr())"
   ]
  },
  {
   "cell_type": "markdown",
   "metadata": {},
   "source": [
    "***User ratings do not affect the number of games sold, and critic reviews do a little, but they do***\n",
    "- correlation coefficients -0.06 and 0.34"
   ]
  },
  {
   "cell_type": "code",
   "execution_count": 25,
   "metadata": {},
   "outputs": [
    {
     "name": "stdout",
     "output_type": "stream",
     "text": [
      "                 year_of_release  na_sales  eu_sales  jp_sales  other_sales  \\\n",
      "year_of_release         1.000000 -0.075933 -0.115177 -0.063487    -0.083695   \n",
      "na_sales               -0.075933  1.000000  0.931893  0.641878     0.993708   \n",
      "eu_sales               -0.115177  0.931893  1.000000  0.633982     0.958274   \n",
      "jp_sales               -0.063487  0.641878  0.633982  1.000000     0.645306   \n",
      "other_sales            -0.083695  0.993708  0.958274  0.645306     1.000000   \n",
      "critic_score            0.005430  0.096662  0.074737 -0.003030     0.093406   \n",
      "user_score             -0.002700  0.085173  0.070046 -0.035211     0.082845   \n",
      "all_sales              -0.090086  0.938867  0.927821  0.854173     0.945649   \n",
      "\n",
      "                 critic_score  user_score  all_sales  \n",
      "year_of_release      0.005430   -0.002700  -0.090086  \n",
      "na_sales             0.096662    0.085173   0.938867  \n",
      "eu_sales             0.074737    0.070046   0.927821  \n",
      "jp_sales            -0.003030   -0.035211   0.854173  \n",
      "other_sales          0.093406    0.082845   0.945649  \n",
      "critic_score         1.000000    0.877724   0.059666  \n",
      "user_score           0.877724    1.000000   0.040414  \n",
      "all_sales            0.059666    0.040414   1.000000  \n",
      "                 year_of_release  na_sales  eu_sales  jp_sales  other_sales  \\\n",
      "year_of_release         1.000000 -0.217596 -0.167604 -0.195894    -0.181897   \n",
      "na_sales               -0.217596  1.000000  0.874896  0.439867     0.932098   \n",
      "eu_sales               -0.167604  0.874896  1.000000  0.443809     0.975743   \n",
      "jp_sales               -0.195894  0.439867  0.443809  1.000000     0.459609   \n",
      "other_sales            -0.181897  0.932098  0.975743  0.459609     1.000000   \n",
      "critic_score           -0.551650  0.294865  0.238990  0.206673     0.255944   \n",
      "user_score             -0.356098  0.226073  0.190197  0.137778     0.196406   \n",
      "all_sales              -0.201274  0.954921  0.974740  0.516258     0.989812   \n",
      "\n",
      "                 critic_score  user_score  all_sales  \n",
      "year_of_release     -0.551650   -0.356098  -0.201274  \n",
      "na_sales             0.294865    0.226073   0.954921  \n",
      "eu_sales             0.238990    0.190197   0.974740  \n",
      "jp_sales             0.206673    0.137778   0.516258  \n",
      "other_sales          0.255944    0.196406   0.989812  \n",
      "critic_score         1.000000    0.694511   0.275390  \n",
      "user_score           0.694511    1.000000   0.212772  \n",
      "all_sales            0.275390    0.212772   1.000000  \n",
      "                 year_of_release  na_sales  eu_sales  jp_sales  other_sales  \\\n",
      "year_of_release         1.000000 -0.043382 -0.032610 -0.003731    -0.030600   \n",
      "na_sales               -0.043382  1.000000  0.960231  0.798706     0.997070   \n",
      "eu_sales               -0.032610  0.960231  1.000000  0.850598     0.974537   \n",
      "jp_sales               -0.003731  0.798706  0.850598  1.000000     0.812887   \n",
      "other_sales            -0.030600  0.997070  0.974537  0.812887     1.000000   \n",
      "critic_score            0.020828  0.281844  0.335633  0.195165     0.298047   \n",
      "user_score             -0.057043  0.197919  0.260009  0.128256     0.214898   \n",
      "all_sales              -0.032090  0.981361  0.984679  0.890821     0.987516   \n",
      "\n",
      "                 critic_score  user_score  all_sales  \n",
      "year_of_release      0.020828   -0.057043  -0.032090  \n",
      "na_sales             0.281844    0.197919   0.981361  \n",
      "eu_sales             0.335633    0.260009   0.984679  \n",
      "jp_sales             0.195165    0.128256   0.890821  \n",
      "other_sales          0.298047    0.214898   0.987516  \n",
      "critic_score         1.000000    0.813319   0.289507  \n",
      "user_score           0.813319    1.000000   0.208623  \n",
      "all_sales            0.289507    0.208623   1.000000  \n",
      "                 year_of_release  na_sales  eu_sales  jp_sales  other_sales  \\\n",
      "year_of_release         1.000000 -0.218293 -0.203537 -0.285360    -0.218199   \n",
      "na_sales               -0.218293  1.000000  0.866574  0.634340     0.985236   \n",
      "eu_sales               -0.203537  0.866574  1.000000  0.612002     0.934769   \n",
      "jp_sales               -0.285360  0.634340  0.612002  1.000000     0.641529   \n",
      "other_sales            -0.218199  0.985236  0.934769  0.641529     1.000000   \n",
      "critic_score           -0.571107  0.235015  0.232960  0.304641     0.237616   \n",
      "user_score             -0.206854  0.074702  0.076981  0.089506     0.076930   \n",
      "all_sales              -0.220495  0.984299  0.941008  0.648860     0.998640   \n",
      "\n",
      "                 critic_score  user_score  all_sales  \n",
      "year_of_release     -0.571107   -0.206854  -0.220495  \n",
      "na_sales             0.235015    0.074702   0.984299  \n",
      "eu_sales             0.232960    0.076981   0.941008  \n",
      "jp_sales             0.304641    0.089506   0.648860  \n",
      "other_sales          0.237616    0.076930   0.998640  \n",
      "critic_score         1.000000    0.525556   0.242088  \n",
      "user_score           0.525556    1.000000   0.077988  \n",
      "all_sales            0.242088    0.077988   1.000000  \n",
      "                 year_of_release  na_sales  eu_sales  jp_sales  other_sales  \\\n",
      "year_of_release         1.000000 -0.242667 -0.194925 -0.127050    -0.243414   \n",
      "na_sales               -0.242667  1.000000  0.765367  0.425725     0.988088   \n",
      "eu_sales               -0.194925  0.765367  1.000000  0.421071     0.852986   \n",
      "jp_sales               -0.127050  0.425725  0.421071  1.000000     0.441717   \n",
      "other_sales            -0.243414  0.988088  0.852986  0.441717     1.000000   \n",
      "critic_score           -0.009414  0.255023  0.254483  0.147091     0.265019   \n",
      "user_score             -0.013668  0.128932  0.119579  0.083662     0.130031   \n",
      "all_sales              -0.239183  0.970433  0.898045  0.452701     0.995238   \n",
      "\n",
      "                 critic_score  user_score  all_sales  \n",
      "year_of_release     -0.009414   -0.013668  -0.239183  \n",
      "na_sales             0.255023    0.128932   0.970433  \n",
      "eu_sales             0.254483    0.119579   0.898045  \n",
      "jp_sales             0.147091    0.083662   0.452701  \n",
      "other_sales          0.265019    0.130031   0.995238  \n",
      "critic_score         1.000000    0.791378   0.269766  \n",
      "user_score           0.791378    1.000000   0.132871  \n",
      "all_sales            0.269766    0.132871   1.000000  \n"
     ]
    }
   ],
   "source": [
    "actual_platforms = [\"3DS\", \"PS3\", \"WiiU\", \"X360\", \"XOne\"]\n",
    "for platform in actual_platforms:\n",
    "    print(data_new[data_new['platform']== platform].corr())"
   ]
  },
  {
   "cell_type": "markdown",
   "metadata": {},
   "source": [
    "- critic_score\\user_score\n",
    "- 0.103681 / 0.065113\n",
    "- 0.294214 / -0.085058\n",
    "- 0.331536 / 0.338184\n",
    "- 0.285467 / -0.044548\n",
    "- 0.360451 / -0.105937\n",
    "\n",
    "***There is only one console where user_score has more weight than critic_score is the Wii. It seems to me that this can be attributed to the replacement of data. Basically, the price is influenced by reviews from critics, and even then not very much ***"
   ]
  },
  {
   "cell_type": "code",
   "execution_count": 26,
   "metadata": {},
   "outputs": [
    {
     "data": {
      "text/plain": [
       "Text(0.5, 1.0, 'Relationship of sales to game genre')"
      ]
     },
     "execution_count": 26,
     "metadata": {},
     "output_type": "execute_result"
    },
    {
     "data": {
      "image/png": "[encoded data removed]",
      "text/plain": [
       "<Figure size 1440x360 with 1 Axes>"
      ]
     },
     "metadata": {
      "needs_background": "light"
     },
     "output_type": "display_data"
    }
   ],
   "source": [
    "ganre_sales = data_new.pivot_table(index=\"genre\", values= 'all_sales', aggfunc='sum' ).sort_values('all_sales', ascending = False)\n",
    "ganre_sales.plot(kind=\"bar\", grid=True, figsize=(20, 5))\n",
    "plt.title('Relationship of sales to game genre')"
   ]
  },
  {
   "cell_type": "markdown",
   "metadata": {},
   "source": [
    "***Favorites and outsiders are immediately visible among sales by genre. Action games are the most profitable, and shooters are not far behind them. The lowest margin genre is puzzles.***"
   ]
  },
  {
   "cell_type": "code",
   "execution_count": 27,
   "metadata": {},
   "outputs": [
    {
     "data": {
      "text/html": [
       "<div>\n",
       "<style scoped>\n",
       "    .dataframe tbody tr th:only-of-type {\n",
       "        vertical-align: middle;\n",
       "    }\n",
       "\n",
       "    .dataframe tbody tr th {\n",
       "        vertical-align: top;\n",
       "    }\n",
       "\n",
       "    .dataframe thead th {\n",
       "        text-align: right;\n",
       "    }\n",
       "</style>\n",
       "<table border=\"1\" class=\"dataframe\">\n",
       "  <thead>\n",
       "    <tr style=\"text-align: right;\">\n",
       "      <th></th>\n",
       "      <th></th>\n",
       "      <th>all_sales</th>\n",
       "    </tr>\n",
       "    <tr>\n",
       "      <th>name</th>\n",
       "      <th>genre</th>\n",
       "      <th></th>\n",
       "    </tr>\n",
       "  </thead>\n",
       "  <tbody>\n",
       "    <tr>\n",
       "      <th>Grand Theft Auto V</th>\n",
       "      <th>Action</th>\n",
       "      <td>56.58</td>\n",
       "    </tr>\n",
       "    <tr>\n",
       "      <th>Call of Duty: Ghosts</th>\n",
       "      <th>Shooter</th>\n",
       "      <td>27.39</td>\n",
       "    </tr>\n",
       "    <tr>\n",
       "      <th>Call of Duty: Black Ops 3</th>\n",
       "      <th>Shooter</th>\n",
       "      <td>25.67</td>\n",
       "    </tr>\n",
       "    <tr>\n",
       "      <th>Minecraft</th>\n",
       "      <th>Misc</th>\n",
       "      <td>24.16</td>\n",
       "    </tr>\n",
       "    <tr>\n",
       "      <th>Call of Duty: Advanced Warfare</th>\n",
       "      <th>Shooter</th>\n",
       "      <td>21.97</td>\n",
       "    </tr>\n",
       "    <tr>\n",
       "      <th>FIFA 15</th>\n",
       "      <th>Sports</th>\n",
       "      <td>17.37</td>\n",
       "    </tr>\n",
       "    <tr>\n",
       "      <th>FIFA 14</th>\n",
       "      <th>Sports</th>\n",
       "      <td>16.46</td>\n",
       "    </tr>\n",
       "    <tr>\n",
       "      <th>FIFA 16</th>\n",
       "      <th>Sports</th>\n",
       "      <td>16.30</td>\n",
       "    </tr>\n",
       "    <tr>\n",
       "      <th>Pokemon X/Pokemon Y</th>\n",
       "      <th>Role-Playing</th>\n",
       "      <td>14.60</td>\n",
       "    </tr>\n",
       "    <tr>\n",
       "      <th>Battlefield 4</th>\n",
       "      <th>Shooter</th>\n",
       "      <td>13.94</td>\n",
       "    </tr>\n",
       "    <tr>\n",
       "      <th>Assassin's Creed IV: Black Flag</th>\n",
       "      <th>Action</th>\n",
       "      <td>13.06</td>\n",
       "    </tr>\n",
       "    <tr>\n",
       "      <th>Fallout 4</th>\n",
       "      <th>Role-Playing</th>\n",
       "      <td>12.67</td>\n",
       "    </tr>\n",
       "    <tr>\n",
       "      <th>Destiny</th>\n",
       "      <th>Shooter</th>\n",
       "      <td>12.54</td>\n",
       "    </tr>\n",
       "    <tr>\n",
       "      <th>Super Smash Bros. for Wii U and 3DS</th>\n",
       "      <th>Fighting</th>\n",
       "      <td>12.42</td>\n",
       "    </tr>\n",
       "    <tr>\n",
       "      <th>Star Wars Battlefront (2015)</th>\n",
       "      <th>Shooter</th>\n",
       "      <td>12.19</td>\n",
       "    </tr>\n",
       "    <tr>\n",
       "      <th>Pokemon Omega Ruby/Pokemon Alpha Sapphire</th>\n",
       "      <th>Role-Playing</th>\n",
       "      <td>11.68</td>\n",
       "    </tr>\n",
       "    <tr>\n",
       "      <th>FIFA 17</th>\n",
       "      <th>Sports</th>\n",
       "      <td>11.48</td>\n",
       "    </tr>\n",
       "    <tr>\n",
       "      <th>The Last of Us</th>\n",
       "      <th>Action</th>\n",
       "      <td>10.58</td>\n",
       "    </tr>\n",
       "    <tr>\n",
       "      <th>LEGO Marvel Super Heroes</th>\n",
       "      <th>Action</th>\n",
       "      <td>9.41</td>\n",
       "    </tr>\n",
       "    <tr>\n",
       "      <th>Watch Dogs</th>\n",
       "      <th>Action</th>\n",
       "      <td>9.18</td>\n",
       "    </tr>\n",
       "  </tbody>\n",
       "</table>\n",
       "</div>"
      ],
      "text/plain": [
       "                                                        all_sales\n",
       "name                                      genre                  \n",
       "Grand Theft Auto V                        Action            56.58\n",
       "Call of Duty: Ghosts                      Shooter           27.39\n",
       "Call of Duty: Black Ops 3                 Shooter           25.67\n",
       "Minecraft                                 Misc              24.16\n",
       "Call of Duty: Advanced Warfare            Shooter           21.97\n",
       "FIFA 15                                   Sports            17.37\n",
       "FIFA 14                                   Sports            16.46\n",
       "FIFA 16                                   Sports            16.30\n",
       "Pokemon X/Pokemon Y                       Role-Playing      14.60\n",
       "Battlefield 4                             Shooter           13.94\n",
       "Assassin's Creed IV: Black Flag           Action            13.06\n",
       "Fallout 4                                 Role-Playing      12.67\n",
       "Destiny                                   Shooter           12.54\n",
       "Super Smash Bros. for Wii U and 3DS       Fighting          12.42\n",
       "Star Wars Battlefront (2015)              Shooter           12.19\n",
       "Pokemon Omega Ruby/Pokemon Alpha Sapphire Role-Playing      11.68\n",
       "FIFA 17                                   Sports            11.48\n",
       "The Last of Us                            Action            10.58\n",
       "LEGO Marvel Super Heroes                  Action             9.41\n",
       "Watch Dogs                                Action             9.18"
      ]
     },
     "execution_count": 27,
     "metadata": {},
     "output_type": "execute_result"
    }
   ],
   "source": [
    "data_new.pivot_table(index=['name', 'genre'], values='all_sales', aggfunc='sum').sort_values('all_sales', ascending = False).head(20)"
   ]
  },
  {
   "cell_type": "markdown",
   "metadata": {},
   "source": [
    "**If you sort games by best selling games, then the top 20 will have 1 action game, and a bunch of shooters.**"
   ]
  },
  {
   "cell_type": "markdown",
   "metadata": {},
   "source": [
    "## User portrait of each region"
   ]
  },
  {
   "cell_type": "code",
   "execution_count": 28,
   "metadata": {},
   "outputs": [
    {
     "name": "stdout",
     "output_type": "stream",
     "text": [
      "\n",
      "North America\n",
      "platform\n",
      "PS4     0.282280\n",
      "XOne    0.241732\n",
      "X360    0.211983\n",
      "PS3     0.164841\n",
      "3DS     0.099164\n",
      "Name: na_sales, dtype: float64\n",
      "\n",
      "Europe \n",
      "platform\n",
      "PS4     0.422463\n",
      "PS3     0.203042\n",
      "XOne    0.154475\n",
      "X360    0.127317\n",
      "3DS     0.092703\n",
      "Name: eu_sales, dtype: float64\n",
      "\n",
      "Japan \n",
      "platform\n",
      "3DS     0.496449\n",
      "PS3     0.170950\n",
      "PSV     0.136101\n",
      "PS4     0.116846\n",
      "WiiU    0.079654\n",
      "Name: jp_sales, dtype: float64\n"
     ]
    }
   ],
   "source": [
    "# Most popular platforms by region\n",
    "print('\\nNorth America')\n",
    "na_sales = data_new.pivot_table(index='platform', values='na_sales', aggfunc='sum').sort_values('na_sales', ascending = False).head(5)\n",
    "na_sales_rate = na_sales['na_sales']/ na_sales['na_sales'].sum()\n",
    "print(na_sales_rate)\n",
    "print('\\nEurope ')\n",
    "eu_sales = data_new.pivot_table(index='platform', values='eu_sales', aggfunc='sum').sort_values('eu_sales', ascending = False).head(5)\n",
    "eu_sales_rate = eu_sales['eu_sales']/ eu_sales['eu_sales'].sum()\n",
    "print(eu_sales_rate)\n",
    "print('\\nJapan ')\n",
    "jp_sales = data_new.pivot_table(index='platform', values='jp_sales', aggfunc='sum').sort_values('jp_sales', ascending = False).head(5)\n",
    "jp_sales_rate = jp_sales['jp_sales']/ jp_sales['jp_sales'].sum()\n",
    "print(jp_sales_rate)"
   ]
  },
  {
   "cell_type": "code",
   "execution_count": 29,
   "metadata": {},
   "outputs": [
    {
     "name": "stderr",
     "output_type": "stream",
     "text": [
      "/tmp/ipykernel_101/3351904245.py:22: UserWarning: FixedFormatter should only be used together with FixedLocator\n",
      "  ax.set_xticklabels(all_platforms)\n"
     ]
    },
    {
     "data": {
      "image/png": "[encoded data removed]",
      "text/plain": [
       "<Figure size 432x288 with 1 Axes>"
      ]
     },
     "metadata": {
      "needs_background": "light"
     },
     "output_type": "display_data"
    }
   ],
   "source": [
    "# All platforms\n",
    "all_platforms = []\n",
    "for i in na_sales.index:\n",
    "     if i not in all_platforms:\n",
    "        all_platforms.append(i)\n",
    "for j in eu_sales.index:\n",
    "     if j not in all_platforms:\n",
    "        all_platforms.append(j)\n",
    "for f in jp_sales.index:\n",
    "     if f not in all_platforms:\n",
    "        all_platforms.append(f)\n",
    "\n",
    "\n",
    "fig, ax = plt.subplots()\n",
    "rects1 = ax.bar(na_sales.index, na_sales['na_sales'], label='North America', alpha=0.5)\n",
    "rects2 = ax.bar(eu_sales.index, eu_sales['eu_sales'], label='Europe', alpha=0.5)\n",
    "rects2 = ax.bar(jp_sales.index, jp_sales['jp_sales'], label='Japan', alpha=0.5)\n",
    "\n",
    "# Add some text for labels, title and custom x-axis tick labels, etc.\n",
    "ax.set_ylabel('Sales')\n",
    "ax.set_title('Sales of games in different countries by platform')\n",
    "ax.set_xticklabels(all_platforms)\n",
    "ax.legend()\n",
    "\n",
    "        \n",
    "\n",
    "fig.tight_layout()\n",
    "\n",
    "plt.show()"
   ]
  },
  {
   "cell_type": "code",
   "execution_count": 30,
   "metadata": {},
   "outputs": [
    {
     "data": {
      "text/plain": [
       "Text(0.5, 1.0, 'Number of games sold by year in NA')"
      ]
     },
     "execution_count": 30,
     "metadata": {},
     "output_type": "execute_result"
    },
    {
     "data": {
      "image/png": "[encoded data removed]",
      "text/plain": [
       "<Figure size 1440x360 with 1 Axes>"
      ]
     },
     "metadata": {
      "needs_background": "light"
     },
     "output_type": "display_data"
    }
   ],
   "source": [
    "na_sales.plot(kind=\"bar\", grid=True, figsize=(20, 5))\n",
    "plt.xlabel('console')\n",
    "plt.ylabel('Number of games')\n",
    "plt.title('Number of games sold by year in NA')"
   ]
  },
  {
   "cell_type": "code",
   "execution_count": 31,
   "metadata": {},
   "outputs": [
    {
     "data": {
      "text/plain": [
       "Text(0.5, 1.0, 'Number of games sold by year in EU')"
      ]
     },
     "execution_count": 31,
     "metadata": {},
     "output_type": "execute_result"
    },
    {
     "data": {
      "image/png": "[encoded data removed]",
      "text/plain": [
       "<Figure size 1440x360 with 1 Axes>"
      ]
     },
     "metadata": {
      "needs_background": "light"
     },
     "output_type": "display_data"
    }
   ],
   "source": [
    "eu_sales.plot(kind=\"bar\", grid=True, figsize=(20, 5))\n",
    "plt.xlabel('console')\n",
    "plt.ylabel('Number of games')\n",
    "plt.title('Number of games sold by year in EU')"
   ]
  },
  {
   "cell_type": "code",
   "execution_count": 32,
   "metadata": {},
   "outputs": [
    {
     "data": {
      "text/plain": [
       "Text(0.5, 1.0, 'Number of games sold by year in JP')"
      ]
     },
     "execution_count": 32,
     "metadata": {},
     "output_type": "execute_result"
    },
    {
     "data": {
      "image/png": "[encoded data removed]",
      "text/plain": [
       "<Figure size 1440x360 with 1 Axes>"
      ]
     },
     "metadata": {
      "needs_background": "light"
     },
     "output_type": "display_data"
    }
   ],
   "source": [
    "jp_sales.plot(kind=\"bar\", grid=True, figsize=(20, 5))\n",
    "plt.xlabel('console')\n",
    "plt.ylabel('Number of games')\n",
    "plt.title('Number of games sold by year in JP')"
   ]
  },
  {
   "cell_type": "markdown",
   "metadata": {},
   "source": [
    "***In the case of America and Europe, the platforms are almost the same, but Japan, as usual, excelled. Moreover, the top 5 in Europe and America contain the same consoles, just in a different order, while in Japan PSV and WiiU are added.***"
   ]
  },
  {
   "cell_type": "code",
   "execution_count": 33,
   "metadata": {},
   "outputs": [
    {
     "name": "stdout",
     "output_type": "stream",
     "text": [
      "\n",
      "North America\n",
      "genre\n",
      "Action          0.336178\n",
      "Shooter         0.292679\n",
      "Sports          0.174077\n",
      "Role-Playing    0.123750\n",
      "Misc            0.073316\n",
      "Name: na_sales, dtype: float64\n",
      "\n",
      "Europe \n",
      "genre\n",
      "Action          0.364970\n",
      "Shooter         0.271449\n",
      "Sports          0.186981\n",
      "Role-Playing    0.114221\n",
      "Racing          0.062378\n",
      "Name: eu_sales, dtype: float64\n",
      "\n",
      "Japan \n",
      "genre\n",
      "Role-Playing    0.443865\n",
      "Action          0.352118\n",
      "Misc            0.080007\n",
      "Fighting        0.066528\n",
      "Shooter         0.057483\n",
      "Name: jp_sales, dtype: float64\n"
     ]
    }
   ],
   "source": [
    "# Most popular genres by region\n",
    "print('\\nNorth America')\n",
    "na_genre = data_new.pivot_table(index='genre', values='na_sales', aggfunc='sum').sort_values('na_sales', ascending = False).head(5)\n",
    "na_genre_rate = na_genre['na_sales']/ na_genre['na_sales'].sum()\n",
    "print(na_genre_rate)\n",
    "print('\\nEurope ')\n",
    "eu_genre = data_new.pivot_table(index='genre', values='eu_sales', aggfunc='sum').sort_values('eu_sales', ascending = False).head(5)\n",
    "eu_genre_rate = eu_genre['eu_sales']/ eu_genre['eu_sales'].sum()\n",
    "print(eu_genre_rate)\n",
    "print('\\nJapan ')\n",
    "jp_genre = data_new.pivot_table(index='genre', values='jp_sales', aggfunc='sum').sort_values('jp_sales', ascending = False).head(5)\n",
    "jp_genre_rate = jp_genre['jp_sales']/ jp_genre['jp_sales'].sum()\n",
    "print(jp_genre_rate)"
   ]
  },
  {
   "cell_type": "code",
   "execution_count": 34,
   "metadata": {},
   "outputs": [
    {
     "name": "stderr",
     "output_type": "stream",
     "text": [
      "/tmp/ipykernel_101/2451053391.py:21: UserWarning: FixedFormatter should only be used together with FixedLocator\n",
      "  ax.set_xticklabels(all_platforms)\n"
     ]
    },
    {
     "data": {
      "image/png": "[encoded data removed]",
      "text/plain": [
       "<Figure size 432x288 with 1 Axes>"
      ]
     },
     "metadata": {
      "needs_background": "light"
     },
     "output_type": "display_data"
    }
   ],
   "source": [
    "all_platforms = []\n",
    "for i in na_genre.index:\n",
    "     if i not in all_platforms:\n",
    "        all_platforms.append(i)\n",
    "for j in eu_genre.index:\n",
    "     if j not in all_platforms:\n",
    "        all_platforms.append(j)\n",
    "for f in jp_genre.index:\n",
    "     if f not in all_platforms:\n",
    "        all_platforms.append(f)\n",
    "\n",
    "\n",
    "fig, ax = plt.subplots()\n",
    "rects1 = ax.bar(na_genre.index, na_sales['na_sales'], label='North America', alpha=0.5)\n",
    "rects2 = ax.bar(eu_genre.index, eu_sales['eu_sales'],bottom = na_sales['na_sales'], label='Europe', alpha=0.5)\n",
    "rects2 = ax.bar(jp_genre.index, jp_sales['jp_sales'], label='Japan', alpha=0.5)\n",
    "\n",
    "# Add some text for labels, title and custom x-axis tick labels, etc.\n",
    "ax.set_ylabel('Sales')\n",
    "ax.set_title('Sales of games in different countries by platform')\n",
    "ax.set_xticklabels(all_platforms)\n",
    "ax.legend()\n",
    "\n",
    "        \n",
    "\n",
    "fig.tight_layout()\n",
    "\n",
    "plt.show()"
   ]
  },
  {
   "cell_type": "markdown",
   "metadata": {},
   "source": [
    "***By genre, too, a similar situation. Although Action and Shooters are loved by everyone. Role-Playing and Fighting genres are very popular in Japan. Perhaps that is why the platforms differ. Also, Europeans are more into music and Americans are into Racing.***"
   ]
  },
  {
   "cell_type": "code",
   "execution_count": 35,
   "metadata": {},
   "outputs": [
    {
     "data": {
      "text/plain": [
       "M       369\n",
       "T       333\n",
       "E       302\n",
       "E10+    252\n",
       "Name: rating, dtype: int64"
      ]
     },
     "execution_count": 35,
     "metadata": {},
     "output_type": "execute_result"
    }
   ],
   "source": [
    "data_new['rating'].value_counts()"
   ]
  },
  {
   "cell_type": "markdown",
   "metadata": {},
   "source": [
    "- M - **17 years and older**\n",
    "- T - **13 years and older**\n",
    "- E - **Kids to Adults**\n",
    "- E10+ - **aged 10 years and older**"
   ]
  },
  {
   "cell_type": "code",
   "execution_count": 36,
   "metadata": {},
   "outputs": [
    {
     "name": "stdout",
     "output_type": "stream",
     "text": [
      "\n",
      "North America\n",
      "rating\n",
      "M       0.474346\n",
      "E       0.226966\n",
      "E10+    0.155732\n",
      "T       0.142956\n",
      "Name: na_sales, dtype: float64\n",
      "\n",
      "Europe\n",
      "rating\n",
      "M       0.463807\n",
      "E       0.266054\n",
      "E10+    0.136250\n",
      "T       0.133889\n",
      "Name: eu_sales, dtype: float64\n",
      "\n",
      "Japan\n",
      "rating\n",
      "T       0.369460\n",
      "E       0.271667\n",
      "M       0.253185\n",
      "E10+    0.105688\n",
      "Name: jp_sales, dtype: float64\n"
     ]
    }
   ],
   "source": [
    "# Most popular genres by region\n",
    "print('\\nNorth America')\n",
    "na_rating = data_new.pivot_table(index='rating', values='na_sales', aggfunc='sum').sort_values('na_sales', ascending = False)\n",
    "na_rating = na_rating['na_sales'] / na_rating['na_sales'].sum()\n",
    "print(na_rating)\n",
    "print('\\nEurope')\n",
    "eu_rating = data_new.pivot_table(index='rating', values='eu_sales', aggfunc='sum').sort_values('eu_sales', ascending = False)\n",
    "eu_rating = eu_rating['eu_sales'] / eu_rating['eu_sales'].sum()\n",
    "print(eu_rating)\n",
    "print('\\nJapan')\n",
    "jp_rating = data_new.pivot_table(index='rating', values='jp_sales', aggfunc='sum').sort_values('jp_sales', ascending = False)\n",
    "jp_rating = jp_rating['jp_sales'] / jp_rating['jp_sales'].sum()\n",
    "print(jp_rating)"
   ]
  },
  {
   "cell_type": "markdown",
   "metadata": {},
   "source": [
    "***According to this rating, we can conclude that among European and American gamers, the most common are people 17+, and in Japan it is mostly 13+. Although these data can not build a complete picture. The 2nd place is occupied by the E rating in all regions. The rating also clearly affects the purchase.***"
   ]
  },
  {
   "cell_type": "markdown",
   "metadata": {},
   "source": [
    "## Testing hypotheses"
   ]
  },
  {
   "cell_type": "code",
   "execution_count": 37,
   "metadata": {},
   "outputs": [
    {
     "name": "stdout",
     "output_type": "stream",
     "text": [
      "2.119042298225158\n",
      "2.932444842801986\n"
     ]
    }
   ],
   "source": [
    "xone = data_new.query('(platform == \"PS4\") and (user_score != -5) and (critic_score != -5)')['user_score']\n",
    "pc = data_new.query('(platform == \"PC\") and (user_score != -5) and (critic_score != -5)')['user_score']\n",
    "\n",
    "print(np.var(xone, ddof=1))\n",
    "print(np.var(pc, ddof=1))\n"
   ]
  },
  {
   "cell_type": "markdown",
   "metadata": {},
   "source": [
    "    This 'equal_var' parameter is used when the variances of the two samples are different. I also read an article about how best to leave this parameter set to False.\n"
   ]
  },
  {
   "cell_type": "code",
   "execution_count": 38,
   "metadata": {},
   "outputs": [
    {
     "name": "stdout",
     "output_type": "stream",
     "text": [
      "p-value: 0.00826569237189147\n",
      "Reject the null hypothesis\n"
     ]
    }
   ],
   "source": [
    "alpha = .05\n",
    "\n",
    "results = st.ttest_ind(\n",
    "     xone,\n",
    "     pc,\n",
    "     equal_var=False)\n",
    "\n",
    "print('p-value:', results.pvalue)\n",
    "\n",
    "if(results.pvalue<alpha):\n",
    "     print(\"Reject the null hypothesis\")\n",
    "else:\n",
    "     print(\"Failed to reject null hypothesis\")"
   ]
  },
  {
   "cell_type": "markdown",
   "metadata": {},
   "source": [
    "- ***H0*** - User ratings are the same\n",
    "- ***H1*** - User ratings vary"
   ]
  },
  {
   "cell_type": "code",
   "execution_count": 39,
   "metadata": {},
   "outputs": [
    {
     "data": {
      "text/html": [
       "<div>\n",
       "<style scoped>\n",
       "    .dataframe tbody tr th:only-of-type {\n",
       "        vertical-align: middle;\n",
       "    }\n",
       "\n",
       "    .dataframe tbody tr th {\n",
       "        vertical-align: top;\n",
       "    }\n",
       "\n",
       "    .dataframe thead th {\n",
       "        text-align: right;\n",
       "    }\n",
       "</style>\n",
       "<table border=\"1\" class=\"dataframe\">\n",
       "  <thead>\n",
       "    <tr style=\"text-align: right;\">\n",
       "      <th></th>\n",
       "      <th>user_score</th>\n",
       "    </tr>\n",
       "    <tr>\n",
       "      <th>platform</th>\n",
       "      <th></th>\n",
       "    </tr>\n",
       "  </thead>\n",
       "  <tbody>\n",
       "    <tr>\n",
       "      <th>PC</th>\n",
       "      <td>6.302027</td>\n",
       "    </tr>\n",
       "    <tr>\n",
       "      <th>XOne</th>\n",
       "      <td>6.538182</td>\n",
       "    </tr>\n",
       "  </tbody>\n",
       "</table>\n",
       "</div>"
      ],
      "text/plain": [
       "          user_score\n",
       "platform            \n",
       "PC          6.302027\n",
       "XOne        6.538182"
      ]
     },
     "execution_count": 39,
     "metadata": {},
     "output_type": "execute_result"
    }
   ],
   "source": [
    "box_pc = data_new.query('platform in (\"XOne\", \"PC\") and (user_score != -5) and (critic_score != -5)')\n",
    "box_pc.pivot_table(index='platform', values='user_score', aggfunc='mean')"
   ]
  },
  {
   "cell_type": "markdown",
   "metadata": {},
   "source": [
    "- **We reject the hypothesis that the user rating on both platforms is the same.**\n",
    "- ***If you look, the difference is quite large***\n"
   ]
  },
  {
   "cell_type": "code",
   "execution_count": 40,
   "metadata": {},
   "outputs": [
    {
     "name": "stdout",
     "output_type": "stream",
     "text": [
      "1.6462144328163746\n",
      "2.1316396997497913\n"
     ]
    }
   ],
   "source": [
    "action = data_new.query('(genre == \"Action\") and (user_score != -5) and (critic_score != -5)')['user_score']\n",
    "sports = data_new.query('(genre == \"Sports\") and (user_score != -5) and (critic_score != -5)')['user_score']\n",
    "\n",
    "print(np.var(action, ddof=1))\n",
    "print(np.var(sports, ddof=1))"
   ]
  },
  {
   "cell_type": "code",
   "execution_count": 41,
   "metadata": {},
   "outputs": [
    {
     "name": "stdout",
     "output_type": "stream",
     "text": [
      "p-value: 1.0496920005008588e-13\n",
      "Reject the null hypothesis\n"
     ]
    }
   ],
   "source": [
    "alpha = .05\n",
    "\n",
    "results = st.ttest_ind(\n",
    "    action,\n",
    "    sports,\n",
    "    equal_var=False)\n",
    "\n",
    "print('p-value:', results.pvalue)\n",
    "\n",
    "if(results.pvalue<alpha):\n",
    "     print(\"Reject the null hypothesis\")\n",
    "else:\n",
    "     print(\"Failed to reject null hypothesis\")"
   ]
  },
  {
   "cell_type": "markdown",
   "metadata": {},
   "source": [
    "- ***H0*** - User ratings are the same\n",
    "- ***H1*** - User ratings vary"
   ]
  },
  {
   "cell_type": "code",
   "execution_count": 42,
   "metadata": {},
   "outputs": [
    {
     "data": {
      "text/html": [
       "<div>\n",
       "<style scoped>\n",
       "    .dataframe tbody tr th:only-of-type {\n",
       "        vertical-align: middle;\n",
       "    }\n",
       "\n",
       "    .dataframe tbody tr th {\n",
       "        vertical-align: top;\n",
       "    }\n",
       "\n",
       "    .dataframe thead th {\n",
       "        text-align: right;\n",
       "    }\n",
       "</style>\n",
       "<table border=\"1\" class=\"dataframe\">\n",
       "  <thead>\n",
       "    <tr style=\"text-align: right;\">\n",
       "      <th></th>\n",
       "      <th>user_score</th>\n",
       "    </tr>\n",
       "    <tr>\n",
       "      <th>genre</th>\n",
       "      <th></th>\n",
       "    </tr>\n",
       "  </thead>\n",
       "  <tbody>\n",
       "    <tr>\n",
       "      <th>Action</th>\n",
       "      <td>7.093317</td>\n",
       "    </tr>\n",
       "    <tr>\n",
       "      <th>Sports</th>\n",
       "      <td>7.105653</td>\n",
       "    </tr>\n",
       "  </tbody>\n",
       "</table>\n",
       "</div>"
      ],
      "text/plain": [
       "        user_score\n",
       "genre             \n",
       "Action    7.093317\n",
       "Sports    7.105653"
      ]
     },
     "execution_count": 42,
     "metadata": {},
     "output_type": "execute_result"
    }
   ],
   "source": [
    "action_sport = data.query('genre in (\"Action\", \"Sports\") and (user_score != -5) and (critic_score != -5)')\n",
    "action_sport.pivot_table(index='genre', values='user_score', aggfunc='mean')"
   ]
  },
  {
   "cell_type": "markdown",
   "metadata": {},
   "source": [
    "- **We reject the hypothesis that the user rating on both platforms is the same.**\n",
    "- ***If you look, the difference is quite large. Users prefer action over sports***\n"
   ]
  },
  {
   "cell_type": "markdown",
   "metadata": {},
   "source": [
    "## Conclusion"
   ]
  },
  {
   "cell_type": "markdown",
   "metadata": {},
   "source": [
    "**We can conclude that in order for sales to go well, you need to sell games according to these criteria:**\n",
    "\n",
    "- To be popular in the European or American market, the game must be developed for Xbox One and PS4, but for Japan, the game on the 3DS would be best.\n",
    "- The best genre is Action. It suits everyone. Shooters are also popular for Europe and America, and role-play for Japan.\n",
    "- The ESRB rating must be either 17 years old for America and Europe or 13 years old for Japan. The Kids to Adults ranking will also be a good decision, as it is in second place in all countries.\n",
    "\n",
    "***There is no point in thinking about user ratings. But the reviews of critics are important.***\n",
    "\n",
    "*Europe user portrait:*\n",
    " - Best PS4 and PS3 platform\n",
    " - The best genre is Action and Shooter\n",
    " - ESRB rating must be: M or E\n",
    " \n",
    " *America User Portrait:*\n",
    " - Best PS4 and XboxONE platform\n",
    " - The best genre is Action and Shooter\n",
    " - ESRB rating must be: M or E\n",
    " \n",
    " *Japan user portrait:*\n",
    " - Best platform 3DS and PS3\n",
    " - The best genre is Role-Playing and Action\n",
    " - ESRB rating must be: T or E"
   ]
  }
 ],
 "metadata": {
  "ExecuteTimeLog": [
   {
    "duration": 1446,
    "start_time": "2022-10-03T00:09:59.451Z"
   },
   {
    "duration": 127,
    "start_time": "2022-10-03T00:10:00.899Z"
   },
   {
    "duration": 7,
    "start_time": "2022-10-03T00:10:20.787Z"
   },
   {
    "duration": 7,
    "start_time": "2022-10-03T00:10:29.940Z"
   },
   {
    "duration": 19,
    "start_time": "2022-10-03T00:10:30.921Z"
   },
   {
    "duration": 5,
    "start_time": "2022-10-03T00:10:32.857Z"
   },
   {
    "duration": 5,
    "start_time": "2022-10-03T00:10:33.462Z"
   },
   {
    "duration": 14,
    "start_time": "2022-10-03T00:10:33.907Z"
   },
   {
    "duration": 13,
    "start_time": "2022-10-03T00:10:44.074Z"
   },
   {
    "duration": 29,
    "start_time": "2022-10-03T00:11:27.858Z"
   },
   {
    "duration": 9,
    "start_time": "2022-10-03T00:12:37.561Z"
   },
   {
    "duration": 9,
    "start_time": "2022-10-03T00:12:59.796Z"
   },
   {
    "duration": 9,
    "start_time": "2022-10-03T00:13:06.346Z"
   },
   {
    "duration": 523,
    "start_time": "2022-10-03T00:13:31.228Z"
   },
   {
    "duration": 16,
    "start_time": "2022-10-03T00:13:59.902Z"
   },
   {
    "duration": 61,
    "start_time": "2022-10-03T00:14:24.469Z"
   },
   {
    "duration": 110,
    "start_time": "2022-10-03T00:14:53.327Z"
   },
   {
    "duration": 14,
    "start_time": "2022-10-03T00:15:06.695Z"
   },
   {
    "duration": 220,
    "start_time": "2022-10-03T00:15:07.023Z"
   },
   {
    "duration": 16,
    "start_time": "2022-10-03T00:15:45.885Z"
   },
   {
    "duration": 53,
    "start_time": "2022-10-03T00:16:01.873Z"
   },
   {
    "duration": 266,
    "start_time": "2022-10-03T00:17:06.784Z"
   },
   {
    "duration": 286,
    "start_time": "2022-10-03T00:17:50.972Z"
   },
   {
    "duration": 36,
    "start_time": "2022-10-03T00:18:17.808Z"
   },
   {
    "duration": 986,
    "start_time": "2022-10-03T00:18:30.929Z"
   },
   {
    "duration": 170,
    "start_time": "2022-10-03T00:18:43.396Z"
   },
   {
    "duration": 16,
    "start_time": "2022-10-03T00:19:11.748Z"
   },
   {
    "duration": 443,
    "start_time": "2022-10-03T00:19:19.485Z"
   },
   {
    "duration": 53,
    "start_time": "2022-10-03T00:20:24.386Z"
   },
   {
    "duration": 252,
    "start_time": "2022-10-03T00:20:50.366Z"
   },
   {
    "duration": 42,
    "start_time": "2022-10-03T00:22:54.121Z"
   },
   {
    "duration": 39,
    "start_time": "2022-10-03T00:23:11.656Z"
   },
   {
    "duration": 33,
    "start_time": "2022-10-03T00:23:20.562Z"
   },
   {
    "duration": 29,
    "start_time": "2022-10-03T00:23:28.501Z"
   },
   {
    "duration": 40,
    "start_time": "2022-10-03T00:23:33.595Z"
   },
   {
    "duration": 352,
    "start_time": "2022-10-03T00:23:55.294Z"
   },
   {
    "duration": 195,
    "start_time": "2022-10-03T00:24:06.741Z"
   },
   {
    "duration": 199,
    "start_time": "2022-10-03T00:24:15.482Z"
   },
   {
    "duration": 187,
    "start_time": "2022-10-03T00:24:27.610Z"
   },
   {
    "duration": 28,
    "start_time": "2022-10-03T00:25:21.069Z"
   },
   {
    "duration": 30,
    "start_time": "2022-10-03T00:25:56.294Z"
   },
   {
    "duration": 353,
    "start_time": "2022-10-03T00:26:08.643Z"
   },
   {
    "duration": 320,
    "start_time": "2022-10-03T00:26:18.012Z"
   },
   {
    "duration": 332,
    "start_time": "2022-10-03T00:26:29.212Z"
   },
   {
    "duration": 42,
    "start_time": "2022-10-03T00:27:20.955Z"
   },
   {
    "duration": 17,
    "start_time": "2022-10-03T00:28:11.422Z"
   },
   {
    "duration": 183,
    "start_time": "2022-10-03T00:30:25.723Z"
   },
   {
    "duration": 1303,
    "start_time": "2022-10-03T00:30:34.126Z"
   },
   {
    "duration": 88,
    "start_time": "2022-10-03T00:30:35.432Z"
   },
   {
    "duration": 7,
    "start_time": "2022-10-03T00:30:35.523Z"
   },
   {
    "duration": 27,
    "start_time": "2022-10-03T00:30:35.534Z"
   },
   {
    "duration": 29,
    "start_time": "2022-10-03T00:30:35.563Z"
   },
   {
    "duration": 24,
    "start_time": "2022-10-03T00:30:35.593Z"
   },
   {
    "duration": 22,
    "start_time": "2022-10-03T00:30:35.619Z"
   },
   {
    "duration": 11,
    "start_time": "2022-10-03T00:30:35.654Z"
   },
   {
    "duration": 403,
    "start_time": "2022-10-03T00:30:35.667Z"
   },
   {
    "duration": 15,
    "start_time": "2022-10-03T00:30:36.073Z"
   },
   {
    "duration": 64,
    "start_time": "2022-10-03T00:30:36.090Z"
   },
   {
    "duration": 13,
    "start_time": "2022-10-03T00:30:36.156Z"
   },
   {
    "duration": 225,
    "start_time": "2022-10-03T00:30:36.171Z"
   },
   {
    "duration": 17,
    "start_time": "2022-10-03T00:30:36.397Z"
   },
   {
    "duration": 57,
    "start_time": "2022-10-03T00:30:36.415Z"
   },
   {
    "duration": 685,
    "start_time": "2022-10-03T00:30:36.475Z"
   },
   {
    "duration": 424,
    "start_time": "2022-10-03T00:30:37.162Z"
   },
   {
    "duration": 280,
    "start_time": "2022-10-03T00:30:37.589Z"
   },
   {
    "duration": 15,
    "start_time": "2022-10-03T00:30:37.870Z"
   },
   {
    "duration": 37,
    "start_time": "2022-10-03T00:30:37.887Z"
   },
   {
    "duration": 187,
    "start_time": "2022-10-03T00:30:37.926Z"
   },
   {
    "duration": 193,
    "start_time": "2022-10-03T00:30:38.114Z"
   },
   {
    "duration": 15,
    "start_time": "2022-10-03T00:30:38.309Z"
   },
   {
    "duration": 387,
    "start_time": "2022-10-03T00:30:38.325Z"
   },
   {
    "duration": 44,
    "start_time": "2022-10-03T00:30:38.714Z"
   },
   {
    "duration": 243,
    "start_time": "2022-10-03T00:30:38.760Z"
   },
   {
    "duration": 19,
    "start_time": "2022-10-03T00:30:39.005Z"
   },
   {
    "duration": 48,
    "start_time": "2022-10-03T00:30:39.028Z"
   },
   {
    "duration": 333,
    "start_time": "2022-10-03T00:30:39.078Z"
   },
   {
    "duration": 213,
    "start_time": "2022-10-03T00:30:39.412Z"
   },
   {
    "duration": 193,
    "start_time": "2022-10-03T00:30:39.627Z"
   },
   {
    "duration": 196,
    "start_time": "2022-10-03T00:30:39.822Z"
   },
   {
    "duration": 142,
    "start_time": "2022-10-03T00:30:40.020Z"
   },
   {
    "duration": 293,
    "start_time": "2022-10-03T00:30:40.164Z"
   },
   {
    "duration": 6,
    "start_time": "2022-10-03T00:30:40.459Z"
   },
   {
    "duration": 27,
    "start_time": "2022-10-03T00:30:40.467Z"
   },
   {
    "duration": 12,
    "start_time": "2022-10-03T00:30:40.496Z"
   },
   {
    "duration": 10,
    "start_time": "2022-10-03T00:30:40.509Z"
   },
   {
    "duration": 46,
    "start_time": "2022-10-03T00:30:40.521Z"
   },
   {
    "duration": 13,
    "start_time": "2022-10-03T00:30:40.569Z"
   },
   {
    "duration": 10,
    "start_time": "2022-10-03T00:30:40.584Z"
   },
   {
    "duration": 31,
    "start_time": "2022-10-03T00:30:40.596Z"
   },
   {
    "duration": 7,
    "start_time": "2022-10-03T00:30:55.350Z"
   },
   {
    "duration": 5,
    "start_time": "2022-10-03T00:40:04.353Z"
   },
   {
    "duration": 1230,
    "start_time": "2022-10-03T01:02:45.165Z"
   },
   {
    "duration": 89,
    "start_time": "2022-10-03T01:02:46.397Z"
   },
   {
    "duration": 7,
    "start_time": "2022-10-03T01:02:46.489Z"
   },
   {
    "duration": 11,
    "start_time": "2022-10-03T01:02:46.498Z"
   },
   {
    "duration": 23,
    "start_time": "2022-10-03T01:02:46.511Z"
   },
   {
    "duration": 34,
    "start_time": "2022-10-03T01:02:46.536Z"
   },
   {
    "duration": 23,
    "start_time": "2022-10-03T01:02:46.572Z"
   },
   {
    "duration": 10,
    "start_time": "2022-10-03T01:02:46.598Z"
   },
   {
    "duration": 513,
    "start_time": "2022-10-03T01:02:46.610Z"
   },
   {
    "duration": 30,
    "start_time": "2022-10-03T01:02:47.126Z"
   },
   {
    "duration": 53,
    "start_time": "2022-10-03T01:02:47.158Z"
   },
   {
    "duration": 42,
    "start_time": "2022-10-03T01:02:47.214Z"
   },
   {
    "duration": 241,
    "start_time": "2022-10-03T01:02:47.258Z"
   },
   {
    "duration": 17,
    "start_time": "2022-10-03T01:02:47.502Z"
   },
   {
    "duration": 76,
    "start_time": "2022-10-03T01:02:47.520Z"
   },
   {
    "duration": 774,
    "start_time": "2022-10-03T01:02:47.599Z"
   },
   {
    "duration": 419,
    "start_time": "2022-10-03T01:02:48.377Z"
   },
   {
    "duration": 302,
    "start_time": "2022-10-03T01:02:48.798Z"
   },
   {
    "duration": 15,
    "start_time": "2022-10-03T01:02:49.102Z"
   },
   {
    "duration": 50,
    "start_time": "2022-10-03T01:02:49.119Z"
   },
   {
    "duration": 187,
    "start_time": "2022-10-03T01:02:49.171Z"
   },
   {
    "duration": 257,
    "start_time": "2022-10-03T01:02:49.361Z"
   },
   {
    "duration": 18,
    "start_time": "2022-10-03T01:02:49.620Z"
   },
   {
    "duration": 369,
    "start_time": "2022-10-03T01:02:49.654Z"
   },
   {
    "duration": 54,
    "start_time": "2022-10-03T01:02:50.027Z"
   },
   {
    "duration": 363,
    "start_time": "2022-10-03T01:02:50.083Z"
   },
   {
    "duration": 24,
    "start_time": "2022-10-03T01:02:50.448Z"
   },
   {
    "duration": 36,
    "start_time": "2022-10-03T01:02:50.477Z"
   },
   {
    "duration": 412,
    "start_time": "2022-10-03T01:02:50.516Z"
   },
   {
    "duration": 202,
    "start_time": "2022-10-03T01:02:50.930Z"
   },
   {
    "duration": 291,
    "start_time": "2022-10-03T01:02:51.135Z"
   },
   {
    "duration": 289,
    "start_time": "2022-10-03T01:02:51.429Z"
   },
   {
    "duration": 163,
    "start_time": "2022-10-03T01:02:51.721Z"
   },
   {
    "duration": 348,
    "start_time": "2022-10-03T01:02:51.885Z"
   },
   {
    "duration": 21,
    "start_time": "2022-10-03T01:02:52.235Z"
   },
   {
    "duration": 52,
    "start_time": "2022-10-03T01:02:52.258Z"
   },
   {
    "duration": 36,
    "start_time": "2022-10-03T01:02:52.312Z"
   },
   {
    "duration": 5,
    "start_time": "2022-10-03T01:02:52.355Z"
   },
   {
    "duration": 32,
    "start_time": "2022-10-03T01:02:52.362Z"
   },
   {
    "duration": 16,
    "start_time": "2022-10-03T01:02:52.396Z"
   },
   {
    "duration": 40,
    "start_time": "2022-10-03T01:02:52.414Z"
   },
   {
    "duration": 25,
    "start_time": "2022-10-03T01:02:52.457Z"
   }
  ],
  "kernelspec": {
   "display_name": "Python 3 (ipykernel)",
   "language": "python",
   "name": "python3"
  },
  "language_info": {
   "codemirror_mode": {
    "name": "ipython",
    "version": 3
   },
   "file_extension": ".py",
   "mimetype": "text/x-python",
   "name": "python",
   "nbconvert_exporter": "python",
   "pygments_lexer": "ipython3",
   "version": "3.9.5"
  },
  "toc": {
   "base_numbering": 1,
   "nav_menu": {},
   "number_sections": true,
   "sideBar": true,
   "skip_h1_title": false,
   "title_cell": "Table of Contents",
   "title_sidebar": "Contents",
   "toc_cell": false,
   "toc_position": {},
   "toc_section_display": true,
   "toc_window_display": false
  }
 },
 "nbformat": 4,
 "nbformat_minor": 2
}
